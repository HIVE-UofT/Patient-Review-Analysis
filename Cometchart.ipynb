{
 "cells": [
  {
   "cell_type": "code",
   "execution_count": 2,
   "metadata": {},
   "outputs": [
    {
     "name": "stdout",
     "output_type": "stream",
     "text": [
      "Collecting altair\n",
      "  Downloading altair-5.3.0-py3-none-any.whl.metadata (9.2 kB)\n",
      "Requirement already satisfied: jinja2 in c:\\users\\13980611\\anaconda3\\lib\\site-packages (from altair) (3.1.3)\n",
      "Requirement already satisfied: jsonschema>=3.0 in c:\\users\\13980611\\anaconda3\\lib\\site-packages (from altair) (3.2.0)\n",
      "Requirement already satisfied: numpy in c:\\users\\13980611\\anaconda3\\lib\\site-packages (from altair) (1.22.4)\n",
      "Requirement already satisfied: packaging in c:\\users\\13980611\\anaconda3\\lib\\site-packages (from altair) (21.0)\n",
      "Requirement already satisfied: pandas>=0.25 in c:\\users\\13980611\\anaconda3\\lib\\site-packages (from altair) (2.2.0)\n",
      "Requirement already satisfied: toolz in c:\\users\\13980611\\anaconda3\\lib\\site-packages (from altair) (0.11.1)\n",
      "Requirement already satisfied: typing-extensions>=4.0.1 in c:\\users\\13980611\\anaconda3\\lib\\site-packages (from altair) (4.9.0)\n",
      "Requirement already satisfied: attrs>=17.4.0 in c:\\users\\13980611\\anaconda3\\lib\\site-packages (from jsonschema>=3.0->altair) (21.2.0)\n",
      "Requirement already satisfied: pyrsistent>=0.14.0 in c:\\users\\13980611\\anaconda3\\lib\\site-packages (from jsonschema>=3.0->altair) (0.18.0)\n",
      "Requirement already satisfied: setuptools in c:\\users\\13980611\\anaconda3\\lib\\site-packages (from jsonschema>=3.0->altair) (69.0.3)\n",
      "Requirement already satisfied: six>=1.11.0 in c:\\users\\13980611\\anaconda3\\lib\\site-packages (from jsonschema>=3.0->altair) (1.16.0)\n",
      "Requirement already satisfied: python-dateutil>=2.8.2 in c:\\users\\13980611\\anaconda3\\lib\\site-packages (from pandas>=0.25->altair) (2.8.2)\n",
      "Requirement already satisfied: pytz>=2020.1 in c:\\users\\13980611\\anaconda3\\lib\\site-packages (from pandas>=0.25->altair) (2021.3)\n",
      "Requirement already satisfied: tzdata>=2022.7 in c:\\users\\13980611\\anaconda3\\lib\\site-packages (from pandas>=0.25->altair) (2023.3)\n",
      "Requirement already satisfied: MarkupSafe>=2.0 in c:\\users\\13980611\\anaconda3\\lib\\site-packages (from jinja2->altair) (2.1.5)\n",
      "Requirement already satisfied: pyparsing>=2.0.2 in c:\\users\\13980611\\anaconda3\\lib\\site-packages (from packaging->altair) (3.0.4)\n",
      "Downloading altair-5.3.0-py3-none-any.whl (857 kB)\n",
      "   ---------------------------------------- 857.8/857.8 kB 4.2 MB/s eta 0:00:00\n",
      "Installing collected packages: altair\n",
      "Successfully installed altair-5.3.0\n"
     ]
    },
    {
     "name": "stderr",
     "output_type": "stream",
     "text": [
      "DEPRECATION: pyodbc 4.0.0-unsupported has a non-standard version number. pip 24.0 will enforce this behaviour change. A possible replacement is to upgrade to a newer version of pyodbc or contact the author to suggest that they release a version with a conforming version number. Discussion can be found at https://github.com/pypa/pip/issues/12063\n",
      "\n",
      "[notice] A new release of pip is available: 23.3.2 -> 24.0\n",
      "[notice] To update, run: python.exe -m pip install --upgrade pip\n"
     ]
    }
   ],
   "source": [
    "!pip install altair"
   ]
  },
  {
   "cell_type": "code",
   "execution_count": 2,
   "metadata": {},
   "outputs": [
    {
     "name": "stderr",
     "output_type": "stream",
     "text": [
      "c:\\Users\\13980611\\anaconda3\\lib\\site-packages\\pandas\\core\\computation\\expressions.py:21: UserWarning: Pandas requires version '2.8.4' or newer of 'numexpr' (version '2.7.3' currently installed).\n",
      "  from pandas.core.computation.check import NUMEXPR_INSTALLED\n"
     ]
    }
   ],
   "source": [
    "import pandas as pd\n",
    "import requests #to read the URLs\n",
    "import numpy as np\n",
    "import altair as alt #visualziation package\n",
    "\n",
    "\n"
   ]
  },
  {
   "cell_type": "code",
   "execution_count": 4,
   "metadata": {},
   "outputs": [
    {
     "data": {
      "text/html": [
       "<div>\n",
       "<style scoped>\n",
       "    .dataframe tbody tr th:only-of-type {\n",
       "        vertical-align: middle;\n",
       "    }\n",
       "\n",
       "    .dataframe tbody tr th {\n",
       "        vertical-align: top;\n",
       "    }\n",
       "\n",
       "    .dataframe thead th {\n",
       "        text-align: right;\n",
       "    }\n",
       "</style>\n",
       "<table border=\"1\" class=\"dataframe\">\n",
       "  <thead>\n",
       "    <tr style=\"text-align: right;\">\n",
       "      <th></th>\n",
       "      <th>Period</th>\n",
       "      <th>Type</th>\n",
       "      <th>Code</th>\n",
       "      <th>Value</th>\n",
       "    </tr>\n",
       "  </thead>\n",
       "  <tbody>\n",
       "    <tr>\n",
       "      <th>0</th>\n",
       "      <td>NonCOVID</td>\n",
       "      <td>General</td>\n",
       "      <td>respect to patient</td>\n",
       "      <td>16.28</td>\n",
       "    </tr>\n",
       "    <tr>\n",
       "      <th>1</th>\n",
       "      <td>NonCOVID</td>\n",
       "      <td>General</td>\n",
       "      <td>nurse/nurse aide</td>\n",
       "      <td>24.61</td>\n",
       "    </tr>\n",
       "    <tr>\n",
       "      <th>2</th>\n",
       "      <td>NonCOVID</td>\n",
       "      <td>General</td>\n",
       "      <td>dietary/service</td>\n",
       "      <td>51.98</td>\n",
       "    </tr>\n",
       "    <tr>\n",
       "      <th>3</th>\n",
       "      <td>COVID</td>\n",
       "      <td>General</td>\n",
       "      <td>information/education</td>\n",
       "      <td>40.75</td>\n",
       "    </tr>\n",
       "    <tr>\n",
       "      <th>4</th>\n",
       "      <td>COVID</td>\n",
       "      <td>General</td>\n",
       "      <td>families/friends</td>\n",
       "      <td>50.11</td>\n",
       "    </tr>\n",
       "  </tbody>\n",
       "</table>\n",
       "</div>"
      ],
      "text/plain": [
       "      Period      Type                     Code  Value\n",
       "0   NonCOVID  General       respect to patient   16.28\n",
       "1   NonCOVID  General         nurse/nurse aide   24.61\n",
       "2   NonCOVID  General          dietary/service   51.98\n",
       "3      COVID  General    information/education   40.75\n",
       "4      COVID  General         families/friends   50.11"
      ]
     },
     "execution_count": 4,
     "metadata": {},
     "output_type": "execute_result"
    }
   ],
   "source": [
    "df = pd.read_csv(\"neg_comet.csv\")\n",
    "\n",
    "df.head()\n"
   ]
  },
  {
   "cell_type": "code",
   "execution_count": 5,
   "metadata": {},
   "outputs": [],
   "source": [
    "type_include = ['Emergency', 'General', 'Maternity', 'Inpatient']\n",
    "code_include = ['access/coord of care', 'emergency', 'radiology', 'discharge']\n",
    "df = df[df['Value'].notna()]\n",
    "df = df.query('Type in @type_include and Code in @code_include')"
   ]
  },
  {
   "cell_type": "code",
   "execution_count": 4,
   "metadata": {},
   "outputs": [],
   "source": [
    "df = pd.read_csv(\"https://raw.githubusercontent.com/HIVE-UofT/Health-Data-Visualization/main/Lecture07/13100098.csv\")\n",
    "geo_exclude = ['Canada (excluding territories)', 'Quebec']\n",
    "df = df.rename(columns={'Age group': 'age_group'})\n",
    "df['age_group'] = df['age_group'].replace({'18 to 34 years':'18-34 yrs', '35 to 49 years':'35-49 yrs', '50 to 64 years':'50-64 yrs', 'Total, 12 years and over': 'Total', '65 years and over':'>=65 yrs'})\n",
    "df = df.query(' GEO not in @geo_exclude and Characteristics==\"Percent\" and Sex==\"Both sexes\" and Indicators == \"Suicidal thoughts (15 years and over)\" and age_group!=\"12 to 17 years\" and VALUE>0')\n",
    "df = df[['REF_DATE', 'GEO', 'Indicators', 'VALUE', 'Sex','age_group']]\n",
    "df = df[df['VALUE'].notna()]"
   ]
  },
  {
   "cell_type": "code",
   "execution_count": 6,
   "metadata": {},
   "outputs": [
    {
     "data": {
      "text/html": [
       "<div>\n",
       "<style scoped>\n",
       "    .dataframe tbody tr th:only-of-type {\n",
       "        vertical-align: middle;\n",
       "    }\n",
       "\n",
       "    .dataframe tbody tr th {\n",
       "        vertical-align: top;\n",
       "    }\n",
       "\n",
       "    .dataframe thead th {\n",
       "        text-align: right;\n",
       "    }\n",
       "</style>\n",
       "<table border=\"1\" class=\"dataframe\">\n",
       "  <thead>\n",
       "    <tr style=\"text-align: right;\">\n",
       "      <th></th>\n",
       "      <th>Period</th>\n",
       "      <th>Type</th>\n",
       "      <th>Code</th>\n",
       "      <th>Value</th>\n",
       "    </tr>\n",
       "  </thead>\n",
       "  <tbody>\n",
       "    <tr>\n",
       "      <th>98</th>\n",
       "      <td>NC</td>\n",
       "      <td>Emergency</td>\n",
       "      <td>P/T</td>\n",
       "      <td>65.62</td>\n",
       "    </tr>\n",
       "    <tr>\n",
       "      <th>100</th>\n",
       "      <td>NC</td>\n",
       "      <td>Emergency</td>\n",
       "      <td>Rad</td>\n",
       "      <td>53.35</td>\n",
       "    </tr>\n",
       "    <tr>\n",
       "      <th>106</th>\n",
       "      <td>C</td>\n",
       "      <td>Emergency</td>\n",
       "      <td>Rad</td>\n",
       "      <td>44.41</td>\n",
       "    </tr>\n",
       "    <tr>\n",
       "      <th>109</th>\n",
       "      <td>NC</td>\n",
       "      <td>Emergency</td>\n",
       "      <td>I/E</td>\n",
       "      <td>50.0</td>\n",
       "    </tr>\n",
       "    <tr>\n",
       "      <th>110</th>\n",
       "      <td>NC</td>\n",
       "      <td>Emergency</td>\n",
       "      <td>Lab</td>\n",
       "      <td>50.0</td>\n",
       "    </tr>\n",
       "  </tbody>\n",
       "</table>\n",
       "</div>"
      ],
      "text/plain": [
       "    Period       Type Code  Value\n",
       "98      NC  Emergency  P/T  65.62\n",
       "100     NC  Emergency  Rad  53.35\n",
       "106      C  Emergency  Rad  44.41\n",
       "109     NC  Emergency  I/E   50.0\n",
       "110     NC  Emergency  Lab   50.0"
      ]
     },
     "execution_count": 6,
     "metadata": {},
     "output_type": "execute_result"
    }
   ],
   "source": [
    "df = pd.read_csv(\"neg_comet.csv\")\n",
    "\n",
    "df['Type'] = df['Type'].astype(str).str.strip()\n",
    "df['Period'] = df['Period'].astype(str).str.strip()\n",
    "df['Code'] = df['Code'].astype(str).str.strip()\n",
    "df['Value'] = df['Value'].astype(str).str.strip()\n",
    "df = df[df['Value'].notna()]\n",
    "df['Code'] = df['Code'].replace({'information/education':'I/E', 'medication/prescription':'M/P', 'infection prevention & control': 'IC', 'families/friends': 'F/F', 'parking/transport': 'P/T', 'social services': 'SS', 'laboratory': 'Lab', 'radiology': 'Rad'})\n",
    "\n",
    "df['Period'] = df['Period'].replace({'COVID': 'C', 'NonCOVID': 'NC'})\n",
    "\n",
    "code_exclude = ['cardiology', 'positive recognition', 'respect to patient', 'religion', 'nurse/nurse aide', 'general comment', 'icu/ccu', 'housekeeping/room', 'physical comfort', 'emotional support', 'emergency', 'dietary/service', 'discharge', 'access/coord of care', 'admit/registration', 'billing/accounting', 'continuity/transition']\n",
    "#code_exclude = ['dietary/service', 'emergency', 'access/coord of care', 'admit/registration', 'positive recognition', 'billing/accounting', 'general comment', 'respect to patient', 'religion', 'discharge', 'radiology', 'laboratory', 'parking/transport', 'infection prevention & control', 'cardiology', 'icu/ccu']\n",
    "type_exclude = ['Rehabilitation', 'Service Alert', 'Outpatient', 'General', 'Maternity']\n",
    "\n",
    "df = df.query('Code not in @code_exclude and Type not in @type_exclude')\n",
    "\n",
    "df.head()\n"
   ]
  },
  {
   "cell_type": "code",
   "execution_count": 7,
   "metadata": {},
   "outputs": [],
   "source": [
    "fig = (\n",
    "    alt.Chart(df)\n",
    "    .transform_pivot(\"Period\", value=\"Value\", groupby=[\"Type\", \"Code\"])\n",
    "    .transform_fold([\"NC\", \"C\"], as_=[\"Period\", \"Value\"])  # Changed from \"NonCOVID\" and \"COVID\" to \"NC\" and \"C\"\n",
    "    .transform_calculate(calculate=\"datum['C'] - datum['NC']\", as_=\"delta\")\n",
    "    .mark_trail()\n",
    "    .encode(\n",
    "        x=alt.X('Period:N', title=None),\n",
    "        y=alt.Y('Type:N', title=''),\n",
    "        size=alt.Size('Value:Q', scale=alt.Scale(range=[0, 10]), legend=alt.Legend(title='Value', orient='top')),\n",
    "        color=alt.Color('delta:Q', scale=alt.Scale(domainMid=0, scheme='redblue', reverse=True), legend=alt.Legend(title='Delta', orient='top')),\n",
    "        tooltip=alt.Tooltip(['Period:N', 'Value:Q']),\n",
    "        column=alt.Column(\n",
    "            'Code:N', \n",
    "            title='', \n",
    "            header=alt.Header(\n",
    "                labelAlign='left', \n",
    "                labelAnchor= 'middle'\n",
    "            )\n",
    "        )\n",
    "    )\n",
    "    .configure_view(stroke=None)\n",
    "    .configure_legend(labelFontSize=20, titleFontSize=18)\n",
    "    .configure_title(fontSize=20)\n",
    "    .configure_axis(labelFontSize=20, titleFontSize=18)\n",
    "    .configure_header(labelFontSize=18)\n",
    "    .properties(title='', width=70, height=380)\n",
    ")"
   ]
  },
  {
   "cell_type": "code",
   "execution_count": 8,
   "metadata": {},
   "outputs": [
    {
     "data": {
      "text/html": [
       "\n",
       "<style>\n",
       "  #altair-viz-0f111c58f343463f83e46c5823c5b425.vega-embed {\n",
       "    width: 100%;\n",
       "    display: flex;\n",
       "  }\n",
       "\n",
       "  #altair-viz-0f111c58f343463f83e46c5823c5b425.vega-embed details,\n",
       "  #altair-viz-0f111c58f343463f83e46c5823c5b425.vega-embed details summary {\n",
       "    position: relative;\n",
       "  }\n",
       "</style>\n",
       "<div id=\"altair-viz-0f111c58f343463f83e46c5823c5b425\"></div>\n",
       "<script type=\"text/javascript\">\n",
       "  var VEGA_DEBUG = (typeof VEGA_DEBUG == \"undefined\") ? {} : VEGA_DEBUG;\n",
       "  (function(spec, embedOpt){\n",
       "    let outputDiv = document.currentScript.previousElementSibling;\n",
       "    if (outputDiv.id !== \"altair-viz-0f111c58f343463f83e46c5823c5b425\") {\n",
       "      outputDiv = document.getElementById(\"altair-viz-0f111c58f343463f83e46c5823c5b425\");\n",
       "    }\n",
       "    const paths = {\n",
       "      \"vega\": \"https://cdn.jsdelivr.net/npm/vega@5?noext\",\n",
       "      \"vega-lib\": \"https://cdn.jsdelivr.net/npm/vega-lib?noext\",\n",
       "      \"vega-lite\": \"https://cdn.jsdelivr.net/npm/vega-lite@5.17.0?noext\",\n",
       "      \"vega-embed\": \"https://cdn.jsdelivr.net/npm/vega-embed@6?noext\",\n",
       "    };\n",
       "\n",
       "    function maybeLoadScript(lib, version) {\n",
       "      var key = `${lib.replace(\"-\", \"\")}_version`;\n",
       "      return (VEGA_DEBUG[key] == version) ?\n",
       "        Promise.resolve(paths[lib]) :\n",
       "        new Promise(function(resolve, reject) {\n",
       "          var s = document.createElement('script');\n",
       "          document.getElementsByTagName(\"head\")[0].appendChild(s);\n",
       "          s.async = true;\n",
       "          s.onload = () => {\n",
       "            VEGA_DEBUG[key] = version;\n",
       "            return resolve(paths[lib]);\n",
       "          };\n",
       "          s.onerror = () => reject(`Error loading script: ${paths[lib]}`);\n",
       "          s.src = paths[lib];\n",
       "        });\n",
       "    }\n",
       "\n",
       "    function showError(err) {\n",
       "      outputDiv.innerHTML = `<div class=\"error\" style=\"color:red;\">${err}</div>`;\n",
       "      throw err;\n",
       "    }\n",
       "\n",
       "    function displayChart(vegaEmbed) {\n",
       "      vegaEmbed(outputDiv, spec, embedOpt)\n",
       "        .catch(err => showError(`Javascript Error: ${err.message}<br>This usually means there's a typo in your chart specification. See the javascript console for the full traceback.`));\n",
       "    }\n",
       "\n",
       "    if(typeof define === \"function\" && define.amd) {\n",
       "      requirejs.config({paths});\n",
       "      require([\"vega-embed\"], displayChart, err => showError(`Error loading script: ${err.message}`));\n",
       "    } else {\n",
       "      maybeLoadScript(\"vega\", \"5\")\n",
       "        .then(() => maybeLoadScript(\"vega-lite\", \"5.17.0\"))\n",
       "        .then(() => maybeLoadScript(\"vega-embed\", \"6\"))\n",
       "        .catch(showError)\n",
       "        .then(() => displayChart(vegaEmbed));\n",
       "    }\n",
       "  })({\"config\": {\"view\": {\"continuousWidth\": 300, \"continuousHeight\": 300, \"stroke\": null}, \"axis\": {\"labelFontSize\": 20, \"titleFontSize\": 18}, \"header\": {\"labelFontSize\": 18}, \"legend\": {\"labelFontSize\": 20, \"titleFontSize\": 18}, \"title\": {\"fontSize\": 20}}, \"data\": {\"name\": \"data-6f9db5719fbc6fef698ffcbab62319e7\"}, \"mark\": {\"type\": \"trail\"}, \"encoding\": {\"color\": {\"field\": \"delta\", \"legend\": {\"orient\": \"top\", \"title\": \"Delta\"}, \"scale\": {\"domainMid\": 0, \"reverse\": true, \"scheme\": \"redblue\"}, \"type\": \"quantitative\"}, \"column\": {\"field\": \"Code\", \"header\": {\"labelAlign\": \"left\", \"labelAnchor\": \"middle\"}, \"title\": \"\", \"type\": \"nominal\"}, \"size\": {\"field\": \"Value\", \"legend\": {\"orient\": \"top\", \"title\": \"Value\"}, \"scale\": {\"range\": [0, 10]}, \"type\": \"quantitative\"}, \"tooltip\": [{\"field\": \"Period\", \"type\": \"nominal\"}, {\"field\": \"Value\", \"type\": \"quantitative\"}], \"x\": {\"field\": \"Period\", \"title\": null, \"type\": \"nominal\"}, \"y\": {\"field\": \"Type\", \"title\": \"\", \"type\": \"nominal\"}}, \"height\": 380, \"title\": \"\", \"transform\": [{\"pivot\": \"Period\", \"value\": \"Value\", \"groupby\": [\"Type\", \"Code\"]}, {\"fold\": [\"NC\", \"C\"], \"as\": [\"Period\", \"Value\"]}, {\"calculate\": \"datum['C'] - datum['NC']\", \"as\": \"delta\"}], \"width\": 70, \"$schema\": \"https://vega.github.io/schema/vega-lite/v5.17.0.json\", \"datasets\": {\"data-6f9db5719fbc6fef698ffcbab62319e7\": [{\"Period\": \"NC\", \"Type\": \"Emergency\", \"Code\": \"P/T\", \"Value\": \"65.62\"}, {\"Period\": \"NC\", \"Type\": \"Emergency\", \"Code\": \"Rad\", \"Value\": \"53.35\"}, {\"Period\": \"C\", \"Type\": \"Emergency\", \"Code\": \"Rad\", \"Value\": \"44.41\"}, {\"Period\": \"NC\", \"Type\": \"Emergency\", \"Code\": \"I/E\", \"Value\": \"50.0\"}, {\"Period\": \"NC\", \"Type\": \"Emergency\", \"Code\": \"Lab\", \"Value\": \"50.0\"}, {\"Period\": \"NC\", \"Type\": \"Emergency\", \"Code\": \"M/P\", \"Value\": \"56.89\"}, {\"Period\": \"C\", \"Type\": \"Emergency\", \"Code\": \"M/P\", \"Value\": \"48.64\"}, {\"Period\": \"C\", \"Type\": \"Emergency\", \"Code\": \"I/E\", \"Value\": \"47.63\"}, {\"Period\": \"C\", \"Type\": \"Emergency\", \"Code\": \"Lab\", \"Value\": \"52.94\"}, {\"Period\": \"C\", \"Type\": \"Emergency\", \"Code\": \"IC\", \"Value\": \"48.52\"}, {\"Period\": \"C\", \"Type\": \"Emergency\", \"Code\": \"P/T\", \"Value\": \"68.57\"}, {\"Period\": \"NC\", \"Type\": \"Emergency\", \"Code\": \"SS\", \"Value\": \"58.33\"}, {\"Period\": \"NC\", \"Type\": \"Emergency\", \"Code\": \"F/F\", \"Value\": \"56.34\"}, {\"Period\": \"C\", \"Type\": \"Emergency\", \"Code\": \"F/F\", \"Value\": \"55.77\"}, {\"Period\": \"NC\", \"Type\": \"Emergency\", \"Code\": \"IC\", \"Value\": \"75.0\"}, {\"Period\": \"NC\", \"Type\": \"Inpatient\", \"Code\": \"M/P\", \"Value\": \"57.63\"}, {\"Period\": \"C\", \"Type\": \"Inpatient\", \"Code\": \"Rad\", \"Value\": \"53.66\"}, {\"Period\": \"NC\", \"Type\": \"Inpatient\", \"Code\": \"IC\", \"Value\": \"60.47\"}, {\"Period\": \"C\", \"Type\": \"Inpatient\", \"Code\": \"I/E\", \"Value\": \"43.82\"}, {\"Period\": \"C\", \"Type\": \"Inpatient\", \"Code\": \"M/P\", \"Value\": \"60.9\"}, {\"Period\": \"NC\", \"Type\": \"Inpatient\", \"Code\": \"I/E\", \"Value\": \"46.61\"}, {\"Period\": \"NC\", \"Type\": \"Inpatient\", \"Code\": \"F/F\", \"Value\": \"48.48\"}, {\"Period\": \"NC\", \"Type\": \"Inpatient\", \"Code\": \"Lab\", \"Value\": \"57.58\"}, {\"Period\": \"C\", \"Type\": \"Inpatient\", \"Code\": \"Lab\", \"Value\": \"43.75\"}, {\"Period\": \"NC\", \"Type\": \"Inpatient\", \"Code\": \"Rad\", \"Value\": \"45.33\"}, {\"Period\": \"C\", \"Type\": \"Inpatient\", \"Code\": \"IC\", \"Value\": \"50.0\"}, {\"Period\": \"NC\", \"Type\": \"Inpatient\", \"Code\": \"P/T\", \"Value\": \"55.88\"}, {\"Period\": \"C\", \"Type\": \"Inpatient\", \"Code\": \"F/F\", \"Value\": \"45.11\"}, {\"Period\": \"C\", \"Type\": \"Inpatient\", \"Code\": \"P/T\", \"Value\": \"81.82\"}, {\"Period\": \"C\", \"Type\": \"Inpatient\", \"Code\": \"SS\", \"Value\": \"62.5\"}, {\"Period\": \"NC\", \"Type\": \"Inpatient\", \"Code\": \"SS\", \"Value\": \"33.33\"}, {\"Period\": \"NC\", \"Type\": \"Day Surgery\", \"Code\": \"I/E\", \"Value\": \"51.56\"}, {\"Period\": \"NC\", \"Type\": \"Psychiatric\", \"Code\": \"I/E\", \"Value\": \"36.91\"}, {\"Period\": \"NC\", \"Type\": \"Psychiatric\", \"Code\": \"M/P\", \"Value\": \"65.38\"}, {\"Period\": \"NC\", \"Type\": \"Pediatric\", \"Code\": \"I/E\", \"Value\": \"47.06\"}, {\"Period\": \"NC\", \"Type\": \"Pediatric\", \"Code\": \"M/P\", \"Value\": \"52.78\"}, {\"Period\": \"NC\", \"Type\": \"Pediatric\", \"Code\": \"Rad\", \"Value\": \"55.0\"}, {\"Period\": \"C\", \"Type\": \"Psychiatric\", \"Code\": \"IC\", \"Value\": \"35.29\"}, {\"Period\": \"C\", \"Type\": \"Psychiatric\", \"Code\": \"M/P\", \"Value\": \"43.59\"}, {\"Period\": \"NC\", \"Type\": \"Psychiatric\", \"Code\": \"F/F\", \"Value\": \"55.22\"}, {\"Period\": \"C\", \"Type\": \"Psychiatric\", \"Code\": \"I/E\", \"Value\": \"37.6\"}, {\"Period\": \"C\", \"Type\": \"Psychiatric\", \"Code\": \"Lab\", \"Value\": \"66.67\"}, {\"Period\": \"C\", \"Type\": \"Psychiatric\", \"Code\": \"SS\", \"Value\": \"37.5\"}, {\"Period\": \"NC\", \"Type\": \"Psychiatric\", \"Code\": \"Rad\", \"Value\": \"56.25\"}, {\"Period\": \"C\", \"Type\": \"Psychiatric\", \"Code\": \"F/F\", \"Value\": \"55.56\"}, {\"Period\": \"C\", \"Type\": \"Pediatric\", \"Code\": \"Rad\", \"Value\": \"58.33\"}, {\"Period\": \"C\", \"Type\": \"Pediatric\", \"Code\": \"I/E\", \"Value\": \"40.82\"}, {\"Period\": \"NC\", \"Type\": \"Psychiatric\", \"Code\": \"IC\", \"Value\": \"61.29\"}, {\"Period\": \"NC\", \"Type\": \"Pediatric\", \"Code\": \"F/F\", \"Value\": \"66.67\"}, {\"Period\": \"NC\", \"Type\": \"Pediatric\", \"Code\": \"Lab\", \"Value\": \"55.56\"}, {\"Period\": \"NC\", \"Type\": \"Pediatric\", \"Code\": \"P/T\", \"Value\": \"75.0\"}, {\"Period\": \"C\", \"Type\": \"Pediatric\", \"Code\": \"Lab\", \"Value\": \"71.43\"}, {\"Period\": \"C\", \"Type\": \"Pediatric\", \"Code\": \"F/F\", \"Value\": \"100.0\"}, {\"Period\": \"NC\", \"Type\": \"Psychiatric\", \"Code\": \"Lab\", \"Value\": \"25.0\"}, {\"Period\": \"C\", \"Type\": \"Psychiatric\", \"Code\": \"P/T\", \"Value\": \"33.33\"}, {\"Period\": \"NC\", \"Type\": \"Psychiatric\", \"Code\": \"P/T\", \"Value\": \"72.73\"}, {\"Period\": \"C\", \"Type\": \"Psychiatric\", \"Code\": \"Rad\", \"Value\": \"22.22\"}, {\"Period\": \"C\", \"Type\": \"Pediatric\", \"Code\": \"M/P\", \"Value\": \"75.0\"}, {\"Period\": \"C\", \"Type\": \"Emergency\", \"Code\": \"SS\", \"Value\": \"50.0\"}, {\"Period\": \"C\", \"Type\": \"Day Surgery\", \"Code\": \"I/E\", \"Value\": \"38.3\"}, {\"Period\": \"NC\", \"Type\": \"Medical/Surgical\", \"Code\": \"M/P\", \"Value\": \"55.0\"}, {\"Period\": \"C\", \"Type\": \"Medical/Surgical\", \"Code\": \"F/F\", \"Value\": \"58.33\"}, {\"Period\": \"C\", \"Type\": \"Medical/Surgical\", \"Code\": \"I/E\", \"Value\": \"66.67\"}, {\"Period\": \"C\", \"Type\": \"Day Surgery\", \"Code\": \"F/F\", \"Value\": \"40.0\"}, {\"Period\": \"NC\", \"Type\": \"Medical/Surgical\", \"Code\": \"I/E\", \"Value\": \"33.33\"}, {\"Period\": \"NC\", \"Type\": \"Day Surgery\", \"Code\": \"F/F\", \"Value\": \"36.36\"}, {\"Period\": \"NC\", \"Type\": \"Day Surgery\", \"Code\": \"IC\", \"Value\": \"0.0\"}, {\"Period\": \"NC\", \"Type\": \"Day Surgery\", \"Code\": \"M/P\", \"Value\": \"70.0\"}, {\"Period\": \"NC\", \"Type\": \"Day Surgery\", \"Code\": \"Rad\", \"Value\": \"66.67\"}, {\"Period\": \"C\", \"Type\": \"Day Surgery\", \"Code\": \"M/P\", \"Value\": \"33.33\"}, {\"Period\": \"C\", \"Type\": \"Medical/Surgical\", \"Code\": \"M/P\", \"Value\": \"55.56\"}, {\"Period\": \"NC\", \"Type\": \"Medical/Surgical\", \"Code\": \"Rad\", \"Value\": \"66.67\"}, {\"Period\": \"NC\", \"Type\": \"Medical/Surgical\", \"Code\": \"F/F\", \"Value\": \"62.5\"}]}}, {\"mode\": \"vega-lite\"});\n",
       "</script>"
      ],
      "text/plain": [
       "alt.Chart(...)"
      ]
     },
     "execution_count": 8,
     "metadata": {},
     "output_type": "execute_result"
    },
    {
     "ename": "",
     "evalue": "",
     "output_type": "error",
     "traceback": [
      "\u001b[1;31mThe Kernel crashed while executing code in the current cell or a previous cell. \n",
      "\u001b[1;31mPlease review the code in the cell(s) to identify a possible cause of the failure. \n",
      "\u001b[1;31mClick <a href='https://aka.ms/vscodeJupyterKernelCrash'>here</a> for more info. \n",
      "\u001b[1;31mView Jupyter <a href='command:jupyter.viewOutput'>log</a> for further details."
     ]
    }
   ],
   "source": [
    "fig"
   ]
  },
  {
   "cell_type": "code",
   "execution_count": null,
   "metadata": {},
   "outputs": [],
   "source": []
  }
 ],
 "metadata": {
  "kernelspec": {
   "display_name": "base",
   "language": "python",
   "name": "python3"
  },
  "language_info": {
   "codemirror_mode": {
    "name": "ipython",
    "version": 3
   },
   "file_extension": ".py",
   "mimetype": "text/x-python",
   "name": "python",
   "nbconvert_exporter": "python",
   "pygments_lexer": "ipython3",
   "version": "3.9.7"
  }
 },
 "nbformat": 4,
 "nbformat_minor": 2
}
