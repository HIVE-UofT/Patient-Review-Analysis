{
 "cells": [
  {
   "cell_type": "code",
   "execution_count": 1,
   "metadata": {},
   "outputs": [
    {
     "name": "stderr",
     "output_type": "stream",
     "text": [
      "c:\\Users\\13980611\\anaconda3\\lib\\site-packages\\pandas\\core\\computation\\expressions.py:21: UserWarning: Pandas requires version '2.8.4' or newer of 'numexpr' (version '2.7.3' currently installed).\n",
      "  from pandas.core.computation.check import NUMEXPR_INSTALLED\n"
     ]
    },
    {
     "data": {
      "text/html": [
       "<div>\n",
       "<style scoped>\n",
       "    .dataframe tbody tr th:only-of-type {\n",
       "        vertical-align: middle;\n",
       "    }\n",
       "\n",
       "    .dataframe tbody tr th {\n",
       "        vertical-align: top;\n",
       "    }\n",
       "\n",
       "    .dataframe thead th {\n",
       "        text-align: right;\n",
       "    }\n",
       "</style>\n",
       "<table border=\"1\" class=\"dataframe\">\n",
       "  <thead>\n",
       "    <tr style=\"text-align: right;\">\n",
       "      <th></th>\n",
       "      <th>Id</th>\n",
       "      <th>Hospital</th>\n",
       "      <th>Type</th>\n",
       "      <th>Comment</th>\n",
       "      <th>CleanedComment</th>\n",
       "      <th>ExperienceDate</th>\n",
       "      <th>ExperienceDateString</th>\n",
       "      <th>Valence</th>\n",
       "      <th>Unit</th>\n",
       "      <th>Code</th>\n",
       "      <th>...</th>\n",
       "      <th>CovidRelated</th>\n",
       "      <th>CovidPeriod</th>\n",
       "      <th>ProcessedUnit</th>\n",
       "      <th>Gender</th>\n",
       "      <th>Ethnicity</th>\n",
       "      <th>Age</th>\n",
       "      <th>Income/Poverty Level</th>\n",
       "      <th>Employment Status</th>\n",
       "      <th>Access to Transportation</th>\n",
       "      <th>Educational Attainment</th>\n",
       "    </tr>\n",
       "  </thead>\n",
       "  <tbody>\n",
       "    <tr>\n",
       "      <th>0</th>\n",
       "      <td>106</td>\n",
       "      <td>Almonte General Hospital</td>\n",
       "      <td>Inpatient</td>\n",
       "      <td>Compassionate care, such professional staff fr...</td>\n",
       "      <td>compassionate professional staff emergency adm...</td>\n",
       "      <td>2021-02-01 00:00:00+00:00</td>\n",
       "      <td>2/1/2021</td>\n",
       "      <td>Positive</td>\n",
       "      <td>NaN</td>\n",
       "      <td>NaN</td>\n",
       "      <td>...</td>\n",
       "      <td>False</td>\n",
       "      <td>True</td>\n",
       "      <td>Unknown</td>\n",
       "      <td>Female</td>\n",
       "      <td>White or Caucasian</td>\n",
       "      <td>45-64</td>\n",
       "      <td>Below FPL</td>\n",
       "      <td>Employed</td>\n",
       "      <td>Public Transport</td>\n",
       "      <td>Some College</td>\n",
       "    </tr>\n",
       "    <tr>\n",
       "      <th>1</th>\n",
       "      <td>430</td>\n",
       "      <td>Almonte General Hospital</td>\n",
       "      <td>Inpatient</td>\n",
       "      <td>I was very pleased with the care &amp; concern giv...</td>\n",
       "      <td>please given thankful health absolutely commen...</td>\n",
       "      <td>2020-06-01 00:00:00+00:00</td>\n",
       "      <td>6/1/2020</td>\n",
       "      <td>Positive</td>\n",
       "      <td>NaN</td>\n",
       "      <td>NaN</td>\n",
       "      <td>...</td>\n",
       "      <td>False</td>\n",
       "      <td>True</td>\n",
       "      <td>Unknown</td>\n",
       "      <td>Female</td>\n",
       "      <td>White or Caucasian</td>\n",
       "      <td>45-64</td>\n",
       "      <td>200-399% FPL</td>\n",
       "      <td>Employed</td>\n",
       "      <td>Limited/No Access</td>\n",
       "      <td>Less than HS</td>\n",
       "    </tr>\n",
       "    <tr>\n",
       "      <th>2</th>\n",
       "      <td>650</td>\n",
       "      <td>Almonte General Hospital</td>\n",
       "      <td>Inpatient</td>\n",
       "      <td>Thankfully I was admitted into the last surplu...</td>\n",
       "      <td>admit surplus wsa private washroom button fabu...</td>\n",
       "      <td>2017-08-01 00:00:00+00:00</td>\n",
       "      <td>8/1/2017</td>\n",
       "      <td>Positive</td>\n",
       "      <td>NaN</td>\n",
       "      <td>NaN</td>\n",
       "      <td>...</td>\n",
       "      <td>False</td>\n",
       "      <td>False</td>\n",
       "      <td>Unknown</td>\n",
       "      <td>Female</td>\n",
       "      <td>White or Caucasian</td>\n",
       "      <td>25-44</td>\n",
       "      <td>100-199% FPL</td>\n",
       "      <td>Unemployed</td>\n",
       "      <td>Personal Vehicle</td>\n",
       "      <td>Bachelor's+</td>\n",
       "    </tr>\n",
       "    <tr>\n",
       "      <th>3</th>\n",
       "      <td>715</td>\n",
       "      <td>Almonte General Hospital</td>\n",
       "      <td>Inpatient</td>\n",
       "      <td>The nurses and doctors made giving birth durin...</td>\n",
       "      <td>staff staff birth pandemic possible given circ...</td>\n",
       "      <td>2020-05-01 00:00:00+00:00</td>\n",
       "      <td>5/1/2020</td>\n",
       "      <td>Positive</td>\n",
       "      <td>NaN</td>\n",
       "      <td>NaN</td>\n",
       "      <td>...</td>\n",
       "      <td>True</td>\n",
       "      <td>True</td>\n",
       "      <td>Unknown</td>\n",
       "      <td>Male</td>\n",
       "      <td>White or Caucasian</td>\n",
       "      <td>0-14</td>\n",
       "      <td>400% or more FPL</td>\n",
       "      <td>Not in Labor Force</td>\n",
       "      <td>Public Transport</td>\n",
       "      <td>Less than HS</td>\n",
       "    </tr>\n",
       "    <tr>\n",
       "      <th>4</th>\n",
       "      <td>719</td>\n",
       "      <td>Almonte General Hospital</td>\n",
       "      <td>Inpatient</td>\n",
       "      <td>The nurses at the hospital were amazing! Could...</td>\n",
       "      <td>staff thankful</td>\n",
       "      <td>2018-06-01 00:00:00+00:00</td>\n",
       "      <td>6/1/2018</td>\n",
       "      <td>Positive</td>\n",
       "      <td>NaN</td>\n",
       "      <td>NaN</td>\n",
       "      <td>...</td>\n",
       "      <td>False</td>\n",
       "      <td>False</td>\n",
       "      <td>Unknown</td>\n",
       "      <td>Male</td>\n",
       "      <td>White or Caucasian</td>\n",
       "      <td>0-14</td>\n",
       "      <td>Below FPL</td>\n",
       "      <td>Not in Labor Force</td>\n",
       "      <td>Limited/No Access</td>\n",
       "      <td>Less than HS</td>\n",
       "    </tr>\n",
       "  </tbody>\n",
       "</table>\n",
       "<p>5 rows × 29 columns</p>\n",
       "</div>"
      ],
      "text/plain": [
       "    Id                  Hospital       Type  \\\n",
       "0  106  Almonte General Hospital  Inpatient   \n",
       "1  430  Almonte General Hospital  Inpatient   \n",
       "2  650  Almonte General Hospital  Inpatient   \n",
       "3  715  Almonte General Hospital  Inpatient   \n",
       "4  719  Almonte General Hospital  Inpatient   \n",
       "\n",
       "                                             Comment  \\\n",
       "0  Compassionate care, such professional staff fr...   \n",
       "1  I was very pleased with the care & concern giv...   \n",
       "2  Thankfully I was admitted into the last surplu...   \n",
       "3  The nurses and doctors made giving birth durin...   \n",
       "4  The nurses at the hospital were amazing! Could...   \n",
       "\n",
       "                                      CleanedComment  \\\n",
       "0  compassionate professional staff emergency adm...   \n",
       "1  please given thankful health absolutely commen...   \n",
       "2  admit surplus wsa private washroom button fabu...   \n",
       "3  staff staff birth pandemic possible given circ...   \n",
       "4                                     staff thankful   \n",
       "\n",
       "              ExperienceDate ExperienceDateString   Valence Unit Code  ...  \\\n",
       "0  2021-02-01 00:00:00+00:00             2/1/2021  Positive  NaN  NaN  ...   \n",
       "1  2020-06-01 00:00:00+00:00             6/1/2020  Positive  NaN  NaN  ...   \n",
       "2  2017-08-01 00:00:00+00:00             8/1/2017  Positive  NaN  NaN  ...   \n",
       "3  2020-05-01 00:00:00+00:00             5/1/2020  Positive  NaN  NaN  ...   \n",
       "4  2018-06-01 00:00:00+00:00             6/1/2018  Positive  NaN  NaN  ...   \n",
       "\n",
       "   CovidRelated  CovidPeriod ProcessedUnit  Gender           Ethnicity    Age  \\\n",
       "0         False         True       Unknown  Female  White or Caucasian  45-64   \n",
       "1         False         True       Unknown  Female  White or Caucasian  45-64   \n",
       "2         False        False       Unknown  Female  White or Caucasian  25-44   \n",
       "3          True         True       Unknown    Male  White or Caucasian   0-14   \n",
       "4         False        False       Unknown    Male  White or Caucasian   0-14   \n",
       "\n",
       "  Income/Poverty Level   Employment Status Access to Transportation  \\\n",
       "0            Below FPL            Employed         Public Transport   \n",
       "1         200-399% FPL            Employed        Limited/No Access   \n",
       "2         100-199% FPL          Unemployed         Personal Vehicle   \n",
       "3     400% or more FPL  Not in Labor Force         Public Transport   \n",
       "4            Below FPL  Not in Labor Force        Limited/No Access   \n",
       "\n",
       "   Educational Attainment  \n",
       "0            Some College  \n",
       "1            Less than HS  \n",
       "2             Bachelor's+  \n",
       "3            Less than HS  \n",
       "4            Less than HS  \n",
       "\n",
       "[5 rows x 29 columns]"
      ]
     },
     "execution_count": 1,
     "metadata": {},
     "output_type": "execute_result"
    }
   ],
   "source": [
    "import pandas as pd\n",
    "\n",
    "csv_file_path = 'Dataset_v6.csv'\n",
    "\n",
    "df = pd.read_csv(csv_file_path)\n",
    "\n",
    "df.head()"
   ]
  },
  {
   "cell_type": "code",
   "execution_count": null,
   "metadata": {},
   "outputs": [],
   "source": []
  },
  {
   "cell_type": "code",
   "execution_count": 75,
   "metadata": {},
   "outputs": [],
   "source": [
    "def covidPeriodCheck(row):\n",
    "    year = row['Year']\n",
    "    if year == 2021 or year == 2020 or year == 2022:\n",
    "        return True\n",
    "    else:\n",
    "        return False"
   ]
  },
  {
   "cell_type": "code",
   "execution_count": 77,
   "metadata": {},
   "outputs": [
    {
     "name": "stderr",
     "output_type": "stream",
     "text": [
      "100%|██████████| 122196/122196 [00:00<00:00, 135586.54it/s]\n"
     ]
    }
   ],
   "source": [
    "from tqdm import tqdm\n",
    "\n",
    "tqdm.pandas()\n",
    "\n",
    "df['CovidPeriod'] = df.progress_apply(covidPeriodCheck, axis=1)"
   ]
  },
  {
   "cell_type": "code",
   "execution_count": 80,
   "metadata": {},
   "outputs": [],
   "source": [
    "def getUnitDict(CovidPeriod):\n",
    "    negative_dict = {}\n",
    "    positive_dict = {}\n",
    "    neutral_dict = {}\n",
    "    posneg_dict = {}\n",
    "    total_dict = {}\n",
    "    \n",
    "    for index, row in df.iterrows():\n",
    "        if row['Year'] == 2023:\n",
    "             continue\n",
    "        if row['CovidPeriod'] == CovidPeriod:\n",
    "            unit =  str(row['ProcessedUnit2'])\n",
    "\n",
    "            if unit not in total_dict.keys():\n",
    "                total_dict[unit] = 1\n",
    "            elif unit in total_dict.keys():\n",
    "                total_dict[unit] += 1\n",
    "\n",
    "            if row['RefinedValence'] == \"Negative\":\n",
    "                    if unit not in negative_dict.keys():\n",
    "                        negative_dict[unit] = 1\n",
    "                    elif unit in negative_dict.keys():\n",
    "                        negative_dict[unit] += 1\n",
    "            elif row['RefinedValence'] == \"Positive\":\n",
    "                    if unit not in positive_dict.keys():\n",
    "                        positive_dict[unit] = 1\n",
    "                    elif unit in positive_dict.keys():\n",
    "                        positive_dict[unit] += 1\n",
    "            elif row['RefinedValence'] == \"Neutral\":\n",
    "                    if unit not in neutral_dict.keys():\n",
    "                        neutral_dict[unit] = 1\n",
    "                    elif unit in neutral_dict.keys():\n",
    "                        neutral_dict[unit] += 1\n",
    "            else:\n",
    "                    if unit not in posneg_dict.keys():\n",
    "                        posneg_dict[unit] = 1\n",
    "                    elif unit in posneg_dict.keys():\n",
    "                        posneg_dict[unit] += 1\n",
    "\n",
    "    for unit in negative_dict.keys():\n",
    "         negative_dict[unit] = round((negative_dict[unit] / total_dict[unit]) * 100, 2)\n",
    "    \n",
    "    for unit in positive_dict.keys():\n",
    "         positive_dict[unit] = round((positive_dict[unit] / total_dict[unit]) * 100, 2)\n",
    "\n",
    "\n",
    "    return dict(sorted(negative_dict.items(), key=lambda item: item[0])), dict(sorted(positive_dict.items(), key=lambda item: item[0])), neutral_dict, posneg_dict"
   ]
  },
  {
   "cell_type": "code",
   "execution_count": 81,
   "metadata": {},
   "outputs": [],
   "source": [
    "negative_dict, positive_dict, neutral_dict, posneg_dict = getUnitDict(True)"
   ]
  },
  {
   "cell_type": "code",
   "execution_count": 82,
   "metadata": {},
   "outputs": [
    {
     "data": {
      "text/plain": [
       "{'Cardiology Unit': 24.29,\n",
       " 'Coronary Care Unit (CCU) / Cardiac Intensive Care Unit (CICU)': 17.57,\n",
       " 'Day Surgery Unit': 18.46,\n",
       " 'Dentistry': 31.25,\n",
       " 'Dialysis (Renal) Unit': 15.38,\n",
       " 'Emergency Department / Accident and Emergency (A&E) / Casualty Department': 32.89,\n",
       " 'Gynecology Unit': 14.55,\n",
       " 'Inpatient Ward': 26.47,\n",
       " 'Medicine Unit': 32.14,\n",
       " 'Mental Health': 42.17,\n",
       " 'Neurology Unit': 31.82,\n",
       " 'Obstetrics Unit': 23.4,\n",
       " 'Oncology / Cancer Center': 23.26,\n",
       " 'Ophthalmology Unit': 23.53,\n",
       " 'Orthopedics Unit': 31.99,\n",
       " 'Outpatient': 24.24,\n",
       " 'Pediatrics Unit': 25.84,\n",
       " 'Radiology Unit': 31.58,\n",
       " 'Rehabilitation Unit': 23.87,\n",
       " 'Respiratory Unit': 18.84,\n",
       " 'Unknown': 30.55,\n",
       " 'Urology Unit': 30.26}"
      ]
     },
     "execution_count": 82,
     "metadata": {},
     "output_type": "execute_result"
    }
   ],
   "source": [
    "negative_dict"
   ]
  },
  {
   "cell_type": "code",
   "execution_count": 83,
   "metadata": {},
   "outputs": [
    {
     "data": {
      "text/plain": [
       "{'Cardiology Unit': 54.08,\n",
       " 'Coronary Care Unit (CCU) / Cardiac Intensive Care Unit (CICU)': 63.51,\n",
       " 'Day Surgery Unit': 65.52,\n",
       " 'Dentistry': 55.0,\n",
       " 'Dialysis (Renal) Unit': 66.15,\n",
       " 'Emergency Department / Accident and Emergency (A&E) / Casualty Department': 42.34,\n",
       " 'Gynecology Unit': 47.27,\n",
       " 'Inpatient Ward': 49.27,\n",
       " 'Medicine Unit': 43.72,\n",
       " 'Mental Health': 41.77,\n",
       " 'Neurology Unit': 46.36,\n",
       " 'Obstetrics Unit': 48.76,\n",
       " 'Oncology / Cancer Center': 56.07,\n",
       " 'Ophthalmology Unit': 59.22,\n",
       " 'Orthopedics Unit': 46.11,\n",
       " 'Outpatient': 54.17,\n",
       " 'Pediatrics Unit': 47.69,\n",
       " 'Radiology Unit': 47.37,\n",
       " 'Rehabilitation Unit': 54.41,\n",
       " 'Respiratory Unit': 57.97,\n",
       " 'Unknown': 46.86,\n",
       " 'Urology Unit': 49.23}"
      ]
     },
     "execution_count": 83,
     "metadata": {},
     "output_type": "execute_result"
    }
   ],
   "source": [
    "positive_dict"
   ]
  },
  {
   "cell_type": "code",
   "execution_count": 84,
   "metadata": {},
   "outputs": [],
   "source": [
    "negative_dict, positive_dict, neutral_dict, posneg_dict = getUnitDict(False)"
   ]
  },
  {
   "cell_type": "code",
   "execution_count": 87,
   "metadata": {},
   "outputs": [
    {
     "data": {
      "text/plain": [
       "{'Cardiology Unit': 29.04,\n",
       " 'Coronary Care Unit (CCU) / Cardiac Intensive Care Unit (CICU)': 20.0,\n",
       " 'Day Surgery Unit': 27.42,\n",
       " 'Dentistry': 20.57,\n",
       " 'Dialysis (Renal) Unit': 19.05,\n",
       " 'Emergency Department / Accident and Emergency (A&E) / Casualty Department': 39.5,\n",
       " 'Gynecology Unit': 24.64,\n",
       " 'Inpatient Ward': 32.45,\n",
       " 'Medicine Unit': 40.99,\n",
       " 'Mental Health': 43.45,\n",
       " 'Neurology Unit': 33.23,\n",
       " 'Obstetrics Unit': 28.36,\n",
       " 'Oncology / Cancer Center': 34.34,\n",
       " 'Ophthalmology Unit': 30.95,\n",
       " 'Orthopedics Unit': 36.37,\n",
       " 'Outpatient': 27.63,\n",
       " 'Pediatrics Unit': 32.36,\n",
       " 'Radiology Unit': 26.35,\n",
       " 'Rehabilitation Unit': 33.99,\n",
       " 'Respiratory Unit': 28.15,\n",
       " 'Unknown': 36.95,\n",
       " 'Urology Unit': 32.16}"
      ]
     },
     "execution_count": 87,
     "metadata": {},
     "output_type": "execute_result"
    }
   ],
   "source": [
    "negative_dict"
   ]
  },
  {
   "cell_type": "code",
   "execution_count": 88,
   "metadata": {},
   "outputs": [
    {
     "data": {
      "text/plain": [
       "{'Burn Unit / Burn Center': 87.5,\n",
       " 'Cardiology Unit': 50.16,\n",
       " 'Coronary Care Unit (CCU) / Cardiac Intensive Care Unit (CICU)': 62.73,\n",
       " 'Day Surgery Unit': 55.18,\n",
       " 'Dentistry': 63.12,\n",
       " 'Dialysis (Renal) Unit': 47.62,\n",
       " 'Emergency Department / Accident and Emergency (A&E) / Casualty Department': 35.98,\n",
       " 'Gynecology Unit': 47.83,\n",
       " 'Inpatient Ward': 43.65,\n",
       " 'Medicine Unit': 37.12,\n",
       " 'Mental Health': 34.46,\n",
       " 'Neurology Unit': 41.09,\n",
       " 'Obstetrics Unit': 38.85,\n",
       " 'Oncology / Cancer Center': 41.06,\n",
       " 'Ophthalmology Unit': 47.92,\n",
       " 'Orthopedics Unit': 42.13,\n",
       " 'Outpatient': 53.86,\n",
       " 'Pediatrics Unit': 42.24,\n",
       " 'Radiology Unit': 47.3,\n",
       " 'Rehabilitation Unit': 45.07,\n",
       " 'Respiratory Unit': 47.41,\n",
       " 'Unknown': 40.0,\n",
       " 'Urology Unit': 49.12}"
      ]
     },
     "execution_count": 88,
     "metadata": {},
     "output_type": "execute_result"
    }
   ],
   "source": [
    "positive_dict"
   ]
  },
  {
   "cell_type": "code",
   "execution_count": 89,
   "metadata": {},
   "outputs": [],
   "source": [
    "def getCounts():\n",
    "    review_counts = {}\n",
    "\n",
    "    for index, row in df.iterrows():\n",
    "        year = row[\"Year\"]\n",
    "\n",
    "        if year == 2023:\n",
    "            continue\n",
    "\n",
    "        if year not in review_counts:\n",
    "            review_counts[year] = 1\n",
    "        else:\n",
    "            review_counts[year] += 1\n",
    "\n",
    "    return review_counts"
   ]
  },
  {
   "cell_type": "code",
   "execution_count": 90,
   "metadata": {},
   "outputs": [
    {
     "data": {
      "text/plain": [
       "{2021: 16803,\n",
       " 2020: 26243,\n",
       " 2017: 19694,\n",
       " 2018: 24613,\n",
       " 2019: 24148,\n",
       " 2022: 1708,\n",
       " 2016: 864,\n",
       " 2015: 541}"
      ]
     },
     "execution_count": 90,
     "metadata": {},
     "output_type": "execute_result"
    }
   ],
   "source": [
    "getCounts()"
   ]
  },
  {
   "cell_type": "code",
   "execution_count": 91,
   "metadata": {},
   "outputs": [],
   "source": [
    "def getSentimentCounts():\n",
    "    positive = {}\n",
    "    negative = {}\n",
    "    neutral = {}\n",
    "    posneg = {}\n",
    "\n",
    "    for index, row in df.iterrows():\n",
    "        year = row[\"Year\"]\n",
    "\n",
    "        if year == 2023:\n",
    "            continue\n",
    "\n",
    "        if row['RefinedValence'] == \"Positive\":\n",
    "            if year not in positive:\n",
    "                positive[year] = 1\n",
    "            else:\n",
    "                positive[year] += 1\n",
    "        elif row['RefinedValence'] == \"Negative\":\n",
    "            if year not in negative:\n",
    "                negative[year] = 1\n",
    "            else:\n",
    "                negative[year] += 1\n",
    "        elif row['RefinedValence'] == \"Neutral\":\n",
    "            if year not in neutral:\n",
    "                neutral[year] = 1\n",
    "            else:\n",
    "                neutral[year] += 1\n",
    "        else:\n",
    "            if year not in posneg:\n",
    "                posneg[year] = 1\n",
    "            else:\n",
    "                posneg[year] += 1\n",
    "        \n",
    "\n",
    "    return positive, negative, neutral, posneg"
   ]
  },
  {
   "cell_type": "code",
   "execution_count": 92,
   "metadata": {},
   "outputs": [],
   "source": [
    "positive, negative, neutral, posneg = getSentimentCounts()"
   ]
  },
  {
   "cell_type": "code",
   "execution_count": 93,
   "metadata": {},
   "outputs": [],
   "source": [
    "posneg = dict(sorted(posneg.items(), key=lambda item: item[0]))"
   ]
  },
  {
   "cell_type": "code",
   "execution_count": 94,
   "metadata": {},
   "outputs": [
    {
     "data": {
      "text/plain": [
       "dict_keys([2015, 2016, 2017, 2018, 2019, 2020, 2021, 2022])"
      ]
     },
     "execution_count": 94,
     "metadata": {},
     "output_type": "execute_result"
    }
   ],
   "source": [
    "posneg.keys()"
   ]
  },
  {
   "cell_type": "code",
   "execution_count": 95,
   "metadata": {},
   "outputs": [
    {
     "data": {
      "text/plain": [
       "dict_values([71, 181, 3840, 4813, 4682, 4951, 3372, 339])"
      ]
     },
     "execution_count": 95,
     "metadata": {},
     "output_type": "execute_result"
    }
   ],
   "source": [
    "posneg.values()"
   ]
  },
  {
   "cell_type": "code",
   "execution_count": 96,
   "metadata": {},
   "outputs": [
    {
     "data": {
      "text/plain": [
       "dict_values([304, 427, 8044, 10164, 10165, 12517, 7875, 782])"
      ]
     },
     "execution_count": 96,
     "metadata": {},
     "output_type": "execute_result"
    }
   ],
   "source": [
    "positive = dict(sorted(positive.items(), key=lambda item: item[0]))\n",
    "positive.values()"
   ]
  },
  {
   "cell_type": "code",
   "execution_count": 97,
   "metadata": {},
   "outputs": [
    {
     "data": {
      "text/plain": [
       "dict_values([135, 214, 6917, 8690, 8471, 7639, 4890, 537])"
      ]
     },
     "execution_count": 97,
     "metadata": {},
     "output_type": "execute_result"
    }
   ],
   "source": [
    "negative = dict(sorted(negative.items(), key=lambda item: item[0]))\n",
    "negative.values()"
   ]
  },
  {
   "cell_type": "code",
   "execution_count": 98,
   "metadata": {},
   "outputs": [
    {
     "data": {
      "text/plain": [
       "dict_values([31, 42, 893, 946, 830, 1136, 666, 50])"
      ]
     },
     "execution_count": 98,
     "metadata": {},
     "output_type": "execute_result"
    }
   ],
   "source": [
    "neutral = dict(sorted(neutral.items(), key=lambda item: item[0]))\n",
    "neutral.values()"
   ]
  },
  {
   "cell_type": "code",
   "execution_count": 108,
   "metadata": {},
   "outputs": [],
   "source": [
    "def getTypeDict():\n",
    "    negative_dict = {}\n",
    "    positive_dict = {}\n",
    "\n",
    "    \n",
    "    for index, row in df.iterrows():\n",
    "        year = row[\"Year\"]\n",
    "        if year == 2023:\n",
    "             continue\n",
    "        if str(row['Refined_Type']) == \"nan\":\n",
    "                continue\n",
    "        ref_type = row['Refined_Type']\n",
    "\n",
    "        if row['RefinedValence'] == \"Negative\":\n",
    "                if year not in negative_dict.keys():\n",
    "                     negative_dict[year] = {}\n",
    "                     \n",
    "                if ref_type not in negative_dict[year].keys():\n",
    "                    negative_dict[year][ref_type] = 1\n",
    "                elif ref_type in negative_dict[year].keys():\n",
    "                    negative_dict[year][ref_type] += 1\n",
    "        elif row['RefinedValence'] == \"Positive\":\n",
    "                if year not in positive_dict.keys():\n",
    "                     positive_dict[year] = {}\n",
    "                     \n",
    "                if ref_type not in positive_dict[year].keys():\n",
    "                    positive_dict[year][ref_type] = 1\n",
    "                elif ref_type in positive_dict[year].keys():\n",
    "                    positive_dict[year][ref_type] += 1\n",
    "\n",
    "\n",
    "    return negative_dict, positive_dict"
   ]
  },
  {
   "cell_type": "code",
   "execution_count": 109,
   "metadata": {},
   "outputs": [],
   "source": [
    "negative_dict, positive_dict = getTypeDict()"
   ]
  },
  {
   "cell_type": "code",
   "execution_count": 110,
   "metadata": {},
   "outputs": [
    {
     "data": {
      "text/plain": [
       "{2019: {'Inpatient': 1189,\n",
       "  'General': 4628,\n",
       "  'Service Alert': 553,\n",
       "  'Emergency': 1438,\n",
       "  'Medical/Surgical': 66,\n",
       "  'Maternity': 26,\n",
       "  'Psychiatric': 234,\n",
       "  'Pediatric': 88,\n",
       "  'Rehabilitation': 59,\n",
       "  'Day Surgery': 32},\n",
       " 2018: {'General': 4786,\n",
       "  'Service Alert': 561,\n",
       "  'Emergency': 1387,\n",
       "  'Medical/Surgical': 46,\n",
       "  'Inpatient': 1226,\n",
       "  'Outpatient': 11,\n",
       "  'Maternity': 56,\n",
       "  'Day Surgery': 41,\n",
       "  'Psychiatric': 246,\n",
       "  'Pediatric': 107,\n",
       "  'Rehabilitation': 57},\n",
       " 2021: {'General': 3084,\n",
       "  'Service Alert': 375,\n",
       "  'Emergency': 745,\n",
       "  'Outpatient': 3,\n",
       "  'Medical/Surgical': 22,\n",
       "  'Inpatient': 424,\n",
       "  'Psychiatric': 81,\n",
       "  'Pediatric': 20,\n",
       "  'Maternity': 5,\n",
       "  'Day Surgery': 8},\n",
       " 2020: {'General': 4107,\n",
       "  'Service Alert': 524,\n",
       "  'Emergency': 1444,\n",
       "  'Medical/Surgical': 56,\n",
       "  'Inpatient': 980,\n",
       "  'Psychiatric': 202,\n",
       "  'Pediatric': 73,\n",
       "  'Day Surgery': 39,\n",
       "  'Maternity': 12},\n",
       " 2017: {'General': 3969,\n",
       "  'Service Alert': 427,\n",
       "  'Emergency': 1013,\n",
       "  'Medical/Surgical': 46,\n",
       "  'Psychiatric': 188,\n",
       "  'Pediatric': 114,\n",
       "  'Inpatient': 874,\n",
       "  'Rehabilitation': 61,\n",
       "  'Maternity': 51,\n",
       "  'Day Surgery': 32},\n",
       " 2022: {'General': 460,\n",
       "  'Service Alert': 43,\n",
       "  'Psychiatric': 17,\n",
       "  'Emergency': 15},\n",
       " 2016: {'General': 199, 'Service Alert': 15},\n",
       " 2015: {'General': 118, 'Service Alert': 17}}"
      ]
     },
     "execution_count": 110,
     "metadata": {},
     "output_type": "execute_result"
    }
   ],
   "source": [
    "negative_dict"
   ]
  },
  {
   "cell_type": "code",
   "execution_count": 111,
   "metadata": {},
   "outputs": [
    {
     "data": {
      "text/plain": [
       "{2021: {'Inpatient': 635,\n",
       "  'General': 5958,\n",
       "  'Emergency': 807,\n",
       "  'Outpatient': 10,\n",
       "  'Medical/Surgical': 45,\n",
       "  'Service Alert': 4,\n",
       "  'Psychiatric': 177,\n",
       "  'Pediatric': 45,\n",
       "  'Day Surgery': 64,\n",
       "  'Maternity': 17},\n",
       " 2020: {'Inpatient': 1483,\n",
       "  'General': 8145,\n",
       "  'Service Alert': 12,\n",
       "  'Emergency': 1749,\n",
       "  'Medical/Surgical': 129,\n",
       "  'Psychiatric': 393,\n",
       "  'Pediatric': 141,\n",
       "  'Day Surgery': 191,\n",
       "  'Maternity': 49},\n",
       " 2017: {'Inpatient': 972,\n",
       "  'General': 5231,\n",
       "  'Service Alert': 17,\n",
       "  'Emergency': 803,\n",
       "  'Medical/Surgical': 108,\n",
       "  'Psychiatric': 266,\n",
       "  'Pediatric': 151,\n",
       "  'Maternity': 95,\n",
       "  'Rehabilitation': 82,\n",
       "  'Day Surgery': 131},\n",
       " 2018: {'Inpatient': 1409,\n",
       "  'General': 6563,\n",
       "  'Service Alert': 10,\n",
       "  'Emergency': 1077,\n",
       "  'Medical/Surgical': 110,\n",
       "  'Outpatient': 13,\n",
       "  'Maternity': 108,\n",
       "  'Day Surgery': 136,\n",
       "  'Psychiatric': 360,\n",
       "  'Pediatric': 98,\n",
       "  'Rehabilitation': 101},\n",
       " 2019: {'Inpatient': 1237,\n",
       "  'General': 6795,\n",
       "  'Emergency': 1085,\n",
       "  'Medical/Surgical': 107,\n",
       "  'Maternity': 52,\n",
       "  'Service Alert': 8,\n",
       "  'Psychiatric': 363,\n",
       "  'Pediatric': 129,\n",
       "  'Rehabilitation': 94,\n",
       "  'Day Surgery': 145},\n",
       " 2022: {'General': 745,\n",
       "  'Service Alert': 2,\n",
       "  'Emergency': 13,\n",
       "  'Psychiatric': 21},\n",
       " 2016: {'General': 427},\n",
       " 2015: {'General': 303}}"
      ]
     },
     "execution_count": 111,
     "metadata": {},
     "output_type": "execute_result"
    }
   ],
   "source": [
    "positive_dict"
   ]
  },
  {
   "cell_type": "code",
   "execution_count": 134,
   "metadata": {},
   "outputs": [],
   "source": [
    "import re\n",
    "\n",
    "def remove_substrings(s):\n",
    "    pattern = r'x{3,}'\n",
    "    return re.sub(pattern, '', s)"
   ]
  },
  {
   "cell_type": "code",
   "execution_count": 152,
   "metadata": {},
   "outputs": [],
   "source": [
    "import ast\n",
    "\n",
    "def getEntityDict(year):\n",
    "    positive_dict = {}\n",
    "    negative_dict = {}\n",
    "\n",
    "    for index, row in df.iterrows():\n",
    "        if row['Year'] == year:\n",
    "            if row['RefinedValence'] == \"Positive/Negative\" or row['RefinedValence'] == \"Positive\":\n",
    "                \n",
    "                for entity, label in ast.literal_eval(row['Entities']):\n",
    "                    if ((entity not in positive_dict.keys()) and (not entity.startswith('xx'))):\n",
    "                        positive_dict[entity] = 1\n",
    "                    elif entity in positive_dict.keys():\n",
    "                        positive_dict[entity] += 1\n",
    "            elif row['RefinedValence'] == \"Positive/Negative\" or row['RefinedValence'] == \"Negative\":\n",
    "                for entity, label in ast.literal_eval(row['Entities']):\n",
    "                    if ((entity not in negative_dict.keys()) and (not entity.startswith('xx'))):\n",
    "                        negative_dict[entity] = 1\n",
    "                    elif entity in negative_dict.keys():\n",
    "                        negative_dict[entity] += 1\n",
    "        \n",
    "    cleaned_positive_dict = {remove_substrings(k): v for k, v in positive_dict.items()}\n",
    "    sorted_positive_dict = dict(sorted(cleaned_positive_dict.items(), key=lambda item: item[1]))\n",
    "\n",
    "    cleaned_negative_dict = {remove_substrings(k): v for k, v in negative_dict.items()}\n",
    "    sorted_negative_dict = dict(sorted(cleaned_negative_dict.items(), key=lambda item: item[1]))\n",
    "\n",
    "    return sorted_positive_dict, sorted_negative_dict"
   ]
  },
  {
   "cell_type": "code",
   "execution_count": 160,
   "metadata": {},
   "outputs": [
    {
     "name": "stdout",
     "output_type": "stream",
     "text": [
      "{1: 'pain', 2: 'infection', 3: 'anxiety', 4: 'bleeding', 5: 'stroke', 6: 'fracture', 7: 'fever', 8: 'cancer', 9: 'pneumonia', 10: 'tylenol'}\n"
     ]
    }
   ],
   "source": [
    "sorted_positive_dict, sorted_negative_dict = getEntityDict(2021)\n",
    "    \n",
    "top_10 = sorted(sorted_negative_dict.items(), key=lambda item: item[1], reverse=True)[:10]\n",
    "\n",
    "# Rank the top 10 items from 1 to 10\n",
    "ranked_top_10 = {rank: key for rank, (key, value) in enumerate(top_10, start=1)}\n",
    "\n",
    "print(ranked_top_10)"
   ]
  },
  {
   "cell_type": "code",
   "execution_count": 161,
   "metadata": {},
   "outputs": [
    {
     "data": {
      "text/plain": [
       "[('pain', 669),\n",
       " ('infection', 51),\n",
       " ('anxiety', 42),\n",
       " ('bleeding', 41),\n",
       " ('stroke', 39),\n",
       " ('fracture', 37),\n",
       " ('fever', 33),\n",
       " ('cancer', 26),\n",
       " ('pneumonia', 24),\n",
       " ('tylenol', 21)]"
      ]
     },
     "execution_count": 161,
     "metadata": {},
     "output_type": "execute_result"
    }
   ],
   "source": [
    "top_10"
   ]
  },
  {
   "cell_type": "code",
   "execution_count": 162,
   "metadata": {},
   "outputs": [],
   "source": [
    "def getTypeDictPerc(CovidPeriod):\n",
    "    negative_dict = {}\n",
    "    positive_dict = {}\n",
    "    total_dict = {}\n",
    "\n",
    "    \n",
    "    for index, row in df.iterrows():\n",
    "        if row['CovidPeriod'] == CovidPeriod:\n",
    "            if str(row['Refined_Type']) == \"nan\":\n",
    "                    continue\n",
    "            ref_type = row['Refined_Type']\n",
    "\n",
    "            if ref_type not in total_dict.keys():\n",
    "                total_dict[ref_type] = 1\n",
    "            elif ref_type in total_dict.keys():\n",
    "                total_dict[ref_type] += 1\n",
    "\n",
    "\n",
    "            if row['RefinedValence'] == \"Negative\":\n",
    "                \n",
    "                    if ref_type not in negative_dict.keys():\n",
    "                        negative_dict[ref_type] = 1\n",
    "                    elif ref_type in negative_dict.keys():\n",
    "                        negative_dict[ref_type] += 1\n",
    "            elif row['RefinedValence'] == \"Positive\":\n",
    "                    if ref_type not in positive_dict.keys():\n",
    "                        positive_dict[ref_type] = 1\n",
    "                    elif ref_type in positive_dict.keys():\n",
    "                        positive_dict[ref_type] += 1\n",
    "\n",
    "    for ref_type in negative_dict.keys():\n",
    "         negative_dict[ref_type] = round((negative_dict[ref_type] / total_dict[ref_type]) * 100, 2)\n",
    "    \n",
    "    for ref_type in positive_dict.keys():\n",
    "         positive_dict[ref_type] = round((positive_dict[ref_type] / total_dict[ref_type]) * 100, 2)\n",
    "\n",
    "    return negative_dict, positive_dict"
   ]
  },
  {
   "cell_type": "code",
   "execution_count": 163,
   "metadata": {},
   "outputs": [],
   "source": [
    "negative_dict, positive_dict = getTypeDictPerc(True)"
   ]
  },
  {
   "cell_type": "code",
   "execution_count": 164,
   "metadata": {},
   "outputs": [
    {
     "data": {
      "text/plain": [
       "{'Outpatient': 12.5,\n",
       " 'Day Surgery': 13.31,\n",
       " 'Maternity': 17.71,\n",
       " 'Medical/Surgical': 24.61,\n",
       " 'Pediatric': 25.62,\n",
       " 'Psychiatric': 25.95,\n",
       " 'General': 26.23,\n",
       " 'Inpatient': 30.88,\n",
       " 'Emergency': 34.74,\n",
       " 'Service Alert': 63.57}"
      ]
     },
     "execution_count": 164,
     "metadata": {},
     "output_type": "execute_result"
    }
   ],
   "source": [
    "sorted_dict = dict(sorted(negative_dict.items(), key=lambda item: item[1]))\n",
    "\n",
    "sorted_dict"
   ]
  },
  {
   "cell_type": "code",
   "execution_count": 165,
   "metadata": {},
   "outputs": [
    {
     "data": {
      "text/plain": [
       "{'Service Alert': 1.22,\n",
       " 'Emergency': 40.49,\n",
       " 'Outpatient': 41.67,\n",
       " 'Inpatient': 46.59,\n",
       " 'General': 50.91,\n",
       " 'Psychiatric': 51.12,\n",
       " 'Pediatric': 51.24,\n",
       " 'Medical/Surgical': 54.89,\n",
       " 'Maternity': 68.75,\n",
       " 'Day Surgery': 72.24}"
      ]
     },
     "execution_count": 165,
     "metadata": {},
     "output_type": "execute_result"
    }
   ],
   "source": [
    "sorted_dict = dict(sorted(positive_dict.items(), key=lambda item: item[1]))\n",
    "\n",
    "sorted_dict"
   ]
  },
  {
   "cell_type": "code",
   "execution_count": 166,
   "metadata": {},
   "outputs": [],
   "source": [
    "negative_dict, positive_dict = getTypeDictPerc(False)"
   ]
  },
  {
   "cell_type": "code",
   "execution_count": 167,
   "metadata": {},
   "outputs": [
    {
     "data": {
      "text/plain": [
       "{'Day Surgery': 17.98,\n",
       " 'Maternity': 22.47,\n",
       " 'Medical/Surgical': 26.73,\n",
       " 'Rehabilitation': 30.84,\n",
       " 'Psychiatric': 31.23,\n",
       " 'General': 31.53,\n",
       " 'Pediatric': 35.31,\n",
       " 'Inpatient': 36.42,\n",
       " 'Outpatient': 36.67,\n",
       " 'Emergency': 43.1,\n",
       " 'Service Alert': 65.52}"
      ]
     },
     "execution_count": 167,
     "metadata": {},
     "output_type": "execute_result"
    }
   ],
   "source": [
    "sorted_dict = dict(sorted(negative_dict.items(), key=lambda item: item[1]))\n",
    "\n",
    "sorted_dict"
   ]
  },
  {
   "cell_type": "code",
   "execution_count": 168,
   "metadata": {},
   "outputs": [
    {
     "data": {
      "text/plain": [
       "{'Service Alert': 1.3,\n",
       " 'Emergency': 33.3,\n",
       " 'Inpatient': 40.07,\n",
       " 'Maternity': 43.07,\n",
       " 'Pediatric': 43.2,\n",
       " 'Outpatient': 43.33,\n",
       " 'General': 45.34,\n",
       " 'Psychiatric': 46.24,\n",
       " 'Rehabilitation': 48.26,\n",
       " 'Medical/Surgical': 54.99,\n",
       " 'Day Surgery': 70.55}"
      ]
     },
     "execution_count": 168,
     "metadata": {},
     "output_type": "execute_result"
    }
   ],
   "source": [
    "sorted_dict = dict(sorted(positive_dict.items(), key=lambda item: item[1]))\n",
    "\n",
    "sorted_dict"
   ]
  },
  {
   "cell_type": "code",
   "execution_count": null,
   "metadata": {},
   "outputs": [],
   "source": [
    "#######################################3"
   ]
  },
  {
   "cell_type": "code",
   "execution_count": 100,
   "metadata": {},
   "outputs": [],
   "source": [
    "def getSentimentPercents():\n",
    "    positive = {}\n",
    "    negative = {}\n",
    "    neutral = {}\n",
    "    posneg = {}\n",
    "    total = {}\n",
    "\n",
    "    for index, row in df.iterrows():\n",
    "        year = row[\"Year\"]\n",
    "\n",
    "        if year == 2023:\n",
    "            continue\n",
    "\n",
    "        if year not in total:\n",
    "            total[year] = 1\n",
    "        else:\n",
    "            total[year] += 1\n",
    "\n",
    "        if row['RefinedValence'] == \"Positive\":\n",
    "            if year not in positive:\n",
    "                positive[year] = 1\n",
    "            else:\n",
    "                positive[year] += 1\n",
    "        elif row['RefinedValence'] == \"Negative\":\n",
    "            if year not in negative:\n",
    "                negative[year] = 1\n",
    "            else:\n",
    "                negative[year] += 1\n",
    "        elif row['RefinedValence'] == \"Neutral\":\n",
    "            if year not in neutral:\n",
    "                neutral[year] = 1\n",
    "            else:\n",
    "                neutral[year] += 1\n",
    "        else:\n",
    "            if year not in posneg:\n",
    "                posneg[year] = 1\n",
    "            else:\n",
    "                posneg[year] += 1\n",
    "        \n",
    "    for year in positive.keys():\n",
    "         positive[year] = round((positive[year] / total[year]) * 100, 2)\n",
    "    \n",
    "    for year in negative.keys():\n",
    "         negative[year] = round((negative[year] / total[year]) * 100, 2)\n",
    "\n",
    "    for year in neutral.keys():\n",
    "         neutral[year] = round((neutral[year] / total[year]) * 100, 2)\n",
    "\n",
    "    for year in posneg.keys():\n",
    "         posneg[year] = round((posneg[year] / total[year]) * 100, 2)\n",
    "\n",
    "    return positive, negative, neutral, posneg"
   ]
  },
  {
   "cell_type": "code",
   "execution_count": 101,
   "metadata": {},
   "outputs": [],
   "source": [
    "positive, negative, neutral, posneg = getSentimentPercents()"
   ]
  },
  {
   "cell_type": "code",
   "execution_count": 102,
   "metadata": {},
   "outputs": [],
   "source": [
    "posneg = dict(sorted(posneg.items(), key=lambda item: item[0]))"
   ]
  },
  {
   "cell_type": "code",
   "execution_count": 103,
   "metadata": {},
   "outputs": [
    {
     "data": {
      "text/plain": [
       "dict_keys([2015, 2016, 2017, 2018, 2019, 2020, 2021, 2022])"
      ]
     },
     "execution_count": 103,
     "metadata": {},
     "output_type": "execute_result"
    }
   ],
   "source": [
    "posneg.keys()"
   ]
  },
  {
   "cell_type": "code",
   "execution_count": 104,
   "metadata": {},
   "outputs": [
    {
     "data": {
      "text/plain": [
       "dict_values([13.12, 20.95, 19.5, 19.55, 19.39, 18.87, 20.07, 19.85])"
      ]
     },
     "execution_count": 104,
     "metadata": {},
     "output_type": "execute_result"
    }
   ],
   "source": [
    "posneg.values()"
   ]
  },
  {
   "cell_type": "code",
   "execution_count": 105,
   "metadata": {},
   "outputs": [
    {
     "data": {
      "text/plain": [
       "dict_values([56.19, 49.42, 40.84, 41.3, 42.09, 47.7, 46.87, 45.78])"
      ]
     },
     "execution_count": 105,
     "metadata": {},
     "output_type": "execute_result"
    }
   ],
   "source": [
    "positive = dict(sorted(positive.items(), key=lambda item: item[0]))\n",
    "positive.values()"
   ]
  },
  {
   "cell_type": "code",
   "execution_count": 106,
   "metadata": {},
   "outputs": [
    {
     "data": {
      "text/plain": [
       "dict_values([24.95, 24.77, 35.12, 35.31, 35.08, 29.11, 29.1, 31.44])"
      ]
     },
     "execution_count": 106,
     "metadata": {},
     "output_type": "execute_result"
    }
   ],
   "source": [
    "negative = dict(sorted(negative.items(), key=lambda item: item[0]))\n",
    "negative.values()"
   ]
  },
  {
   "cell_type": "code",
   "execution_count": 107,
   "metadata": {},
   "outputs": [
    {
     "data": {
      "text/plain": [
       "dict_values([5.73, 4.86, 4.53, 3.84, 3.44, 4.33, 3.96, 2.93])"
      ]
     },
     "execution_count": 107,
     "metadata": {},
     "output_type": "execute_result"
    }
   ],
   "source": [
    "neutral = dict(sorted(neutral.items(), key=lambda item: item[0]))\n",
    "neutral.values()"
   ]
  },
  {
   "cell_type": "code",
   "execution_count": null,
   "metadata": {},
   "outputs": [],
   "source": [
    "filtered_df = df[df['Hospital'] == 'SickKids Hospital']\n",
    "filtered_df['ProcessedUnit'] = filtered_df['Unit'].map(unit_mapping).fillna(df['Unit'])\n",
    "\n",
    "# Print the DataFrame to see the new \"ProcessedUnit\" column\n",
    "print(filtered_df)"
   ]
  },
  {
   "cell_type": "code",
   "execution_count": 88,
   "metadata": {},
   "outputs": [
    {
     "name": "stdout",
     "output_type": "stream",
     "text": [
      "Unique Units for Almonte General Hospital:\n",
      "[nan]\n",
      "\n",
      "\n",
      "Unique Units for Bluewater:\n",
      "['Medicine G' 'Medicine' 'Medicine T Telemetry' 'Surgery'\n",
      " 'Emergency Sarnia' 'Rehabilitation' 'Med/Surg - Rural Health (CEE)'\n",
      " 'Obstetrics' 'Surgery B' 'Emergency Rural Health' 'Day Surgery'\n",
      " 'Medicine A' 'Acute Mental Health Inpatient' 'Surgery A']\n",
      "\n",
      "\n",
      "Unique Units for Brant Community Healthcare System:\n",
      "['Brantford Site' 'Ucare TWH' 'Fracture Clinic' 'Ambulatory' 'OP Stroke'\n",
      " 'DEC BGH' 'DEC-TWH']\n",
      "\n",
      "\n",
      "Unique Units for Campbellford:\n",
      "['Emergency' 'Inpatient']\n",
      "\n",
      "\n",
      "Unique Units for Children's Hospital of Eastern Ontario:\n",
      "['5 East' 'CHEO. MH OUT-PATIENT SERVICES•6TH FLOOR' '4 West'\n",
      " 'CHEO MH OUT-PATIENT SERVICES 6TH FLOOR.'\n",
      " 'CHEO MH OUT-PATIENT SERVICES 6TH FLOOR'\n",
      " 'CHEO MU OUT-PATIENT SERVICES MONTREAL RD'\n",
      " 'EATING DISORDERS INPATIENT PROGRAM CHEO 6'\n",
      " 'INPATIENT PSYCHIATRY PROGRAM CHEO 6E' 'CHEO MH EATING DISORDER 5 NORTH'\n",
      " 'CHEO MH OUT-PATIENT SERVICES MONTREAL RD' '4 North'\n",
      " 'CHEO. MFI OUT-PATIENT SERVICES 6TH FLOOR'\n",
      " '.INPATIENT PSYCHIATRY PROGRAM CHEO 6E'\n",
      " 'CHEO MH EATING DISORDER :5 NORTH'\n",
      " 'CHEO MH OUT-PATIENT SERVICES. MONTREAL RD'\n",
      " 'CH EO MN OUT-PATIENT SERVICES MONTREAL RD'\n",
      " 'INPATIENT PSYCHIATRY PROGRAM:CHEO 6E'\n",
      " 'CHEO MH DAY TREATMENT- CENTRE ADO' 'CHEO MH EATING DISORDER .5 NORTH'\n",
      " 'CHEO MH EATING DISORDERS NORTH' 'CHEO MR OUT-PATIENT SERVICES:6TH FLOOR'\n",
      " 'CHEO MH OUT-PATIENT SERVICES:MONTREAL RD'\n",
      " 'CHEO MITI OUT-PATIENT SERVICES MONTREAL RD'\n",
      " 'EATING DISORDERS INPATIENT pROGRAM CHEO 6'\n",
      " 'CHEO MR OUT-PATIENT SERVICES MONTREAL RD'\n",
      " '1CHEO MH OUT-PATIENT:SERVICES 6TH FLOOR'\n",
      " \"CHEO MI-I OUT-PATIENT SERVICES 6TH FLOOR'\"\n",
      " 'CFIE0 MH QUT43ATIENT SERVICES 6TH FLOOR'\n",
      " 'EATING DISORDERS. INPATIENT PROGRAM CHEO 6'\n",
      " '.CHEO MH EATING DISORDER 5 NORTH'\n",
      " 'CHEO MHOUT-PATIENT SERVICES 6TH FLOOR'\n",
      " 'CHEO MI-I OUT-PATIENT SERVICES MONTREAL RD'\n",
      " 'CHEO MH OUT-PATIENT SERVICES MONTREAL .RD'\n",
      " 'CHEO MH OUT-PATIENTSERVICES MONTREAL RD'\n",
      " 'CHEO MH OUT=PATIENT SERVICES 6TH FLOOR'\n",
      " 'CHEO .MH OUT-PATIENT SERVICES 6TH FLOOR'\n",
      " 'CHEO MH OUT-PATIENT SERVICES. MONTREAL RD.'\n",
      " 'CHEO .MH OUT-PATIENT SERVICES MONTREAL RD.'\n",
      " \"CHEO MH'OUT-PATIENT SERVICES MONTREAL RD\"\n",
      " 'CH EO MH OUT-PATIENT. SERVICES MONTREAL RD'\n",
      " 'CHEO MH OUT-PATIENT SERVICES MONTREAL RD.'\n",
      " 'CHEO MH EATING DISORDER S: NORTH'\n",
      " 'CHEO MH OUT-PATIENT SERVICES 6T1-1 FLOOR'\n",
      " 'CHEO MI-1 OUT-PATIENT SERVICES. MONTREAL RD'\n",
      " 'INPATIENT PSYCHIATRY PROGRAM CHEO GE'\n",
      " 'CHEO MH OUT-PATIENT. SERVICES MONTREAL RD'\n",
      " 'CHEO MI-I OUT-PATIENT SERVICES .MONTREAL RD'\n",
      " 'CHEO MH OUT-PATIENT SERVICES MONTREAL RD:'\n",
      " 'CHEO. MH EATING DISORDER 5 NORTH'\n",
      " \"CHEO MH OUT-PATIENT SERVICES'6TH FLOOR\"\n",
      " 'CHEO MO OUT-PATIENT SERVICES 6TH FLOOR'\n",
      " 'HEO MI-I OUT-PATIENT SERVICES. MONTREAL RD'\n",
      " 'CHEO Mil OUT-PATIENT SERVICES MONTREAL RD'\n",
      " 'CHEO MI-I EATING DISORDER 5 NORTH'\n",
      " 'EATING DISORDERS INPATIENT PROGRAM CHEO .6.'\n",
      " 'CHEO MH OUT PATIENT SERVICES 6TH FLOOR'\n",
      " 'CHEO M H OUT-PATIENT SERVICES MONTREAL RD' 'Qmpc(Registerecl)']\n",
      "\n",
      "\n",
      "Unique Units for Dryden Regional Health Centre Comments:\n",
      "['Emergency (Mail)' 'Acute Care (Mail)' 'Emergency (Phone)'\n",
      " 'Acute Care (Phone)']\n",
      "\n",
      "\n",
      "Unique Units for Erie Shores:\n",
      "[nan]\n",
      "\n",
      "\n",
      "Unique Units for Georgian Bay:\n",
      "['Emergency Department' 'Outpatient' 'Inpatient']\n",
      "\n",
      "\n",
      "Unique Units for Grand River Hospital:\n",
      "['MHAP' '8AC' 'Emergency - CTAS 2 (Phone)' '6OC' '6DN'\n",
      " 'Emergency - CTAS 4 (Phone)' 'Emergency - CTAS 3 (Phone)'\n",
      " 'Emergency - CTAS 5 (Phone)' '6DS' 'Emergency -CTAS 4 (Phone)'\n",
      " 'Childrens (Phone)' 'CCC' 'Stroke' '5DS' '5DN'\n",
      " 'Emergency -CTAS 5 (Phone)' 'Cancer' '4D' 'Medicine' 'Rehabilitation'\n",
      " '5A' 'Emergency - CTAS 1 (Phone)' 'Surgery' 'Childbirth'\n",
      " 'Emergency -CTAS 1 (Phone)' '4AB' 'xxChildrens']\n",
      "\n",
      "\n",
      "Unique Units for Guelph General Hospital:\n",
      "['Emergency  (Phone)' 'Surgery  (Phone)' 'Medicine (Phone)'\n",
      " 'Surgery (Phone)' 'Medicine  (Phone)' 'Emergency (Phone)']\n",
      "\n",
      "\n",
      "Unique Units for Hamilton:\n",
      "['Juravinski Cancer Centre' 'General Emergency' 'Hamilton General'\n",
      " 'Juranviski' 'McMaster Emergency' 'Juravinski Emergency'\n",
      " 'West Lincoln Emergency' 'West Lincoln']\n",
      "\n",
      "\n",
      "Unique Units for Health Sciences North:\n",
      "['Surgical 4 South' 'EDPEC' 'Cardiology 8 North'\n",
      " 'Surgical 7A &amp;7 B North' 'Medical 4 North' 'Surgical Short Stay'\n",
      " 'Medical 5 South' 'Medical 6 South' 'Ambulatory Care'\n",
      " 'ACU Clinical Procedures' 'Obstetrics' 'Medical Day Care' 'Day Surgery']\n",
      "\n",
      "\n",
      "Unique Units for Holland Bloorview Kids Rehabilitation Centre:\n",
      "['All Other Services (P&amp;I) (Phone)' 'BIRT_IP (Mail)'\n",
      " 'Neuromotor (Phone)' 'SODR_IP (Mail)' 'Neuromotor (Mail)'\n",
      " 'BIRT (OP) - (Mail)' 'Autism (Mail)' 'xxNeuromotor (Email)'\n",
      " 'All Other Services (P&amp;I) (Mail)' 'CWAS (Mail)'\n",
      " 'All Medical Clinics (Mail)' 'All Medical Clinics (Phone)'\n",
      " 'TR &amp; Life Skills (Mail)' 'BIRT - OP (Phone)' 'CCC_IP (Mail)'\n",
      " 'xxAutism (Email)' 'CWAS (Phone)' 'xxAll Medical Clinics (Email)'\n",
      " 'xxTR &amp; Life Skills (Email)' 'TR &amp; Life Skills (Phone)'\n",
      " 'Neuromotor (Language)' 'xxBIRT (OP) (Email)'\n",
      " 'xxAll Other Services (P&amp;I) (Email)']\n",
      "\n",
      "\n",
      "Unique Units for Joseph Brant Hospital:\n",
      "['Emergency (Ambulatory)' 'Surgery' 'Medicine']\n",
      "\n",
      "\n",
      "Unique Units for Kingston:\n",
      "[nan]\n",
      "\n",
      "\n",
      "Unique Units for London:\n",
      "['Cardiac Surgery- U6' 'U-ER' 'Surgery-C51 Urology/ENT' 'V-AED'\n",
      " 'Medicine C- D52/D53' 'Surgery-B91 General Surg'\n",
      " 'Surgery-U9 Orthopedic IP' 'Surgery-U8 General Surg' 'Medicine-U4'\n",
      " 'Surgery-D51 Cardiac/Vascular' 'CNS-U7' 'London Regional Cancer Centre'\n",
      " 'Perinatal Care (Mail)' 'Gynecology- D43/D44' 'V-PED (ED PPEC)'\n",
      " 'Medicine D- D63/D64' 'Cardiac- Cardiology U5'\n",
      " 'Surgery-B92 Orthopedic Trauma' 'Surgery- C53 Thoracic' 'NICU'\n",
      " 'Multi Organ Transplant-U-4TU' 'Oncology- C71/C72/C73/C74'\n",
      " 'Nephrology-D62' 'Paeds 1' 'xxV-PED' 'Paeds 2' 'Medicine B- D71/D72/D73'\n",
      " 'xxSurgery-C52 Plastics/ENT' 'Perinatal Care (Phone)']\n",
      "\n",
      "\n",
      "Unique Units for Mackenzie Health:\n",
      "['MRH C3 MEDICINE AQUA (Mail)' 'MRH D3 MEDICINE AQUA (Mail)'\n",
      " 'MRH D4 SURGERY PURPLE (Email)' 'Emergency' 'MRH C4 SURGERY AQUA (Email)'\n",
      " 'MRH D4 SURGERY PURPLE (Mail)' 'MRH C3 MEDICINE ORANGE (Mail)'\n",
      " 'MRH C5 MOTHER (Mail)' 'MRH C4 MEDICINE ORANGE (Mail)'\n",
      " 'MRH C4 SURGERY AQUA (Mail)' 'MRH C5 MOTHER (Email)'\n",
      " 'MRH C3 MEDICINE ORANGE (Email)' 'MRH D3 MEDICINE AQUA (Email)'\n",
      " 'MRH C4 MEDICINE PURPLE (Mail)' 'MRH C4 MEDICINE ORANGE (Email)'\n",
      " 'MRH C5 L AND D MOTHER (Email)' 'MRH C4 MEDICINE PURPLE (Email)'\n",
      " 'MRH C3 MEDICINE AQUA (Email)']\n",
      "\n",
      "\n",
      "Unique Units for Markham Stouffville:\n",
      "['3WF' 'Obstetrics' '3C' 'Uxbridge IP' 'Emergency' '3WH' '2E'\n",
      " 'CPES-IC - Acute Medicine' 'Rehab' '3E' 'CPES-IC - Surgery' 'Paediatrics'\n",
      " '2C (Last surveyed May 2018)' '1E' '1C' 'Uxbridge ER' '2C' '3WG' 'INETEL'\n",
      " '1E (Last surveyed May 2018)' 'INEMED' '1C (Last surveyed May 2018)']\n",
      "\n",
      "\n",
      "Unique Units for Michael Garron:\n",
      "[nan]\n",
      "\n",
      "\n",
      "Unique Units for Mount Sinai:\n",
      "['Unknown']\n",
      "\n",
      "\n",
      "Unique Units for Muskoka Algonquin Healthcare:\n",
      "['Huntsville District Memorial Hospital' 'South Muskoka Memorial Hospital'\n",
      " 'Huntsville District Memorial/Burks Falls Hospital']\n",
      "\n",
      "\n",
      "Unique Units for Niagara:\n",
      "[nan]\n",
      "\n",
      "\n",
      "Unique Units for Norfolk General Hospital:\n",
      "['Surgical' 'Medical' 'Emergency']\n",
      "\n",
      "\n",
      "Unique Units for North Bay Regional Health Centre:\n",
      "['Emergency' 'SURGB3' 'MED' 'SURGA3' 'MEDD3' 'MEDC3' 'SURGSDA' 'SURG']\n",
      "\n",
      "\n",
      "Unique Units for North York:\n",
      "['Inpatient' 'ER']\n",
      "\n",
      "\n",
      "Unique Units for Orillia:\n",
      "['Integrated Medicine and Rehab Services' 'Medical S1'\n",
      " 'Emergency Department' 'Surgical C5' 'Medical S2']\n",
      "\n",
      "\n",
      "Unique Units for Ottawa Hospital:\n",
      "[nan]\n",
      "\n",
      "\n",
      "Unique Units for Pembroke:\n",
      "['Emergency' 'Surgery' 'Rehabilitation (Handout)'\n",
      " 'Maternity (Postcard/Handout)' 'Medical (Phone)' 'Emergency (Phone)'\n",
      " 'Medical']\n",
      "\n",
      "\n",
      "Unique Units for Peterborough Regional Health Centre:\n",
      "['XX' 'Emergency']\n",
      "\n",
      "\n",
      "Unique Units for Quinte Health Care Corporation:\n",
      "['Belleville General' 'PrinceEdward county Memorial' 'North Hastings'\n",
      " 'Prince Edward County Memorial' 'Trenton Memorial'\n",
      " 'Quinte 5 (Acute Medicine)' 'Q6 Medicine IPU' 'Q4 Surgery IPU'\n",
      " 'Quinte 6 (Surgery)' 'Quinte 4 (ACE/ALC)']\n",
      "\n",
      "\n",
      "Unique Units for Royal Victoria:\n",
      "[nan]\n",
      "\n",
      "\n",
      "Unique Units for Sault Area:\n",
      "['Oncology' 'Emergency Fast Track' 'Core Emergency' 'Day Surgery'\n",
      " 'Medical (3B)' 'Ambulatory Clinic - General' 'Medical (3C)'\n",
      " 'Mental Health IP Acute' 'Surgical (3A)' 'Obstetrics (Mail)'\n",
      " 'Obstetrics (Email)']\n",
      "\n",
      "\n",
      "Unique Units for Scarborough:\n",
      "['G4D' 'G4A-Med' 'Centenary' 'General' 'YC9W' 'H3C-Sur' 'YC2BC' 'YC9CP'\n",
      " 'G3D' 'YC5W' 'H9T/H4E' 'H2C-Neph' 'H4C-Med' 'H3CP-ORT' 'Birchmount'\n",
      " 'H6T-ONC' 'G3D (Last Surveyed March 2017)'\n",
      " 'H3CP-ORT (Last Surveyed March 2017)' 'G4FBP' 'H2T-Neph'\n",
      " 'H4CPM (Last Surveyed March 2017)' 'G3A-SUR' 'General Surgery' 'xxYC4ME'\n",
      " 'H9T' 'YC5E' 'H4C-MED (Last Surveyed March 2017)' 'H2OBS' 'H4CPM' 'YC9E'\n",
      " 'H6T' 'Centenary Cardiology' 'Centenary Medicine' 'CPES-IC'\n",
      " 'H3C-SUR (Last Surveyed March 2017)' 'H6T-Med'\n",
      " 'H9T (Last Surveyed March 2017)' 'G4FBP (Last Surveyed March 2017)'\n",
      " 'YC4ME' 'G4D (Last Surveyed March 2017)'\n",
      " 'G3A-Sur (previously G4A) (Last Surveyed March 2017)' 'General Medicine'\n",
      " 'H2OBS (Last Surveyed March 2017)'\n",
      " 'H2C/H2C-NEPH (Last Surveyed March 2017)'\n",
      " 'G4A-Med (previously G3A) (Last Surveyed March 2017)' 'G4C' 'xxH7T-ALC'\n",
      " 'xxH1CP']\n",
      "\n",
      "\n",
      "Unique Units for SickKids Hospital:\n",
      "['Ophthalmology' 'Orthopaedics' '4D' 'Emergency' '6A/6B' 'Urology'\n",
      " 'Haematology/Oncology' '5A' 'Cardiology' 'Diagnostic Imaging' '5C'\n",
      " '8A/8B/6E' '5A/5B' 'Emergency (Mail)' 'Respiratory Medicine'\n",
      " 'Emergency (Email)' 'Endocrine' '8C' 'Dentistry' '7B/7C/7D/7E' '5B'\n",
      " 'Mental Health Outpatient']\n",
      "\n",
      "\n",
      "Unique Units for Southlake:\n",
      "['Cath Lab (Mail)' 'Emergency (Mail)' 'Medical Assessment (Mail)'\n",
      " 'Surgical Services (Mail)' 'Mental Health IP' 'Heart Rhythm (Mail)'\n",
      " 'Cataract (Mail)' 'General Day Surgery (Mail)' 'General Medicine (Mail)'\n",
      " 'MSK Acute (Mail)' 'Heart Rhythm' 'Cardiology  (Mail)'\n",
      " 'Outpatient Rehab (Mail)' 'Obstetrics (Mail)' 'Heart Rhythm (Phone)'\n",
      " 'Restorative Care - Humber-Finch Site (Mail)' 'Obstetrics (Phone)'\n",
      " 'General Medicine (Phone)' 'Oncology' 'MSK Acute (Phone)'\n",
      " 'General Day Surgery (Phone)' 'Cardiac Surgery (Mail)'\n",
      " 'Emergency (Phone)' 'Paediatrics (Mail)' 'Cataract (Phone)'\n",
      " 'Cardiology  (Phone)' 'Paediatrics (Phone)' 'Cardiac Surgery (Phone)'\n",
      " 'Cath Lab (Phone)' 'Surgical Services (Phone)'\n",
      " 'Medical Assessment (Phone)'\n",
      " 'Outpatient Rehab (Phone); xxFracture Clinic (Phone)' 'Cataract'\n",
      " 'Mental Health OP' 'Fracture Clinic'\n",
      " 'Restorative Care - Humber-Finch Site (Phone)' 'Cath Lab'\n",
      " 'General Day Surgery'\n",
      " 'xxFracture Clinic (Phone); Outpatient Rehab (Phone)']\n",
      "\n",
      "\n",
      "Unique Units for St. Joseph's Healthcare Hamilton:\n",
      "['Surgical IP-7 Surgical (Phone)' 'Surgical IP-Chest (Phone)'\n",
      " 'Emergency (Phone)' 'Emergency (Mail)' 'General Med (Phone)'\n",
      " 'ED: AgeGrp 35-44' 'Kidney Urinary (Phone) '\n",
      " 'Surgical IP-6 Surgical (Phone)' '5008912' 'ED: AgeGrp 45-54'\n",
      " 'Kidney Urinary Nephrology (Phone)' 'General Med CTU West (Phone)'\n",
      " 'Surgical IP - 7 Surgical (Phone)'\n",
      " 'CPES: AgeGrp 18-34; General Med-CTU Central (Phone)'\n",
      " 'General Med CTU Central (Phone)'\n",
      " 'Surgical IP-6 Surgical (Phone); CPES: AgeGrp 45-54'\n",
      " 'Surgical IP-Head &amp; Neck (Phone)' 'Surgical IP (Phone)'\n",
      " 'Kidney Urinary Renal Transplant (Phone)' 'ED: AgeGrp 18-34'\n",
      " 'General Med CTU North (Phone)' 'Emergency' '5008911' 'ED: AgeGrp 65+'\n",
      " 'General Med-CTU Central (Phone); CPES: AgeGrp 45-54'\n",
      " 'Surgical IP - Chest (Phone)' 'General Med CTU North (Phone) '\n",
      " 'Kidney Urinary (Phone)' 'ED: AgeGrp 55-64'\n",
      " 'Surgical IP-Head &amp; Neck (Phone) '\n",
      " 'Surgical IP - Head &amp; Neck (Phone)'\n",
      " 'Surgical IP-Chest (Phone): CPES: AgeGrp 65+'\n",
      " 'General Med - CTU West (Phone): CPES: AgeGrp 18-34'\n",
      " 'ED: AgeGrp 45-54 ED:'\n",
      " 'Kidney Urinary Nephrology (Phone); CPES: AgeGrp 65+'\n",
      " 'Surgical IP-Chest (Phone); CPES: AgeGrp 65+'\n",
      " 'General Med - CTU West (Phone); CPES: AgeGrp 65+'\n",
      " 'Kidney Urinary Nephrology (Phone). CPES: AgeGrp 65+'\n",
      " 'Surgical IP-Chest (Phone); CPES: AgeGrp 55-64'\n",
      " 'CPES: AgeGrp 65+: Surgical IP-7 Surgical (Phone)'\n",
      " 'CPES: AgeGrp 55-64: General Med CTU West (Phone)'\n",
      " 'Surgical IP-6 Surgical (Phone); CPES: AgeGrp 65+'\n",
      " 'Surgical IP-6 Surgical (Phone): CPES: AgeGrp 65+'\n",
      " '(Phone); CPES: AgeGrp 45-54' 'Surgical IP - 6 Surgical (Phone)'\n",
      " 'General Med - CTU West (Phone); CPES: AgeGrp 65+ Surgical IP-7 Surgical'\n",
      " 'Surgical IP - (Phone)' 'Surgical IP-Chest (Phone); CPES: AgeGrp 45-54'\n",
      " 'Surgical IP-6 Surgical (Phone); CPES: AgeGrp 35-44'\n",
      " 'General Med. (Phone)'\n",
      " 'General Med - CTU North (Phone); CPES: AgeGrp 55-64'\n",
      " 'Surgical IP-Chest (Phone) ' 'General Med (Phone) '\n",
      " 'Surgical IP-7 Surgical (Phone); CPES: AgeGrp 45-54'\n",
      " 'General Med CTU North (Phone); CPES: AgeGrp 65+'\n",
      " 'Surgical IP-6 Surgical (Phone); CPES: AgeGrp 18-34'\n",
      " 'Surgical IP (Phone) '\n",
      " 'General Med - CTU North (Phone); CPES: AgeGrp 45-54'\n",
      " 'General Med - CTU North (Phone); CPES: AgeGrp 65+'\n",
      " 'Kidney Urinary Nephrology (Phone) CPES: AgeGrp 65+' 'ED: AgeGrp 18-34 '\n",
      " 'CPES: AgeGrp 55-64; Surgical IP-7 Surgical (Phone) '\n",
      " 'General Med-CTU Central (Phone); CPES: AgeGrp 65+ CPES: '\n",
      " 'CPES: AgeGrp 55-64: Kidney Urinary Nephrology (Phone)'\n",
      " 'Surgical IP-| (Phone)' 'General Med. CTU North (Phone)'\n",
      " 'Kidney Urinary - Renal Transplant (Phone): CPES: AgeGrp 65+'\n",
      " 'Surgical (Phone); CPES: AgeGrp 55-64'\n",
      " 'Kidney Urinary-Renal Transplant (Phone): CPES: AgeGrp 35-44'\n",
      " 'CPES: AgeGrp 55-64; Surgical IP - Head &amp; Neck (Phone)'\n",
      " 'Surgical IP - 7 Surgical (Phone) '\n",
      " 'Kidney Urinary Nephrology (Phone): CPES: AgeGrp 65+'\n",
      " 'CPES: AgeGrp 55-64; Kidney Urinary Nephrology (Phone)'\n",
      " 'ED: AgeGrp 45-54 ' 'CPES: AgeGrp 55-64; General Med-CTU Central (Phone)'\n",
      " 'AgeGrp 18-34; Surgical IP-7 Surgical (Phone)'\n",
      " 'General Med - CTU West (Phone): CPES: AgeGrp 35-44'\n",
      " 'General Med - CTU Central (Phone); CPES: Age Grp 35-44'\n",
      " 'Kidney Transplant (Phone): CPES: AgeGrp 35-44'\n",
      " 'Surgical IP-Chest (Phone): CPES: AgeGrp 55-64'\n",
      " 'CPES: AgeGrp 55-64; Surgical IP-7 Surgical (Phone)'\n",
      " 'General Med CTU Central (Phone) '\n",
      " 'Kidney Urinary - Renal Transplant (Phone): CPES: AgeGrp 45-54'\n",
      " 'Surgical IP-6 Surgical (Phone) General Med'\n",
      " 'CPES: AgeGrp 55-64: General Med-CTU Central (Phone)' 'Surgical IP'\n",
      " 'Surgical IP - Head &amp; Neck (Phone); CPES: AgeGrp 65+'\n",
      " 'Surgical IP- Head &amp; Neck (Phone): CPES: AgeGrp 45-54'\n",
      " 'Surgical IP-Chest (Phone); CPES: AgeGrp 35-44'\n",
      " 'Kidney Urinary-Renal Transplant (Phone): CPES: AgeGrp 65+'\n",
      " 'General Med-CTU Central (Phone); CPES: AgeGrp 35-44'\n",
      " 'General Med - CTU West (Phone); CPES: AgeGrp 45-54'\n",
      " 'CPES: AgeGrp 55-64: Surgical IP-Head &amp; Neck (Phone)' 'General Med'\n",
      " 'Surgical IP-Head &amp; Neck (Phone): CPES: AgeGrp 65+ '\n",
      " '(Phone) Surgical IP-7 Surgical (Phone)'\n",
      " 'Surgical IP-6 Surgical (Phone); CPES: AgeGrp 55-64'\n",
      " 'General Med - CTU West (Phone); CPES: AgeGrp 35-44 ' 'ED: AgeGrp 35-44 ']\n",
      "\n",
      "\n",
      "Unique Units for St. Josephs:\n",
      "['Inpatient' 'ER' 'Oupatient']\n",
      "\n",
      "\n",
      "Unique Units for St. Michaels:\n",
      "['Inpatient' 'Outpatient' 'ER']\n",
      "\n",
      "\n",
      "Unique Units for Sunnybrook:\n",
      "['C2 (Email)' 'D3 (Mail)' '16E (Mail)' '13E (Mail)' 'Emergency (Mail)'\n",
      " 'xxMSK; A4' 'A2' 'C4 (Mail)' '17E (Mail)' 'D2 (Mail)' 'D5 (Mail)' 'A1'\n",
      " 'C5 (Mail)' 'xxTrauma' 'C6' 'xxCardiac' 'C3/CCU (Mail)' 'B4 (Mail)' 'A3'\n",
      " 'xxS.T.A.R.' 'M5LB/M5NC/M5NW/M5NE' 'CVIC' 'M5MN' 'M5HR' 'D4 (Mail)'\n",
      " 'Emergency (Email)' 'B5 IC' 'C2 (Mail)' 'D6 (Mail)' 'A4' 'C5 (Email)'\n",
      " 'D5 (Email)' 'C4 (Email)' 'D6 (Email)' 'xxOncology' 'xxNeurology'\n",
      " 'D3 (Email)' 'xxAmputee' 'C3/CCU (Email)' 'C6 (Email)' '13E (Email)'\n",
      " 'xxBurns' '16E (Email)' 'B4 (Email)' 'D2 (Email)']\n",
      "\n",
      "\n",
      "Unique Units for Thunder Bay Regional:\n",
      "[nan]\n",
      "\n",
      "\n",
      "Unique Units for Trillium:\n",
      "['Cardiac: CARU/2C (Combined), MH (Mail)' 'Surgery: SURG2B, MH (Mail)'\n",
      " 'Cardiac: CSPU2J, MH (Mail)' 'Neuro/MSK: ORTH1J, MH (Mail)'\n",
      " 'Surgery: SURG2B2, MH (Mail)' 'Surgery: 1B Surg, CVH (Mail)'\n",
      " 'Medicine: 3A3 Flex, MH (Mail)' 'Medicine: 1A, CVH (Mail)'\n",
      " 'Oncology: MED 6J, MH (Mail)' 'Cardiac: 3B Cardiology, CVH (Mail)'\n",
      " 'Oncology: ONCIN, CVH (Mail)' 'Medicine: 2B GMed, CVH (Mail)'\n",
      " 'Medicine: 1E Med, CVH (Mail)' 'Medicine: 4B, MH (Mail)'\n",
      " 'M-MED4D (Phone)' 'Cardiac: CCU 3J, MH (Mail)'\n",
      " 'Cardiac: Short Stay CSSU2D, MH (Mail)'\n",
      " 'Neuro/MSK: Surgical Spine Unit, MH (Mail)'\n",
      " 'Neuro/MSK: NEUS4D, MH (Mail)' 'M-CSA3A (Phone)'\n",
      " 'Cardiac: 3B Cardiology, CVH (Phone)' 'Medicine: 2C GMed, CVH (Mail)'\n",
      " 'Medicine: 2B GMed, CVH (Phone)' 'Cardiac: Short Stay CSSU2D, MH (Phone)'\n",
      " 'Medicine: 5J, MH (Mail)' 'Medicine: 1C/3B Med, CVH (Mail)'\n",
      " '1A-SURG, CVH (Phone)' 'Cardiac: CARU/2C (Combined), MH (Phone)'\n",
      " 'Medicine: 1E Med, CVH (Phone)' 'Medicine: 1C, CVH (Phone)'\n",
      " 'M-CCU (Phone)' 'Medicine: 3A, MH (Phone)' 'M-NSSU4J (Phone)'\n",
      " 'Neuro/MSK: ORTH1J, MH (Phone)' '1B MED, CVH (Phone)'\n",
      " 'Medicine: MED4B, MH (Phone)' 'Oncology: ONCIN, CVH (Phone)'\n",
      " 'Surgery: SURG2B, MH (Phone)' 'Intensive Care Unit, MH (Mail)'\n",
      " 'Cardiac: CSPU2J, MH (Phone)' 'Oncology: MED6J, MH (Phone)'\n",
      " 'Intensive Care Unit, CVH (Mail)' 'M-NEUS4J (Phone)'\n",
      " 'Medicine: 2C GMed, CVH (Phone)' 'Medicine: 3A/3A2, MH (Mail)'\n",
      " 'Medicine: MED5J, MH (Phone)'\n",
      " 'Neuro/MSK: Comp. Stroke Unit: NSUA4C, MH (Mail)'\n",
      " 'Surgery: SURG2B2, MH (Phone)' 'M-Med4C (Phone)'\n",
      " 'C CON 2A SURGE, CVH (Phone)']\n",
      "\n",
      "\n",
      "Unique Units for University Health Network:\n",
      "[nan]\n",
      "\n",
      "\n",
      "Unique Units for Winchester:\n",
      "[nan]\n",
      "\n",
      "\n",
      "Unique Units for Windsor Regional:\n",
      "['Met - Medicine ME2 (Mail)' 'Met - Medicine ON1 (Mail)'\n",
      " 'EDPEC - Ouellette (Mail)' 'EDPEC - Metropolitan (Mail)'\n",
      " 'Oue-Surgery 6E (Email)' 'Met - Medicine SSM (Mail)'\n",
      " 'Maternity - Metropolitan (Mail)' 'EDPEC - Metropolitan (Email)'\n",
      " 'Oue-Surgery 8E Neurosurgery (Mail)' 'Met- Surgery SU1 (Mail)'\n",
      " 'Met- Medicine ME2 (Email)' 'Phone (CIHI Mode)' 'Met- Surgery SU2 (Mail)'\n",
      " 'Maternity - Metropolitan (Email)' 'Oue-Surgery 8E Neurosurgery (Email)'\n",
      " 'Oue - Medicine 7E (Mail)' 'Met- Medicine ME3 (Email)'\n",
      " 'Oue-Surgery6E (Mail)' 'Oue-Medicine 5A (Email)'\n",
      " 'Oue-Surgery 8W Neurology (Email)' 'Oue-Surgery8ENeurosurgery (Email)'\n",
      " 'EDPEC - Ouellette (Email)' 'Met- Medicine SSM (Email)'\n",
      " 'Oue-Surgery 6E (Mail)' 'Oue-Surgery 6W (Mail)' 'Oue-Surgery 6W (Email)'\n",
      " 'Oue - Medicine 5A (Mail)' 'Met-Surgery SU1 (Email)' 'CPES-IC'\n",
      " 'Oue-Surgery 8W Neurology (Mail)' 'Oue-Surgery6E (Email)'\n",
      " 'Oue - Medicine 7W (Mail)' 'Met - Medicine ME3 (Mail)'\n",
      " 'PPEC - Metropolitan (Mail)' 'Metropolitan - SU1 (Phone)'\n",
      " 'Met-Surgery SU1 (Mail)' 'Phone Discharge (CIHI Mode)'\n",
      " 'Met-Surgery SU2 (Mail)' 'Oue-Surgery6W (Mail)' 'Oue - Medicine 4 (Mail)'\n",
      " 'Met-MedicineME3 (Email)'\n",
      " 'Phone Emergency Dept, (CIHI Emotional Support, Mode) Physical Comfort, Infection Prevention &amp; Control'\n",
      " 'Oue-Surgery8ENeurosurgery (Mail)' 'Phone General Comment (CIHI Mode)'\n",
      " 'Ouellette - 6th Floor W (Phone)' 'Met - Medicine ME3 (Email)'\n",
      " 'Metropolitan - ME3 (Phone)' 'Met - MedicineSSM (Mail)'\n",
      " 'Met- Medicine ON1 (Email)' 'Met - MedicineON1 (Mail)'\n",
      " 'Maternity -Metropolitan (Email)' 'Phone Respect to Patient (CIHI Mode)'\n",
      " 'Met- Surgery SU2 (Email)' 'Ouellette - 8E Neurosurg (Phone)'\n",
      " 'PPEC - Metropolitan (Email)' 'CPES-IC ' 'Maternity -'\n",
      " 'Oue-Surgery 8ENeurosurgery (Mail)'\n",
      " 'Phone Physical Comfort, (CIHI Respect to Patient Mode)'\n",
      " 'Oue-Surgery8WNeurology (Mail)' 'Oue-Surgery 8ENeurosurgery (Email)'\n",
      " 'Phone Emotional Support (CIHI Mode)' 'Met-Surgery SU2 (Email)'\n",
      " 'Metropolitan - SU2 (Phone)' 'Met- Surgery' 'Metropolitan - SSM (Phone)'\n",
      " 'Met - MedicineME3 (Mail)' 'Met- Surgery SU1 (Email)'\n",
      " 'Phone Housekeeping/Room (CIHI Mode)' 'Metropolitan - ME2 (Phone)'\n",
      " 'Phone Access/Coord of Care, (CIHI Doctor/Physician, Mode) Housekeeping/Room, Nurse/Nurse aide, Respect to Patient'\n",
      " 'Ouellette - 5A (Phone)' 'Oue- Medicine 7E (Email)'\n",
      " 'Ouellette - 6th Floor E (Phone)' 'Ouellette - 8W -Neuro (Phone)'\n",
      " 'Oue-Surgery6W (Email)' 'Met - MedicineME2 (Mail)'\n",
      " 'Phone Access/Coord of Care, (CIHI Medication/Prescrip Mode)'\n",
      " 'EDPEC -Metropolitan(Email)' 'Maternity -Metropolitan(Mail)' 'Medicine'\n",
      " 'Oue-Medicine 7W (Email)' 'Oue - Medicine 3E/2N (Mail)' 'Metropolitan'\n",
      " 'Metropolitan - ON1 (Phone)' 'Oue- Surgery 6W (Email)'\n",
      " 'EDPEC -Metropolitan (Email)' 'EDPEC -Metropolitan (Mail)'\n",
      " 'PPEC - Metropolitan(Email)' 'Oue-Surgery8E Neurosurgery (Email)'\n",
      " 'Oue- Medicine 5A (Email)' 'Oue-Surgery8W Neurology (Email)'\n",
      " 'Phone Dietary/Service (CIHI Mode)' 'Oue- Surgery 6E (Email)'\n",
      " 'Oue-Medicine 7E (Email)' 'Met - Medicine ME2 (Email)'\n",
      " 'Ouellette - 7th Floor W (Phone)' 'Ouellette - 7th Floor E (Phone)'\n",
      " 'Oue- Medicine 4 (Email)' 'Oue- Medicine 7W (Email)'\n",
      " 'Phone Emotional Support, (CIHI Physical Comfort, Mode) Radiology'\n",
      " 'Phone Doctor/Physician (CIHI Mode)' 'Ouellette - 8W - Neuro (Phone)'\n",
      " 'Met - Access/Coord of Care, Medicine Emergency Dept, ME3 Housekeeping/Room, (Mail) Nurse/Nurse aide, Physical Comfort, Respect to Patient'\n",
      " 'Phone Housekeeping/Room, (CIHI Information/Education, Mode) Infection Prevention &amp; Control'\n",
      " 'Oue-Surgery8E Neurosurgery (Mail)']\n",
      "\n",
      "\n",
      "Unique Units for Woodstock General Hospital:\n",
      "['Day Surgery (Mail)' 'Surgery (Mail)'\n",
      " 'Woodstock General Hospital; Day Surgery' 'Emergency (Mail)'\n",
      " 'Day Surgery; Woodstock General Hospital' 'Medical (Mail)'\n",
      " 'Medical; Woodstock General Hospital'\n",
      " 'Surgery; Woodstock General Hospital' 'Obstetrics (Mail)'\n",
      " 'Woodstock General Hospital; Surgery'\n",
      " 'Woodstock General Hospital; Emergency' 'CCC Rehab (Handout)'\n",
      " 'Rehabilitation (Handout)' 'Emergency; Woodstock General Hospital'\n",
      " 'Rehabilitation; Woodstock General Hospital'\n",
      " 'Woodstock General Hospital; Medical'\n",
      " 'Continuing Complex Care Rehab; Woodstock General Hospital'\n",
      " 'Woodstock General Hospital; Rehabilitation'\n",
      " 'Woodstock General Hospital; Continuing Complex Care Rehab']\n",
      "\n",
      "\n"
     ]
    }
   ],
   "source": [
    "for hospital, group in df.groupby('Hospital'):\n",
    "    print(f\"Unique Units for {hospital}:\")\n",
    "    unique_units = group['Unit'].unique()\n",
    "    print(unique_units)\n",
    "    print(\"\\n\")"
   ]
  },
  {
   "cell_type": "code",
   "execution_count": 62,
   "metadata": {},
   "outputs": [],
   "source": [
    "unit_mapping = {\n",
    "'C2 (Email)': 'Inpatient Ward',\n",
    "'D3 (Mail)': 'Inpatient Ward',\n",
    "'16E (Mail)': 'Inpatient Ward',\n",
    "'13E (Mail)': 'Inpatient Ward',\n",
    "'Emergency (Mail)': 'Emergency Department / Accident and Emergency (A&E) / Casualty Department',\n",
    "'xxMSK; A4': 'Orthopedics Unit',\n",
    "'A2': 'Inpatient Ward',\n",
    "'C4 (Mail)': 'Inpatient Ward',\n",
    "'17E (Mail)': 'Inpatient Ward', \n",
    "'D2 (Mail)': 'Inpatient Ward',\n",
    "'D5 (Mail)': 'Inpatient Ward',\n",
    "'A1': 'Inpatient Ward',\n",
    "'C5 (Mail)': 'Inpatient Ward',\n",
    "'xxTrauma': 'Mental Health',\n",
    "'C6': 'Inpatient Ward',\n",
    "'xxCardiac': 'Cardiology Unit',\n",
    "'C3/CCU (Mail)': 'Coronary Care Unit (CCU) / Cardiac Intensive Care Unit (CICU)',\n",
    "'B4 (Mail)': 'Inpatient Ward',\n",
    "'A3': 'Inpatient Ward',\n",
    "'xxS.T.A.R.': 'Rehabilitation Unit',\n",
    "'M5LB/M5NC/M5NW/M5NE': 'Obstetrics Unit',\n",
    "'CVIC': 'Coronary Care Unit (CCU) / Cardiac Intensive Care Unit (CICU)',\n",
    "'M5MN': 'Obstetrics Unit',\n",
    "'M5HR': 'Obstetrics Unit',\n",
    "'D4 (Mail)': 'Inpatient Ward',\n",
    "'Emergency (Email)': 'Emergency Department / Accident and Emergency (A&E) / Casualty Department', \n",
    "'B5 IC': 'Inpatient Ward',\n",
    "'C2 (Mail)': 'Inpatient Ward',\n",
    "'D6 (Mail)': 'Inpatient Ward',\n",
    "'A4': 'Inpatient Ward',\n",
    "'C5 (Email)': 'Inpatient Ward',\n",
    "'D5 (Email)': 'Inpatient Ward',\n",
    "'C4 (Email)': 'Inpatient Ward',\n",
    "'D6 (Email)': 'Inpatient Ward',\n",
    "'xxOncology': 'Oncology / Cancer Center', \n",
    "'xxNeurology': 'Neurology Unit',\n",
    "'D3 (Email)': 'Inpatient Ward',\n",
    "'xxAmputee': 'Rehabilitation Unit',\n",
    "'C3/CCU (Email)': 'Coronary Care Unit (CCU) / Cardiac Intensive Care Unit (CICU)',\n",
    "'C6 (Email)': 'Inpatient Ward',\n",
    "'13E (Email)': 'Inpatient Ward',\n",
    "'xxBurns': 'Burn Unit / Burn Center', \n",
    "'16E (Email)': 'Inpatient Ward',\n",
    "'B4 (Email)': 'Inpatient Ward',\n",
    "'D2 (Email)': 'Inpatient Ward',\n",
    "'Day Surgery (Mail)' : 'Day Surgery Unit',\n",
    "'Surgery (Mail)': 'Inpatient Ward',\n",
    "'Woodstock General Hospital; Day Surgery' : 'Day Surgery Unit',\n",
    "'Day Surgery; Woodstock General Hospital' : 'Day Surgery Unit',\n",
    "'Medical (Mail)': 'Medicine Unit',\n",
    "'Medical; Woodstock General Hospital': 'Medicine Unit',\n",
    "'Surgery; Woodstock General Hospital': 'Inpatient Ward',\n",
    "'Woodstock General Hospital; Surgery': 'Inpatient Ward',\n",
    "'Woodstock General Hospital; Emergency': 'Emergency Department / Accident and Emergency (A&E) / Casualty Department',\n",
    "'CCC Rehab (Handout)': 'Rehabilitation Unit',\n",
    "'Emergency; Woodstock General Hospital': 'Emergency Department / Accident and Emergency (A&E) / Casualty Department',\n",
    "'Rehabilitation; Woodstock General Hospital': 'Rehabilitation Unit',\n",
    "'Woodstock General Hospital; Medical' : 'Medicine Unit',\n",
    "'Continuing Complex Care Rehab; Woodstock General Hospital': 'Rehabilitation Unit',\n",
    "'Woodstock General Hospital; Rehabilitation': 'Rehabilitation Unit',\n",
    "'Woodstock General Hospital; Continuing Complex Care Rehab': 'Rehabilitation Unit',\n",
    "'Cardiac: CARU/2C (Combined), MH (Mail)': 'Cardiology Unit',\n",
    "'Surgery: SURG2B, MH (Mail)': 'Inpatient Ward', # Assuming this is a surgical unit\n",
    "'Cardiac: CSPU2J, MH (Mail)': 'Cardiology Unit',\n",
    "'Neuro/MSK: ORTH1J, MH (Mail)': 'Orthopedics Unit',\n",
    "'Surgery: SURG2B2, MH (Mail)': 'Inpatient Ward', # Assuming this is a surgical unit\n",
    "'Surgery: 1B Surg, CVH (Mail)': 'Inpatient Ward', # Assuming this is a surgical unit\n",
    "'Medicine: 3A3 Flex, MH (Mail)': 'Medicine Unit',\n",
    "'Medicine: 1A, CVH (Mail)': 'Medicine Unit',\n",
    "'Oncology: MED 6J, MH (Mail)': 'Oncology / Cancer Center',\n",
    "'Cardiac: 3B Cardiology, CVH (Mail)': 'Cardiology Unit',\n",
    "'Oncology: ONCIN, CVH (Mail)': 'Oncology / Cancer Center',\n",
    "'Medicine: 2B GMed, CVH (Mail)': 'Medicine Unit',\n",
    "'Medicine: 1E Med, CVH (Mail)': 'Medicine Unit',\n",
    "'Medicine: 4B, MH (Mail)': 'Medicine Unit',\n",
    "'M-MED4D (Phone)': 'Medicine Unit',\n",
    "'Cardiac: CCU 3J, MH (Mail)': 'Coronary Care Unit (CCU) / Cardiac Intensive Care Unit (CICU)',\n",
    "'Cardiac: Short Stay CSSU2D, MH (Mail)': 'Cardiology Unit',\n",
    "'Neuro/MSK: Surgical Spine Unit, MH (Mail)': 'Inpatient Ward', # Assuming this is a surgical unit for spine/neurosurgery\n",
    "'Neuro/MSK: NEUS4D, MH (Mail)': 'Neurology Unit',\n",
    "'M-CSA3A (Phone)': 'Inpatient Ward', # Unsure, mapping to Inpatient Ward\n",
    "'Cardiac: 3B Cardiology, CVH (Phone)': 'Cardiology Unit',\n",
    "'Medicine: 2C GMed, CVH (Mail)': 'Medicine Unit',\n",
    "'Medicine: 2B GMed, CVH (Phone)': 'Medicine Unit',\n",
    "'Cardiac: Short Stay CSSU2D, MH (Phone)': 'Cardiology Unit',\n",
    "'Medicine: 5J, MH (Mail)': 'Medicine Unit',\n",
    "'Medicine: 1C/3B Med, CVH (Mail)': 'Medicine Unit',\n",
    "'1A-SURG, CVH (Phone)': 'Inpatient Ward', # Assuming this is a surgical unit\n",
    "'Cardiac: CARU/2C (Combined), MH (Phone)': 'Cardiology Unit',\n",
    "'Medicine: 1E Med, CVH (Phone)': 'Medicine Unit',\n",
    "'Medicine: 1C, CVH (Phone)': 'Medicine Unit',\n",
    "'M-CCU (Phone)': 'Coronary Care Unit (CCU) / Cardiac Intensive Care Unit (CICU)',\n",
    "'Medicine: 3A, MH (Phone)': 'Medicine Unit',\n",
    "'M-NSSU4J (Phone)': 'Inpatient Ward', # Unsure, mapping to Inpatient Ward\n",
    "'Neuro/MSK: ORTH1J, MH (Phone)': 'Orthopedics Unit',\n",
    "'1B MED, CVH (Phone)': 'Medicine Unit',\n",
    "'Medicine: MED4B, MH (Phone)': 'Medicine Unit',\n",
    "'Oncology: ONCIN, CVH (Phone)': 'Oncology / Cancer Center',\n",
    "'Surgery: SURG2B, MH (Phone)': 'Inpatient Ward', # Assuming this is a surgical unit\n",
    "'Intensive Care Unit, MH (Mail)': 'Emergency Department / Accident and Emergency (A&E) / Casualty Department',\n",
    "'Cardiac: CSPU2J, MH (Phone)': 'Cardiology Unit',\n",
    "'Oncology: MED6J, MH (Phone)': 'Oncology / Cancer Center',\n",
    "'Intensive Care Unit, CVH (Mail)': 'Emergency Department / Accident and Emergency (A&E) / Casualty Department',\n",
    "'M-NEUS4J (Phone)': 'Neurology Unit',\n",
    "'Medicine: 2C GMed, CVH (Phone)': 'Medicine Unit',\n",
    "'Medicine: 3A/3A2, MH (Mail)': 'Medicine Unit',\n",
    "'Medicine: MED5J, MH (Phone)': 'Medicine Unit',\n",
    "'Neuro/MSK: Comp. Stroke Unit: NSUA4C, MH (Mail)': 'Neurology Unit',\n",
    "'Surgery: SURG2B2, MH (Phone)': 'Inpatient Ward', # Assuming this is a surgical unit\n",
    "'M-Med4C (Phone)': 'Medicine Unit',\n",
    "'C CON 2A SURGE, CVH (Phone)': 'Inpatient Ward', # Unsure, mapping to Inpatient Ward\n",
    "'Met - Medicine ME2 (Mail)': 'Medicine Unit',\n",
    "'Met - Medicine ON1 (Mail)': 'Medicine Unit',\n",
    "'EDPEC - Ouellette (Mail)': 'Emergency Department / Accident and Emergency (A&E) / Casualty Department',\n",
    "'EDPEC - Metropolitan (Mail)': 'Emergency Department / Accident and Emergency (A&E) / Casualty Department',\n",
    "'Oue-Surgery 6E (Email)': 'Inpatient Ward', # Assuming this is a surgical unit\n",
    "'Met - Medicine SSM (Mail)': 'Medicine Unit',\n",
    "'Maternity - Metropolitan (Mail)': 'Obstetrics Unit',\n",
    "'EDPEC - Metropolitan (Email)': 'Emergency Department / Accident and Emergency (A&E) / Casualty Department',\n",
    "'Oue-Surgery 8E Neurosurgery (Mail)': 'Inpatient Ward', # Assuming this is a neurosurgical unit\n",
    "'Met- Surgery SU1 (Mail)': 'Inpatient Ward', # Assuming this is a surgical unit\n",
    "'Met- Medicine ME2 (Email)': 'Medicine Unit',\n",
    "'Phone (CIHI Mode)': 'Inpatient Ward', # Unsure, mapping to Inpatient Ward\n",
    "'Met- Surgery SU2 (Mail)': 'Inpatient Ward', # Assuming this is a surgical unit\n",
    "'Maternity - Metropolitan (Email)': 'Obstetrics Unit',\n",
    "'Oue-Surgery 8E Neurosurgery (Email)': 'Inpatient Ward', # Assuming this is a neurosurgical unit\n",
    "'Oue - Medicine 7E (Mail)': 'Medicine Unit',\n",
    "'Met- Medicine ME3 (Email)': 'Medicine Unit',\n",
    "'Oue-Surgery6E (Mail)': 'Inpatient Ward', # Assuming this is a surgical unit\n",
    "'Oue-Medicine 5A (Email)': 'Medicine Unit',\n",
    "'Oue-Surgery 8W Neurology (Email)': 'Inpatient Ward', # Assuming this is a neurology unit\n",
    "'Oue-Surgery8ENeurosurgery (Email)': 'Inpatient Ward', # Assuming this is a neurosurgical unit\n",
    "'EDPEC - Ouellette (Email)': 'Emergency Department / Accident and Emergency (A&E) / Casualty Department',\n",
    "'Met- Medicine SSM (Email)': 'Medicine Unit',\n",
    "'Oue-Surgery 6E (Mail)': 'Inpatient Ward', # Assuming this is a surgical unit\n",
    "'Oue-Surgery 6W (Mail)': 'Inpatient Ward', # Assuming this is a surgical unit\n",
    "'Oue-Surgery 6W (Email)': 'Inpatient Ward', # Assuming this is a surgical unit\n",
    "'Oue - Medicine 5A (Mail)': 'Medicine Unit',\n",
    "'Met-Surgery SU1 (Email)': 'Inpatient Ward', # Assuming this is a surgical unit\n",
    "'CPES-IC': 'Emergency Department / Accident and Emergency (A&E) / Casualty Department',\n",
    "'Oue-Surgery 8W Neurology (Mail)': 'Inpatient Ward', # Assuming this is a neurology unit\n",
    "'Oue-Surgery6E (Email)': 'Inpatient Ward', # Assuming this is a surgical unit\n",
    "'Oue - Medicine 7W (Mail)': 'Medicine Unit',\n",
    "'Met - Medicine ME3 (Mail)': 'Medicine Unit',\n",
    "'PPEC - Metropolitan (Mail)': 'Emergency Department / Accident and Emergency (A&E) / Casualty Department', # Assuming PPEC stands for Emergency Department\n",
    "'Metropolitan - SU1 (Phone)': 'Inpatient Ward', # Assuming this is a surgical unit\n",
    "'Met-Surgery SU1 (Mail)': 'Inpatient Ward', # Assuming this is a surgical unit\n",
    "'Phone Discharge (CIHI Mode)': 'Inpatient Ward', # Unsure, mapping to Inpatient Ward\n",
    "'Met-Surgery SU2 (Mail)': 'Inpatient Ward', # Assuming this is a surgical unit\n",
    "'Oue-Surgery6W (Mail)': 'Inpatient Ward', # Assuming this is a surgical unit\n",
    "'Oue - Medicine 4 (Mail)': 'Medicine Unit',\n",
    "'Met-MedicineME3 (Email)': 'Medicine Unit',\n",
    "'Phone Emergency Dept, (CIHI Emotional Support, Mode) Physical Comfort, Infection Prevention & Control': 'Emergency Department / Accident and Emergency (A&E) / Casualty Department',\n",
    "'Oue-Surgery8ENeurosurgery (Mail)': 'Inpatient Ward', # Assuming this is a neurosurgical unit\n",
    "'Phone General Comment (CIHI Mode)': 'Inpatient Ward', # Unsure, mapping to Inpatient Ward\n",
    "'Ouellette - 6th Floor W (Phone)': 'Inpatient Ward', # Assuming this is an inpatient unit\n",
    "'Met - Medicine ME3 (Email)': 'Medicine Unit',\n",
    "'Metropolitan - ME3 (Phone)': 'Medicine Unit',\n",
    "'Met - MedicineSSM (Mail)': 'Medicine Unit',\n",
    "'Met- Medicine ON1 (Email)': 'Medicine Unit',\n",
    "'Met - MedicineON1 (Mail)': 'Medicine Unit',\n",
    "'Maternity -Metropolitan (Email)': 'Obstetrics Unit',\n",
    "'Phone Respect to Patient (CIHI Mode)': 'Inpatient Ward', # Unsure, mapping to Inpatient Ward\n",
    "'Met- Surgery SU2 (Email)': 'Inpatient Ward', # Assuming this is a surgical unit\n",
    "'Ouellette - 8E Neurosurg (Phone)': 'Inpatient Ward', # Assuming this is a neurosurgical unit\n",
    "'PPEC - Metropolitan (Email)': 'Emergency Department / Accident and Emergency (A&E) / Casualty Department',\n",
    "'CPES-IC ': 'Emergency Department / Accident and Emergency (A&E) / Casualty Department',\n",
    "'Maternity -': 'Obstetrics Unit',\n",
    "'Oue-Surgery 8ENeurosurgery (Mail)': 'Inpatient Ward', # Assuming this is a neurosurgical unit\n",
    "'Phone Physical Comfort, (CIHI Respect to Patient Mode)': 'Inpatient Ward', # Unsure, mapping to Inpatient Ward\n",
    "'Oue-Surgery8WNeurology (Mail)': 'Inpatient Ward', # Assuming this is a neurology unit\n",
    "'Oue-Surgery 8ENeurosurgery (Email)': 'Inpatient Ward', # Assuming this is a neurosurgical unit\n",
    "'Phone Emotional Support (CIHI Mode)': 'Inpatient Ward', # Unsure, mapping to Inpatient Ward\n",
    "'Met-Surgery SU2 (Email)': 'Inpatient Ward', # Assuming this is a surgical unit\n",
    "'Metropolitan - SU2 (Phone)': 'Inpatient Ward', # Assuming this is a surgical unit\n",
    "'Met- Surgery': 'Inpatient Ward', # Assuming this is a surgical unit\n",
    "'Metropolitan - SSM (Phone)': 'Medicine Unit',\n",
    "'Met - MedicineME3 (Mail)': 'Medicine Unit',\n",
    "'Met- Surgery SU1 (Email)': 'Inpatient Ward', # Assuming this is a surgical unit\n",
    "'Phone Housekeeping/Room (CIHI Mode)': 'Inpatient Ward', # Unsure, mapping to Inpatient Ward\n",
    "'Metropolitan - ME2 (Phone)': 'Medicine Unit',\n",
    "'Phone Access/Coord of Care, (CIHI Doctor/Physician, Mode) Housekeeping/Room, Nurse/Nurse aide, Respect to Patient': 'Inpatient Ward', # Unsure, mapping to Inpatient\n",
    "'Surgical IP-7 Surgical (Phone)': 'Inpatient Ward',\n",
    "'Surgical IP-Chest (Phone)': 'Inpatient Ward', # Assuming this is a surgical unit\n",
    "'Emergency (Phone)': 'Emergency Department / Accident and Emergency (A&E) / Casualty Department',\n",
    "'Emergency (Mail)': 'Emergency Department / Accident and Emergency (A&E) / Casualty Department',\n",
    "'General Med (Phone)': 'Medicine Unit',\n",
    "'ED: AgeGrp 35-44': 'Emergency Department / Accident and Emergency (A&E) / Casualty Department', # Assuming ED stands for Emergency Department\n",
    "'Kidney Urinary (Phone)': 'Urology Unit',\n",
    "'Surgical IP-6 Surgical (Phone)': 'Inpatient Ward',\n",
    "'5008912': 'Inpatient Ward', # Unsure, mapping to Inpatient Ward\n",
    "'ED: AgeGrp 45-54': 'Emergency Department / Accident and Emergency (A&E) / Casualty Department',\n",
    "'Kidney Urinary Nephrology (Phone)': 'Dialysis (Renal) Unit',\n",
    "'General Med CTU West (Phone)': 'Medicine Unit', # Assuming CTU stands for Clinical Treatment Unit\n",
    "'Surgical IP - 7 Surgical (Phone)': 'Inpatient Ward',\n",
    "'CPES: AgeGrp 18-34; General Med-CTU Central (Phone)': 'Medicine Unit', # Assuming CPES stands for a unit/department\n",
    "'General Med CTU Central (Phone)': 'Medicine Unit',\n",
    "'Surgical IP-6 Surgical (Phone); CPES: AgeGrp 45-54': 'Inpatient Ward',\n",
    "'Surgical IP-Head & Neck (Phone)': 'Inpatient Ward', # Assuming this is a surgical unit\n",
    "'Surgical IP (Phone)': 'Inpatient Ward',\n",
    "'Kidney Urinary Renal Transplant (Phone)': 'Dialysis (Renal) Unit',\n",
    "'ED: AgeGrp 18-34': 'Emergency Department / Accident and Emergency (A&E) / Casualty Department',\n",
    "'General Med CTU North (Phone)': 'Medicine Unit',\n",
    "'Emergency': 'Emergency Department / Accident and Emergency (A&E) / Casualty Department',\n",
    "'5008911': 'Inpatient Ward', # Unsure, mapping to Inpatient Ward\n",
    "'ED: AgeGrp 65+': 'Emergency Department / Accident and Emergency (A&E) / Casualty Department',\n",
    "'General Med-CTU Central (Phone); CPES: AgeGrp 45-54': 'Medicine Unit',\n",
    "'Surgical IP - Chest (Phone)': 'Inpatient Ward', # Assuming this is a surgical unit\n",
    "'General Med CTU North (Phone)': 'Medicine Unit',\n",
    "'Kidney Urinary (Phone)': 'Urology Unit',\n",
    "'ED: AgeGrp 55-64': 'Emergency Department / Accident and Emergency (A&E) / Casualty Department',\n",
    "'Surgical IP-Head & Neck (Phone)': 'Inpatient Ward', # Assuming this is a surgical unit\n",
    "'Surgical IP - Head & Neck (Phone)': 'Inpatient Ward', # Assuming this is a surgical unit\n",
    "'Surgical IP-Chest (Phone): CPES: AgeGrp 65+': 'Inpatient Ward', # Assuming this is a surgical unit\n",
    "'General Med - CTU West (Phone): CPES: AgeGrp 18-34': 'Medicine Unit',\n",
    "'ED: AgeGrp 45-54 ED:': 'Emergency Department / Accident and Emergency (A&E) / Casualty Department',\n",
    "'Kidney Urinary Nephrology (Phone); CPES: AgeGrp 65+': 'Dialysis (Renal) Unit',\n",
    "'Surgical IP-Chest (Phone); CPES: AgeGrp 65+': 'Inpatient Ward', # Assuming this is a surgical unit\n",
    "'General Med - CTU West (Phone); CPES: AgeGrp 65+': 'Medicine Unit',\n",
    "'Kidney Urinary Nephrology (Phone). CPES: AgeGrp 65+': 'Dialysis (Renal) Unit',\n",
    "'Surgical IP-Chest (Phone); CPES: AgeGrp 55-64': 'Inpatient Ward', # Assuming this is a surgical unit\n",
    "'CPES: AgeGrp 65+: Surgical IP-7 Surgical (Phone)': 'Inpatient Ward',\n",
    "'CPES: AgeGrp 55-64: General Med CTU West (Phone)': 'Medicine Unit',\n",
    "'Surgical IP-6 Surgical (Phone); CPES: AgeGrp 65+': 'Inpatient Ward',\n",
    "'Surgical IP-6 Surgical (Phone): CPES: AgeGrp 65+': 'Inpatient Ward',\n",
    "'(Phone); CPES: AgeGrp 45-54': 'Inpatient Ward', # Unsure, mapping to Inpatient Ward\n",
    "'Surgical IP - 6 Surgical (Phone)': 'Inpatient Ward',\n",
    "'General Med - CTU West (Phone); CPES: AgeGrp 65+ Surgical IP-7 Surgical': 'Medicine Unit',\n",
    "'Surgical IP - (Phone)': 'Inpatient Ward',\n",
    "'Surgical IP-Chest (Phone); CPES: AgeGrp 45-54': 'Inpatient Ward', # Assuming this is a surgical unit\n",
    "'Surgical IP-6 Surgical (Phone); CPES: AgeGrp 35-44': 'Inpatient Ward',\n",
    "'General Med. (Phone)': 'Medicine Unit',\n",
    "'General Med - CTU North (Phone); CPES: AgeGrp 55-64': 'Medicine Unit',\n",
    "'Surgical IP-Chest (Phone)': 'Inpatient Ward', # Assuming this is a surgical unit\n",
    "'General Med (Phone)': 'Medicine Unit',\n",
    "'Surgical IP-7 Surgical (Phone); CPES: AgeGrp 45-54': 'Inpatient Ward',\n",
    "'General Med CTU North (Phone); CPES: AgeGrp 65+': 'Medicine Unit',\n",
    "'Surgical IP-6 Surgical (Phone); CPES: AgeGrp 18-34': 'Inpatient Ward',\n",
    "'Surgical IP (Phone)': 'Inpatient Ward',\n",
    "'General Med - CTU North (Phone); CPES: AgeGrp 45-54': 'Medicine Unit',\n",
    "'General Med - CTU North (Phone); CPES: AgeGrp 65+': 'Medicine Unit',\n",
    "'Kidney Urinary Nephrology (Phone) CPES: AgeGrp 65+': 'Dialysis (Renal) Unit',\n",
    "'ED: AgeGrp 18-34': 'Emergency Department / Accident and Emergency (A&E) / Casualty Department',\n",
    "'CPES: AgeGrp 55-64; Surgical IP-7 Surgical (Phone)': 'Inpatient Ward',\n",
    "'General Med-CTU Central (Phone); CPES: AgeGrp 65+ CPES:': 'Medicine Unit',\n",
    "'CPES: AgeGrp 55-64: Kidney Urinary Nephrology (Phone)': 'Dialysis (Renal) Unit',\n",
    "'Surgical IP-| (Phone)': 'Inpatient Ward', # Unsure, mapping to Inpatient Ward\n",
    "'General Med. CTU North (Phone)': 'Medicine Unit',\n",
    "'Kidney Urinary - Renal Transplant (Phone): CPES: AgeGrp 65+': 'Dialysis (Renal) Unit',\n",
    "'Surgical (Phone); CPES: AgeGrp 55-64': 'Inpatient Ward', # Assuming this is a surgical unit\n",
    "'Kidney Urinary-Renal Transplant (Phone): CPES: AgeGrp 35-44': 'Dialysis (Renal) Unit', \n",
    "'CPES: AgeGrp 55-64; Surgical IP - Head & Neck (Phone)': 'Inpatient Ward', # Assuming this is a surgical unit\n",
    "'Surgical IP - 7 Surgical (Phone)': 'Inpatient Ward',\n",
    "'Kidney Urinary Nephrology (Phone): CPES: AgeGrp 65+': 'Dialysis (Renal) Unit',\n",
    "'CPES: AgeGrp 55-64; Kidney Urinary Nephrology (Phone)': 'Dialysis (Renal) Unit',\n",
    "'ED: AgeGrp 45-54': 'Emergency Department / Accident and Emergency (A&E) / Casualty Department',\n",
    "'CPES: AgeGrp 55-64; General Med-CTU Central (Phone)': 'Medicine Unit',\n",
    "'AgeGrp 18-34; Surgical IP-7 Surgical (Phone)': 'Inpatient Ward',\n",
    "'General Med - CTU West (Phone): CPES: AgeGrp 35-44': 'Medicine Unit',\n",
    "'General Med - CTU Central (Phone); CPES: Age Grp 35-44': 'Medicine Unit',\n",
    "'Kidney Transplant (Phone): CPES: AgeGrp 35-44': 'Dialysis (Renal) Unit',\n",
    "'Surgical IP-Chest (Phone): CPES: AgeGrp 55-64': 'Inpatient Ward', # Assuming this is a surgical unit\n",
    "'CPES: AgeGrp 55-64; Surgical IP-7 Surgical (Phone)': 'Inpatient Ward',\n",
    "'General Med CTU Central (Phone)': 'Medicine Unit',\n",
    "'Kidney Urinary - Renal Transplant (Phone): CPES: AgeGrp 45-54': 'Dialysis (Renal) Unit',\n",
    "'Surgical IP-6 Surgical (Phone) General Med': 'Inpatient Ward',\n",
    "'CPES: AgeGrp 55-64: General Med-CTU Central (Phone)': 'Medicine Unit',\n",
    "'Surgical IP': 'Inpatient Ward',\n",
    "'Surgical IP - Head & Neck (Phone); CPES: AgeGrp 65+': 'Inpatient Ward', # Assuming this is a surgical unit\n",
    "'Surgical IP- Head & Neck (Phone): CPES: AgeGrp 45-54': 'Inpatient Ward', # Assuming this is a surgical unit\n",
    "'Surgical IP-Chest (Phone); CPES: AgeGrp 35-44': 'Inpatient Ward', # Assuming this is a surgical unit\n",
    "'Kidney Urinary-Renal Transplant (Phone): CPES: AgeGrp 65+': 'Dialysis (Renal) Unit',\n",
    "'General Med-CTU Central (Phone); CPES: AgeGrp 35-44': 'Medicine Unit',\n",
    "'General Med - CTU West (Phone); CPES: AgeGrp 45-54': 'Medicine Unit',\n",
    "'CPES: AgeGrp 55-64: Surgical IP-Head & Neck (Phone)': 'Inpatient Ward', # Assuming this is a surgical unit\n",
    "'General Med': 'Medicine Unit',\n",
    "'Surgical IP-Head & Neck (Phone): CPES: AgeGrp 65+': 'Inpatient Ward', # Assuming this is a surgical unit\n",
    "'(Phone) Surgical IP-7 Surgical (Phone)': 'Inpatient Ward',\n",
    "'Surgical IP-6 Surgical (Phone); CPES: AgeGrp 55-64': 'Inpatient Ward',\n",
    "'General Med - CTU West (Phone); CPES: AgeGrp 35-44': 'Medicine Unit',\n",
    "'ED: AgeGrp 35-44': 'Emergency Department / Accident and Emergency (A&E) / Casualty Department',\n",
    "'Cath Lab (Mail)': 'Inpatient Ward',\n",
    "'Emergency (Mail)': 'Emergency Department / Accident and Emergency (A&E) / Casualty Department',\n",
    "'Medical Assessment (Mail)': 'Inpatient Ward',\n",
    "'Surgical Services (Mail)': 'Inpatient Ward',\n",
    "'Mental Health IP': 'Inpatient Ward', # Assuming IP stands for Inpatient\n",
    "'Heart Rhythm (Mail)': 'Cardiology Unit',\n",
    "'Cataract (Mail)': 'Ophthalmology Unit',\n",
    "'General Day Surgery (Mail)': 'Day Surgery Unit',\n",
    "'General Medicine (Mail)': 'Medicine Unit',\n",
    "'MSK Acute (Mail)': 'Inpatient Ward', # Assuming MSK stands for Musculoskeletal\n",
    "'Heart Rhythm': 'Cardiology Unit',\n",
    "'Cardiology (Mail)': 'Cardiology Unit',\n",
    "'Outpatient Rehab (Mail)': 'Rehabilitation Unit',\n",
    "'Obstetrics (Mail)': 'Obstetrics Unit',\n",
    "'Heart Rhythm (Phone)': 'Cardiology Unit',\n",
    "'Restorative Care - Humber-Finch Site (Mail)': 'Inpatient Ward',\n",
    "'Obstetrics (Phone)': 'Obstetrics Unit',\n",
    "'General Medicine (Phone)': 'Medicine Unit',\n",
    "'Oncology': 'Oncology / Cancer Center',\n",
    "'MSK Acute (Phone)': 'Inpatient Ward', # Assuming MSK stands for Musculoskeletal\n",
    "'General Day Surgery (Phone)': 'Day Surgery Unit',\n",
    "'Cardiac Surgery (Mail)': 'Inpatient Ward', # Assuming this is a surgical unit\n",
    "'Emergency (Phone)': 'Emergency Department / Accident and Emergency (A&E) / Casualty Department',\n",
    "'Paediatrics (Mail)': 'Pediatrics Unit',\n",
    "'Cataract (Phone)': 'Ophthalmology Unit',\n",
    "'Cardiology (Phone)': 'Cardiology Unit',\n",
    "'Paediatrics (Phone)': 'Pediatrics Unit',\n",
    "'Cardiac Surgery (Phone)': 'Inpatient Ward', # Assuming this is a surgical unit\n",
    "'Cath Lab (Phone)': 'Inpatient Ward',\n",
    "'Surgical Services (Phone)': 'Inpatient Ward',\n",
    "'Medical Assessment (Phone)': 'Inpatient Ward',\n",
    "'Outpatient Rehab (Phone); xxFracture Clinic (Phone)': 'Rehabilitation Unit',\n",
    "'Cataract': 'Ophthalmology Unit',\n",
    "'Mental Health OP': 'Outpatient', # Assuming OP stands for Outpatient\n",
    "'Fracture Clinic': 'Orthopedics Unit',\n",
    "'Restorative Care - Humber-Finch Site (Phone)': 'Inpatient Ward',\n",
    "'Cath Lab': 'Inpatient Ward',\n",
    "'General Day Surgery': 'Day Surgery Unit',\n",
    "'xxFracture Clinic (Phone); Outpatient Rehab (Phone)': 'Rehabilitation Unit',\n",
    "'Mental Health IP Acute': 'Mental Health',\n",
    "'Surgical (3A)': 'Inpatient Ward',\n",
    "'Obstetrics (Mail)': 'Obstetrics Unit',\n",
    "'Obstetrics (Email)': 'Obstetrics Unit',\n",
    "'Ambulatory Clinic - General': 'Outpatient',\n",
    "'Emergency Fast Track': 'Emergency Department / Accident and Emergency (A&E) / Casualty Department',\n",
    "'Core Emergency': 'Emergency Department / Accident and Emergency (A&E) / Casualty Department',\n",
    "'Medical (3B)': 'Medicine Unit',\n",
    "'Medical (3C)': 'Medicine Unit',\n",
    "'Oncology': 'Oncology / Cancer Center',\n",
    "'Maternity (Postcard/Handout)': 'Obstetrics Unit',\n",
    "'Medical (Phone)': 'Medicine Unit',\n",
    "'Rehabilitation (Handout)': 'Rehabilitation Unit',\n",
    "'ER': 'Emergency Department / Accident and Emergency (A&E) / Casualty Department',\n",
    "'Integrated Medicine and Rehab Services':'Rehabilitation Unit',\n",
    "'Medical S1': 'Medicine Unit',\n",
    "'Medical S2': 'Medicine Unit',\n",
    "'Surgical C5': 'Inpatient Ward',\n",
    "'SURGB3': 'Inpatient Ward',\n",
    "'SURGA3': 'Inpatient Ward',\n",
    "'SURGSDA': 'Inpatient Ward',\n",
    "'SURG': 'Inpatient Ward',\n",
    "'MED': 'Medicine Unit',\n",
    "'MEDD3': 'Medicine Unit',\n",
    "'MEDC3': 'Medicine Unit',\n",
    "'Medical': 'Medicine Unit',\n",
    "'Surgical': 'Inpatient Ward',\n",
    "'G4D': 'Inpatient Ward',\n",
    "'G4A-Med': 'Medicine Unit',\n",
    "'Centenary': 'Inpatient Ward',  # Assuming this is a hospital/site name\n",
    "'General': 'Inpatient Ward',  # Assuming this is a hospital/site name\n",
    "'YC9W': 'Inpatient Ward',  # Unsure, mapping to Inpatient Ward\n",
    "'H3C-Sur': 'Inpatient Ward',  # Assuming this is a surgical unit\n",
    "'YC2BC': 'Inpatient Ward',  # Unsure, mapping to Inpatient Ward\n",
    "'YC9CP': 'Outpatient',  # Unsure, mapping to Outpatient\n",
    "'G3D': 'Inpatient Ward',\n",
    "'YC5W': 'Inpatient Ward',  # Unsure, mapping to Inpatient Ward\n",
    "'H9T/H4E': 'Inpatient Ward',  # Unsure, mapping to Inpatient Ward\n",
    "'H2C-Neph': 'Inpatient Ward',  # Assuming this is a nephrology unit\n",
    "'H4C-Med': 'Medicine Unit',\n",
    "'H3CP-ORT': 'Orthopedics Unit',\n",
    "'Birchmount': 'Inpatient Ward',  # Assuming this is a hospital/site name\n",
    "'H6T-ONC': 'Oncology / Cancer Center',\n",
    "'G3D (Last Surveyed March 2017)': 'Inpatient Ward',\n",
    "'H3CP-ORT (Last Surveyed March 2017)': 'Orthopedics Unit',\n",
    "'G4FBP': 'Inpatient Ward',  # Unsure, mapping to Inpatient Ward\n",
    "'H2T-Neph': 'Inpatient Ward',  # Assuming this is a nephrology unit\n",
    "'H4CPM (Last Surveyed March 2017)': 'Medicine Unit',\n",
    "'G3A-SUR': 'Inpatient Ward',  # Assuming this is a surgical unit\n",
    "'General Surgery': 'Inpatient Ward',  # Assuming this is a general surgical unit\n",
    "'xxYC4ME': 'Medicine Unit',  # Unsure, mapping to Medicine Unit\n",
    "'H9T': 'Inpatient Ward',  # Unsure, mapping to Inpatient Ward\n",
    "'YC5E': 'Inpatient Ward',  # Unsure, mapping to Inpatient Ward\n",
    "'H4C-MED (Last Surveyed March 2017)': 'Medicine Unit',\n",
    "'H2OBS': 'Inpatient Ward',  # Assuming this is an obstetrics unit\n",
    "'H4CPM': 'Medicine Unit',\n",
    "'YC9E': 'Inpatient Ward',  # Unsure, mapping to Inpatient Ward\n",
    "'H6T': 'Inpatient Ward',  # Unsure, mapping to Inpatient Ward\n",
    "'Centenary Cardiology': 'Cardiology Unit',\n",
    "'Centenary Medicine': 'Medicine Unit',\n",
    "'CPES-IC': 'Inpatient Ward',  # Unsure, mapping to Inpatient Ward\n",
    "'H3C-SUR (Last Surveyed March 2017)': 'Inpatient Ward',  # Assuming this is a surgical unit\n",
    "'H6T-Med': 'Medicine Unit',\n",
    "'H9T (Last Surveyed March 2017)': 'Inpatient Ward',  # Unsure, mapping to Inpatient Ward\n",
    "'G4FBP (Last Surveyed March 2017)': 'Inpatient Ward',  # Unsure, mapping to Inpatient Ward\n",
    "'YC4ME': 'Medicine Unit',  # Unsure, mapping to Medicine Unit\n",
    "'G4D (Last Surveyed March 2017)': 'Inpatient Ward',\n",
    "'G3A-Sur (previously G4A) (Last Surveyed March 2017)': 'Inpatient Ward',  # Assuming this is a surgical unit\n",
    "'General Medicine': 'Medicine Unit',\n",
    "'H2OBS (Last Surveyed March 2017)': 'Inpatient Ward',  # Assuming this is an obstetrics unit\n",
    "'H2C/H2C-NEPH (Last Surveyed March 2017)': 'Inpatient Ward',  # Assuming this is a nephrology unit\n",
    "'G4A-Med (previously G3A) (Last Surveyed March 2017)': 'Medicine Unit',\n",
    "'G4C': 'Inpatient Ward',\n",
    "'xxH7T-ALC': 'Inpatient Ward',  # Unsure, mapping to Inpatient Ward\n",
    "'xxH1CP': 'Outpatient',  # Unsure, mapping to Outpatient'\n",
    "'Belleville General': 'Inpatient Ward', # Assuming this is a hospital/site name\n",
    "'PrinceEdward county Memorial': 'Inpatient Ward', # Assuming this is a hospital/site name\n",
    "'North Hastings': 'Inpatient Ward', # Assuming this is a hospital/site name\n",
    "'Prince Edward County Memorial': 'Inpatient Ward', # Assuming this is a hospital/site name\n",
    "'Trenton Memorial': 'Inpatient Ward', # Assuming this is a hospital/site name\n",
    "'Quinte 5 (Acute Medicine)': 'Medicine Unit',\n",
    "'Q6 Medicine IPU': 'Medicine Unit', # Assuming IPU refers to Inpatient Unit\n",
    "'Q4 Surgery IPU': 'Inpatient Ward', # Assuming this is a surgical inpatient unit\n",
    "'Quinte 6 (Surgery)': 'Inpatient Ward', # Assuming this is a surgical unit\n",
    "'Quinte 4 (ACE/ALC)': 'Inpatient Ward', # Unsure, mapping to Inpatient Ward\n",
    "'Huntsville District Memorial Hospital': 'Inpatient Ward', # Assuming this is the hospital name/site\n",
    "'South Muskoka Memorial Hospital': 'Inpatient Ward', # Assuming this is the hospital name/site\n",
    "'Huntsville District Memorial/Burks Falls Hospital': 'Inpatient Ward', # Assuming this is the hospital name/site\n",
    "'3WF': 'Inpatient Ward', # Assuming this is an inpatient ward code\n",
    "'Obstetrics': 'Obstetrics Unit',\n",
    "'3C': 'Inpatient Ward', # Assuming this is an inpatient ward code\n",
    "'Uxbridge IP': 'Inpatient Ward', # Assuming IP refers to Inpatient\n",
    "'Emergency': 'Emergency Department / Accident and Emergency (A&E) / Casualty Department',\n",
    "'3WH': 'Inpatient Ward', # Assuming this is an inpatient ward code\n",
    "'2E': 'Inpatient Ward', # Assuming this is an inpatient ward code\n",
    "'CPES-IC - Acute Medicine': 'Medicine Unit',\n",
    "'Rehab': 'Rehabilitation Unit',\n",
    "'3E': 'Inpatient Ward', # Assuming this is an inpatient ward code\n",
    "'CPES-IC - Surgery': 'Inpatient Ward', # Assuming this is a surgical ward\n",
    "'Paediatrics': 'Pediatrics Unit',\n",
    "'2C (Last surveyed May 2018)': 'Inpatient Ward', # Assuming this is an inpatient ward code\n",
    "'1E': 'Inpatient Ward', # Assuming this is an inpatient ward code\n",
    "'1C': 'Inpatient Ward', # Assuming this is an inpatient ward code\n",
    "'Uxbridge ER': 'Emergency Department / Accident and Emergency (A&E) / Casualty Department',\n",
    "'2C': 'Inpatient Ward', # Assuming this is an inpatient ward code\n",
    "'3WG': 'Inpatient Ward', # Assuming this is an inpatient ward code\n",
    "'INETEL': 'Outpatient', # Unsure, mapping to Outpatient\n",
    "'1E (Last surveyed May 2018)': 'Inpatient Ward', # Assuming this is an inpatient ward code\n",
    "'INEMED': 'Outpatient', # Unsure, mapping to Outpatient\n",
    "'1C (Last surveyed May 2018)': 'Inpatient Ward', # Assuming this is an inpatient ward code\n",
    "'MRH C3 MEDICINE AQUA (Mail)': 'Medicine Unit',\n",
    "'MRH D3 MEDICINE AQUA (Mail)': 'Medicine Unit',\n",
    "'MRH D4 SURGERY PURPLE (Email)': 'Inpatient Ward',  # Assuming this is a surgical ward\n",
    "'Emergency': 'Emergency Department / Accident and Emergency (A&E) / Casualty Department',\n",
    "'MRH C4 SURGERY AQUA (Email)': 'Inpatient Ward',  # Assuming this is a surgical ward\n",
    "'MRH D4 SURGERY PURPLE (Mail)': 'Inpatient Ward',  # Assuming this is a surgical ward\n",
    "'MRH C3 MEDICINE ORANGE (Mail)': 'Medicine Unit',\n",
    "'MRH C5 MOTHER (Mail)': 'Obstetrics Unit',  # Assuming this is an obstetrics/maternity ward\n",
    "'MRH C4 MEDICINE ORANGE (Mail)': 'Medicine Unit',\n",
    "'MRH C4 SURGERY AQUA (Mail)': 'Inpatient Ward',  # Assuming this is a surgical ward\n",
    "'MRH C5 MOTHER (Email)': 'Obstetrics Unit',  # Assuming this is an obstetrics/maternity ward\n",
    "'MRH C3 MEDICINE ORANGE (Email)': 'Medicine Unit',\n",
    "'MRH D3 MEDICINE AQUA (Email)': 'Medicine Unit',\n",
    "'MRH C4 MEDICINE PURPLE (Mail)': 'Medicine Unit',\n",
    "'MRH C4 MEDICINE ORANGE (Email)': 'Medicine Unit',\n",
    "'MRH C5 L AND D MOTHER (Email)': 'Obstetrics Unit',  # Assuming this is an obstetrics/maternity ward\n",
    "'MRH C4 MEDICINE PURPLE (Email)': 'Medicine Unit',\n",
    "'MRH C3 MEDICINE AQUA (Email)': 'Medicine Unit',\n",
    "'Cardiac Surgery- U6': 'Cardiology Unit',\n",
    "'U-ER': 'Emergency Department / Accident and Emergency (A&E) / Casualty Department',\n",
    "'Surgery-C51 Urology/ENT': 'Urology Unit',\n",
    "'V-AED': 'Emergency Department / Accident and Emergency (A&E) / Casualty Department',\n",
    "'Medicine C- D52/D53': 'Medicine Unit',\n",
    "'Surgery-B91 General Surg': 'Inpatient Ward',  # Assuming this is a general surgical ward\n",
    "'Surgery-U9 Orthopedic IP': 'Orthopedics Unit',\n",
    "'Surgery-U8 General Surg': 'Inpatient Ward',  # Assuming this is a general surgical ward\n",
    "'Medicine-U4': 'Medicine Unit',\n",
    "'Surgery-D51 Cardiac/Vascular': 'Cardiology Unit',\n",
    "'CNS-U7': 'Neurology Unit',  # Assuming CNS refers to Central Nervous System\n",
    "'London Regional Cancer Centre': 'Oncology / Cancer Center',\n",
    "'Perinatal Care (Mail)': 'Obstetrics Unit',  # Assuming this is related to obstetrics/perinatal care\n",
    "'Gynecology- D43/D44': 'Gynecology Unit',\n",
    "'V-PED (ED PPEC)': 'Pediatrics Unit',  # Assuming this is a pediatric emergency unit\n",
    "'Medicine D- D63/D64': 'Medicine Unit',\n",
    "'Cardiac- Cardiology U5': 'Cardiology Unit',\n",
    "'Surgery-B92 Orthopedic Trauma': 'Orthopedics Unit',\n",
    "'Surgery- C53 Thoracic': 'Inpatient Ward',  # Assuming this is a thoracic surgery ward\n",
    "'NICU': 'Pediatrics Unit',  # Assuming NICU refers to Neonatal Intensive Care Unit\n",
    "'Multi Organ Transplant-U-4TU': 'Inpatient Ward',  # Assuming this is a transplant unit\n",
    "'Oncology- C71/C72/C73/C74': 'Oncology / Cancer Center',\n",
    "'Nephrology-D62': 'Inpatient Ward',  # Assuming this is a nephrology ward\n",
    "'Paeds 1': 'Pediatrics Unit',\n",
    "'xxV-PED': 'Pediatrics Unit',  # Assuming this refers to a pediatric unit\n",
    "'Paeds 2': 'Pediatrics Unit',\n",
    "'Medicine B- D71/D72/D73': 'Medicine Unit',\n",
    "'xxSurgery-C52 Plastics/ENT': 'Inpatient Ward',  # Assuming this is a surgical ward\n",
    "'Perinatal Care (Phone)': 'Obstetrics Unit',  # Assuming this is related to obstetrics/perinatal care,\n",
    "'Surgical 4 South': 'Inpatient Ward', # Assuming this is a surgical inpatient ward\n",
    "'EDPEC': 'Emergency Department / Accident and Emergency (A&E) / Casualty Department', # Unsure, mapping to Emergency Dept.\n",
    "'Cardiology 8 North': 'Cardiology Unit',\n",
    "'Surgical 7A &7 B North': 'Inpatient Ward', # Assuming these are surgical inpatient wards\n",
    "'Medical 4 North': 'Medicine Unit',\n",
    "'Surgical Short Stay': 'Day Surgery Unit', # Assuming this is a short-stay surgical unit\n",
    "'Medical 5 South': 'Medicine Unit',\n",
    "'Medical 6 South': 'Medicine Unit',\n",
    "'Ambulatory Care': 'Outpatient',\n",
    "'ACU Clinical Procedures': 'Inpatient Ward', \n",
    "'Obstetrics': 'Obstetrics Unit',\n",
    "'Medical Day Care': 'Outpatient', \n",
    "'Day Surgery': 'Day Surgery Unit',\n",
    "'Juravinski Cancer Centre': 'Oncology / Cancer Center',\n",
    "'General Emergency': 'Emergency Department / Accident and Emergency (A&E) / Casualty Department',\n",
    "'Hamilton General': 'Inpatient Ward',  \n",
    "'Juranviski': 'Inpatient Ward',  \n",
    "'McMaster Emergency': 'Emergency Department / Accident and Emergency (A&E) / Casualty Department',\n",
    "'Juravinski Emergency': 'Emergency Department / Accident and Emergency (A&E) / Casualty Department',\n",
    "'West Lincoln Emergency': 'Emergency Department / Accident and Emergency (A&E) / Casualty Department',\n",
    "'West Lincoln': 'Inpatient Ward',  \n",
    "'Inpatient': 'Inpatient Ward',\n",
    "'Outpatient': 'Outpatient',\n",
    "'Emergency Department': 'Emergency Department / Accident and Emergency (A&E) / Casualty Department',\n",
    "'Medicine G': 'Inpatient Ward',\n",
    "'Medicine': 'Medicine Unit',\n",
    "'Medicine T Telemetry': 'Inpatient Ward',\n",
    "'Surgery': 'Inpatient Ward',\n",
    "'Emergency Sarnia': 'Emergency Department / Accident and Emergency (A&E) / Casualty Department',\n",
    "'Rehabilitation': 'Rehabilitation Unit',\n",
    "'Med/Surg - Rural Health (CEE)': 'Inpatient Ward',\n",
    "'Obstetrics': 'Obstetrics Unit',\n",
    "'Surgery B': 'Inpatient Ward',\n",
    "'Emergency Rural Health': 'Emergency Department / Accident and Emergency (A&E) / Casualty Department',\n",
    "'Day Surgery': 'Day Surgery Unit',\n",
    "'Medicine A': 'Inpatient Ward',\n",
    "'Acute Mental Health Inpatient': 'Mental Health',\n",
    "'Surgery A': 'Inpatient Ward',\n",
    "'Ophthalmology': 'Ophthalmology Unit',\n",
    "'Orthopaedics': 'Orthopedics Unit',\n",
    "'4D': 'Inpatient Ward',\n",
    "'Emergency': 'Emergency Department / Accident and Emergency (A&E) / Casualty Department',\n",
    "'6A/6B': 'Inpatient Ward',\n",
    "'Urology': 'Urology Unit',\n",
    "'Haematology/Oncology': 'Oncology / Cancer Center',\n",
    "'5A': 'Inpatient Ward',\n",
    "'Cardiology': 'Cardiology Unit',\n",
    "'Diagnostic Imaging': 'Radiology Unit',\n",
    "'5C': 'Inpatient Ward',\n",
    "'8A/8B/6E': 'Inpatient Ward',\n",
    "'5A/5B': 'Inpatient Ward',\n",
    "'Emergency (Mail)': 'Emergency Department / Accident and Emergency (A&E) / Casualty Department',\n",
    "'Acute Care (Mail)': 'Inpatient Ward',\n",
    "'Emergency (Phone)': 'Emergency Department / Accident and Emergency (A&E) / Casualty Department',\n",
    "'Acute Care (Phone)': 'Inpatient Ward',\n",
    "'Respiratory Medicine': 'Respiratory Unit',\n",
    "'Emergency (Email)': 'Emergency Department / Accident and Emergency (A&E) / Casualty Department',\n",
    "'Endocrine': 'Inpatient Ward',\n",
    "'8C': 'Inpatient Ward',\n",
    "'Dentistry': 'Dentistry',\n",
    "'7B/7C/7D/7E': 'Inpatient Ward',\n",
    "'5B': 'Inpatient Ward',\n",
    "'Mental Health Outpatient': 'Mental Health',\n",
    "'Brantford Site': 'Inpatient Ward',\n",
    "'Ucare TWH': 'Outpatient',\n",
    "'Fracture Clinic': 'Outpatient',\n",
    "'Ambulatory': 'Outpatient',\n",
    "'OP Stroke': 'Outpatient',\n",
    "'DEC BGH': 'Inpatient Ward',\n",
    "'DEC-TWH': 'Inpatient Ward',\n",
    "'5 East': 'Inpatient Ward',\n",
    "'CHEO. MH OUT-PATIENT SERVICES•6TH FLOOR': 'Mental Health',\n",
    "'4 West': 'Inpatient Ward',\n",
    "'CHEO MH OUT-PATIENT SERVICES 6TH FLOOR.': 'Mental Health',\n",
    "'CHEO MH OUT-PATIENT SERVICES 6TH FLOOR': 'Mental Health',\n",
    "'CHEO MU OUT-PATIENT SERVICES MONTREAL RD': 'Outpatient',\n",
    "'EATING DISORDERS INPATIENT PROGRAM CHEO 6': 'Mental Health',\n",
    "'INPATIENT PSYCHIATRY PROGRAM CHEO 6E': 'Mental Health',\n",
    "'CHEO MH EATING DISORDER 5 NORTH': 'Mental Health',\n",
    "'CHEO MH OUT-PATIENT SERVICES MONTREAL RD': 'Mental Health',\n",
    "'4 North': 'Inpatient Ward',\n",
    "'CHEO. MFI OUT-PATIENT SERVICES 6TH FLOOR': 'Outpatient',\n",
    "'.INPATIENT PSYCHIATRY PROGRAM CHEO 6E': 'Mental Health',\n",
    "'CHEO MH EATING DISORDER :5 NORTH': 'Mental Health',\n",
    "'CHEO MH OUT-PATIENT SERVICES. MONTREAL RD': 'Mental Health',\n",
    "'CH EO MN OUT-PATIENT SERVICES MONTREAL RD': 'Outpatient',\n",
    "'INPATIENT PSYCHIATRY PROGRAM:CHEO 6E': 'Mental Health',\n",
    "'CHEO MH DAY TREATMENT- CENTRE ADO': 'Mental Health',\n",
    "'CHEO MH EATING DISORDER .5 NORTH': 'Mental Health',\n",
    "'CHEO MH EATING DISORDERS NORTH': 'Mental Health',\n",
    "'CHEO MR OUT-PATIENT SERVICES:6TH FLOOR': 'Outpatient',\n",
    "'CHEO MH OUT-PATIENT SERVICES:MONTREAL RD': 'Mental Health',\n",
    "'CHEO MITI OUT-PATIENT SERVICES MONTREAL RD': 'Outpatient',\n",
    "'EATING DISORDERS INPATIENT pROGRAM CHEO 6': 'Mental Health',\n",
    "'CHEO MR OUT-PATIENT SERVICES MONTREAL RD': 'Outpatient',\n",
    "'1CHEO MH OUT-PATIENT:SERVICES 6TH FLOOR': 'Mental Health',\n",
    "\"CHEO MI-I OUT-PATIENT SERVICES 6TH FLOOR'\": 'Outpatient',\n",
    "'CFIE0 MH QUT43ATIENT SERVICES 6TH FLOOR': 'Mental Health',\n",
    "'EATING DISORDERS. INPATIENT PROGRAM CHEO 6': 'Mental Health',\n",
    "'.CHEO MH EATING DISORDER 5 NORTH': 'Mental Health',\n",
    "'CHEO MHOUT-PATIENT SERVICES 6TH FLOOR': 'Mental Health',\n",
    "'CHEO MI-I OUT-PATIENT SERVICES MONTREAL RD': 'Outpatient',\n",
    "'CHEO MH OUT-PATIENT SERVICES MONTREAL .RD': 'Mental Health',\n",
    "'CHEO MH OUT-PATIENTSERVICES MONTREAL RD': 'Mental Health',\n",
    "'CHEO MH OUT=PATIENT SERVICES 6TH FLOOR': 'Mental Health',\n",
    "'CHEO .MH OUT-PATIENT SERVICES 6TH FLOOR': 'Mental Health',\n",
    "'CHEO MH OUT-PATIENT SERVICES. MONTREAL RD.': 'Mental Health',\n",
    "'CHEO .MH OUT-PATIENT SERVICES MONTREAL RD.': 'Mental Health',\n",
    "\"CHEO MH'OUT-PATIENT SERVICES MONTREAL RD\": 'Mental Health',\n",
    "'CH EO MH OUT-PATIENT. SERVICES MONTREAL RD': 'Mental Health',\n",
    "'CHEO MH OUT-PATIENT SERVICES MONTREAL RD.': 'Mental Health',\n",
    "'CHEO MH EATING DISORDER S: NORTH': 'Mental Health',\n",
    "'CHEO MH OUT-PATIENT SERVICES 6T1-1 FLOOR': 'Mental Health',\n",
    "'CHEO MI-1 OUT-PATIENT SERVICES. MONTREAL RD': 'Outpatient',\n",
    "'INPATIENT PSYCHIATRY PROGRAM CHEO GE': 'Mental Health',\n",
    "'CHEO MH OUT-PATIENT. SERVICES MONTREAL RD': 'Mental Health',\n",
    "'CHEO MI-I OUT-PATIENT SERVICES .MONTREAL RD': 'Outpatient',\n",
    "'CHEO MH OUT-PATIENT SERVICES MONTREAL RD:': 'Mental Health',\n",
    "'CHEO. MH EATING DISORDER 5 NORTH': 'Mental Health',\n",
    "\"CHEO MH OUT-PATIENT SERVICES'6TH FLOOR\": 'Mental Health',\n",
    "'CHEO MO OUT-PATIENT SERVICES 6TH FLOOR': 'Mental Health',\n",
    "'HEO MI-I OUT-PATIENT SERVICES. MONTREAL RD': 'Outpatient',\n",
    "'CHEO Mil OUT-PATIENT SERVICES MONTREAL RD': 'Outpatient',\n",
    "'CHEO MI-I EATING DISORDER 5 NORTH': 'Mental Health',\n",
    "'EATING DISORDERS INPATIENT PROGRAM CHEO .6.': 'Mental Health',\n",
    "'CHEO MH OUT PATIENT SERVICES 6TH FLOOR': 'Mental Health',\n",
    "'CHEO M H OUT-PATIENT SERVICES MONTREAL RD': 'Mental Health',\n",
    "'Qmpc(Registerecl)': 'Outpatient',\n",
    "'MHAP': 'Mental Health',\n",
    "'8AC': 'Inpatient Ward',\n",
    "'Emergency - CTAS 2 (Phone)': 'Emergency Department / Accident and Emergency (A&E) / Casualty Department',\n",
    "'6OC': 'Inpatient Ward',\n",
    "'6DN': 'Inpatient Ward',\n",
    "'Emergency - CTAS 4 (Phone)': 'Emergency Department / Accident and Emergency (A&E) / Casualty Department',\n",
    "'Emergency - CTAS 3 (Phone)': 'Emergency Department / Accident and Emergency (A&E) / Casualty Department',\n",
    "'Emergency - CTAS 5 (Phone)': 'Emergency Department / Accident and Emergency (A&E) / Casualty Department',\n",
    "'6DS': 'Inpatient Ward',\n",
    "'Emergency -CTAS 4 (Phone)': 'Emergency Department / Accident and Emergency (A&E) / Casualty Department',\n",
    "'Childrens (Phone)': 'Pediatrics Unit',\n",
    "'CCC': 'Inpatient Ward', \n",
    "'Stroke': 'Inpatient Ward',\n",
    "'5DS': 'Inpatient Ward',\n",
    "'5DN': 'Inpatient Ward',\n",
    "'Emergency -CTAS 5 (Phone)': 'Emergency Department / Accident and Emergency (A&E) / Casualty Department',\n",
    "'Cancer': 'Oncology / Cancer Center',\n",
    "'4D': 'Inpatient Ward',\n",
    "'Medicine': 'Medicine Unit',\n",
    "'Rehabilitation': 'Rehabilitation Unit',\n",
    "'5A': 'Inpatient Ward',\n",
    "'Emergency - CTAS 1 (Phone)': 'Emergency Department / Accident and Emergency (A&E) / Casualty Department',\n",
    "'Surgery': 'Inpatient Ward',  \n",
    "'Childbirth': 'Obstetrics Unit',\n",
    "'Emergency -CTAS 1 (Phone)': 'Emergency Department / Accident and Emergency (A&E) / Casualty Department',\n",
    "'4AB': 'Inpatient Ward',\n",
    "'xxChildrens': 'Pediatrics Unit',\n",
    "'Emergency (Phone)': 'Emergency Department / Accident and Emergency (A&E) / Casualty Department',\n",
    "'Surgery (Phone)': 'Inpatient Ward', \n",
    "'Medicine (Phone)': 'Medicine Unit',\n",
    "'Surgery (Phone)': 'Inpatient Ward', \n",
    "'Medicine (Phone)': 'Medicine Unit',\n",
    "'Emergency (Phone)': 'Emergency Department / Accident and Emergency (A&E) / Casualty Department'\n",
    "}"
   ]
  },
  {
   "cell_type": "code",
   "execution_count": 63,
   "metadata": {},
   "outputs": [
    {
     "data": {
      "text/plain": [
       "'Emergency Department / Accident and Emergency (A&E) / Casualty Department'"
      ]
     },
     "execution_count": 63,
     "metadata": {},
     "output_type": "execute_result"
    }
   ],
   "source": [
    "unit_mapping['Emergency (Phone)']"
   ]
  },
  {
   "cell_type": "code",
   "execution_count": 64,
   "metadata": {},
   "outputs": [],
   "source": [
    "def map_unit(value):\n",
    "    # Check if the value exists in the dictionary\n",
    "    if value in unit_mapping.keys():\n",
    "        return unit_mapping[value]\n",
    "    else:\n",
    "        return 'Unknown'"
   ]
  },
  {
   "cell_type": "code",
   "execution_count": 65,
   "metadata": {},
   "outputs": [
    {
     "data": {
      "text/html": [
       "<div>\n",
       "<style scoped>\n",
       "    .dataframe tbody tr th:only-of-type {\n",
       "        vertical-align: middle;\n",
       "    }\n",
       "\n",
       "    .dataframe tbody tr th {\n",
       "        vertical-align: top;\n",
       "    }\n",
       "\n",
       "    .dataframe thead th {\n",
       "        text-align: right;\n",
       "    }\n",
       "</style>\n",
       "<table border=\"1\" class=\"dataframe\">\n",
       "  <thead>\n",
       "    <tr style=\"text-align: right;\">\n",
       "      <th></th>\n",
       "      <th>Id</th>\n",
       "      <th>Hospital</th>\n",
       "      <th>Type</th>\n",
       "      <th>Comment</th>\n",
       "      <th>CleanedComment</th>\n",
       "      <th>ExperienceDate</th>\n",
       "      <th>ExperienceDateString</th>\n",
       "      <th>Valence</th>\n",
       "      <th>Unit</th>\n",
       "      <th>Code</th>\n",
       "      <th>...</th>\n",
       "      <th>Day</th>\n",
       "      <th>Processed</th>\n",
       "      <th>RefinedCode</th>\n",
       "      <th>Entities</th>\n",
       "      <th>RefinedValence</th>\n",
       "      <th>ProcessedComment</th>\n",
       "      <th>CovidRelated</th>\n",
       "      <th>CovidPeriod</th>\n",
       "      <th>ProcessedUnit</th>\n",
       "      <th>ProcessedUnit2</th>\n",
       "    </tr>\n",
       "  </thead>\n",
       "  <tbody>\n",
       "    <tr>\n",
       "      <th>0</th>\n",
       "      <td>106</td>\n",
       "      <td>Almonte General Hospital</td>\n",
       "      <td>Inpatient</td>\n",
       "      <td>Compassionate care, such professional staff fr...</td>\n",
       "      <td>compassionate professional staff emergency adm...</td>\n",
       "      <td>2021-02-01 00:00:00+00:00</td>\n",
       "      <td>2/1/2021</td>\n",
       "      <td>Positive</td>\n",
       "      <td>NaN</td>\n",
       "      <td>NaN</td>\n",
       "      <td>...</td>\n",
       "      <td>1</td>\n",
       "      <td>{'parking/transport'}</td>\n",
       "      <td>NaN</td>\n",
       "      <td>[('xxxxxxxxx', 'CHEMICAL')]</td>\n",
       "      <td>Positive</td>\n",
       "      <td>compassionate care such professional staff fro...</td>\n",
       "      <td>False</td>\n",
       "      <td>True</td>\n",
       "      <td>NaN</td>\n",
       "      <td>Unknown</td>\n",
       "    </tr>\n",
       "    <tr>\n",
       "      <th>1</th>\n",
       "      <td>430</td>\n",
       "      <td>Almonte General Hospital</td>\n",
       "      <td>Inpatient</td>\n",
       "      <td>I was very pleased with the care &amp; concern giv...</td>\n",
       "      <td>please given thankful health absolutely commen...</td>\n",
       "      <td>2020-06-01 00:00:00+00:00</td>\n",
       "      <td>6/1/2020</td>\n",
       "      <td>Positive</td>\n",
       "      <td>NaN</td>\n",
       "      <td>NaN</td>\n",
       "      <td>...</td>\n",
       "      <td>1</td>\n",
       "      <td>{'parking/transport'}</td>\n",
       "      <td>NaN</td>\n",
       "      <td>[]</td>\n",
       "      <td>Positive</td>\n",
       "      <td>i wa very pleased with the care concern given ...</td>\n",
       "      <td>False</td>\n",
       "      <td>True</td>\n",
       "      <td>NaN</td>\n",
       "      <td>Unknown</td>\n",
       "    </tr>\n",
       "    <tr>\n",
       "      <th>2</th>\n",
       "      <td>650</td>\n",
       "      <td>Almonte General Hospital</td>\n",
       "      <td>Inpatient</td>\n",
       "      <td>Thankfully I was admitted into the last surplu...</td>\n",
       "      <td>admit surplus wsa private washroom button fabu...</td>\n",
       "      <td>2017-08-01 00:00:00+00:00</td>\n",
       "      <td>8/1/2017</td>\n",
       "      <td>Positive</td>\n",
       "      <td>NaN</td>\n",
       "      <td>NaN</td>\n",
       "      <td>...</td>\n",
       "      <td>1</td>\n",
       "      <td>{'parking/transport'}</td>\n",
       "      <td>NaN</td>\n",
       "      <td>[]</td>\n",
       "      <td>Positive</td>\n",
       "      <td>thankfully i wa admitted into the last surplus...</td>\n",
       "      <td>False</td>\n",
       "      <td>False</td>\n",
       "      <td>NaN</td>\n",
       "      <td>Unknown</td>\n",
       "    </tr>\n",
       "    <tr>\n",
       "      <th>3</th>\n",
       "      <td>715</td>\n",
       "      <td>Almonte General Hospital</td>\n",
       "      <td>Inpatient</td>\n",
       "      <td>The nurses and doctors made giving birth durin...</td>\n",
       "      <td>staff staff birth pandemic possible given circ...</td>\n",
       "      <td>2020-05-01 00:00:00+00:00</td>\n",
       "      <td>5/1/2020</td>\n",
       "      <td>Positive</td>\n",
       "      <td>NaN</td>\n",
       "      <td>NaN</td>\n",
       "      <td>...</td>\n",
       "      <td>1</td>\n",
       "      <td>{'parking/transport'}</td>\n",
       "      <td>NaN</td>\n",
       "      <td>[]</td>\n",
       "      <td>Positive</td>\n",
       "      <td>the nurse and doctor made giving birth during ...</td>\n",
       "      <td>True</td>\n",
       "      <td>True</td>\n",
       "      <td>NaN</td>\n",
       "      <td>Unknown</td>\n",
       "    </tr>\n",
       "    <tr>\n",
       "      <th>4</th>\n",
       "      <td>719</td>\n",
       "      <td>Almonte General Hospital</td>\n",
       "      <td>Inpatient</td>\n",
       "      <td>The nurses at the hospital were amazing! Could...</td>\n",
       "      <td>staff thankful</td>\n",
       "      <td>2018-06-01 00:00:00+00:00</td>\n",
       "      <td>6/1/2018</td>\n",
       "      <td>Positive</td>\n",
       "      <td>NaN</td>\n",
       "      <td>NaN</td>\n",
       "      <td>...</td>\n",
       "      <td>1</td>\n",
       "      <td>{'parking/transport'}</td>\n",
       "      <td>NaN</td>\n",
       "      <td>[]</td>\n",
       "      <td>Positive</td>\n",
       "      <td>the nurse at the hospital were amazing couldn ...</td>\n",
       "      <td>False</td>\n",
       "      <td>False</td>\n",
       "      <td>NaN</td>\n",
       "      <td>Unknown</td>\n",
       "    </tr>\n",
       "  </tbody>\n",
       "</table>\n",
       "<p>5 rows × 24 columns</p>\n",
       "</div>"
      ],
      "text/plain": [
       "    Id                  Hospital       Type  \\\n",
       "0  106  Almonte General Hospital  Inpatient   \n",
       "1  430  Almonte General Hospital  Inpatient   \n",
       "2  650  Almonte General Hospital  Inpatient   \n",
       "3  715  Almonte General Hospital  Inpatient   \n",
       "4  719  Almonte General Hospital  Inpatient   \n",
       "\n",
       "                                             Comment  \\\n",
       "0  Compassionate care, such professional staff fr...   \n",
       "1  I was very pleased with the care & concern giv...   \n",
       "2  Thankfully I was admitted into the last surplu...   \n",
       "3  The nurses and doctors made giving birth durin...   \n",
       "4  The nurses at the hospital were amazing! Could...   \n",
       "\n",
       "                                      CleanedComment  \\\n",
       "0  compassionate professional staff emergency adm...   \n",
       "1  please given thankful health absolutely commen...   \n",
       "2  admit surplus wsa private washroom button fabu...   \n",
       "3  staff staff birth pandemic possible given circ...   \n",
       "4                                     staff thankful   \n",
       "\n",
       "              ExperienceDate ExperienceDateString   Valence Unit Code  ...  \\\n",
       "0  2021-02-01 00:00:00+00:00             2/1/2021  Positive  NaN  NaN  ...   \n",
       "1  2020-06-01 00:00:00+00:00             6/1/2020  Positive  NaN  NaN  ...   \n",
       "2  2017-08-01 00:00:00+00:00             8/1/2017  Positive  NaN  NaN  ...   \n",
       "3  2020-05-01 00:00:00+00:00             5/1/2020  Positive  NaN  NaN  ...   \n",
       "4  2018-06-01 00:00:00+00:00             6/1/2018  Positive  NaN  NaN  ...   \n",
       "\n",
       "   Day              Processed RefinedCode                     Entities  \\\n",
       "0    1  {'parking/transport'}         NaN  [('xxxxxxxxx', 'CHEMICAL')]   \n",
       "1    1  {'parking/transport'}         NaN                           []   \n",
       "2    1  {'parking/transport'}         NaN                           []   \n",
       "3    1  {'parking/transport'}         NaN                           []   \n",
       "4    1  {'parking/transport'}         NaN                           []   \n",
       "\n",
       "   RefinedValence                                   ProcessedComment  \\\n",
       "0        Positive  compassionate care such professional staff fro...   \n",
       "1        Positive  i wa very pleased with the care concern given ...   \n",
       "2        Positive  thankfully i wa admitted into the last surplus...   \n",
       "3        Positive  the nurse and doctor made giving birth during ...   \n",
       "4        Positive  the nurse at the hospital were amazing couldn ...   \n",
       "\n",
       "  CovidRelated CovidPeriod ProcessedUnit ProcessedUnit2  \n",
       "0        False        True           NaN        Unknown  \n",
       "1        False        True           NaN        Unknown  \n",
       "2        False       False           NaN        Unknown  \n",
       "3         True        True           NaN        Unknown  \n",
       "4        False       False           NaN        Unknown  \n",
       "\n",
       "[5 rows x 24 columns]"
      ]
     },
     "execution_count": 65,
     "metadata": {},
     "output_type": "execute_result"
    }
   ],
   "source": [
    "df['ProcessedUnit'] = df['Unit'].map(unit_mapping).fillna(df['Unit'])\n",
    "df['ProcessedUnit2'] = df['Unit'].apply(map_unit)\n",
    "\n",
    "# Print the DataFrame to see the new \"ProcessedUnit\" column\n",
    "df.head()"
   ]
  },
  {
   "cell_type": "code",
   "execution_count": 66,
   "metadata": {},
   "outputs": [],
   "source": [
    "df.to_csv('Reviews2.csv', index=False)"
   ]
  },
  {
   "cell_type": "code",
   "execution_count": 32,
   "metadata": {},
   "outputs": [],
   "source": [
    "def getUnitDict(CovidPeriod):\n",
    "    negative_dict = {}\n",
    "    positive_dict = {}\n",
    "    neutral_dict = {}\n",
    "    posneg_dict = {}\n",
    "    total_dict = {}\n",
    "    \n",
    "    for index, row in df.iterrows():\n",
    "        if row['CovidPeriod'] == CovidPeriod:\n",
    "            unit =  str(row['ProcessedUnit2'])\n",
    "\n",
    "            if unit not in total_dict.keys():\n",
    "                total_dict[unit] = 1\n",
    "            elif unit in total_dict.keys():\n",
    "                total_dict[unit] += 1\n",
    "\n",
    "            if row['RefinedValence'] == \"Negative\":\n",
    "                    if unit not in negative_dict.keys():\n",
    "                        negative_dict[unit] = 1\n",
    "                    elif unit in negative_dict.keys():\n",
    "                        negative_dict[unit] += 1\n",
    "            elif row['RefinedValence'] == \"Positive\":\n",
    "                    if unit not in positive_dict.keys():\n",
    "                        positive_dict[unit] = 1\n",
    "                    elif unit in positive_dict.keys():\n",
    "                        positive_dict[unit] += 1\n",
    "            elif row['RefinedValence'] == \"Neutral\":\n",
    "                    if unit not in neutral_dict.keys():\n",
    "                        neutral_dict[unit] = 1\n",
    "                    elif unit in neutral_dict.keys():\n",
    "                        neutral_dict[unit] += 1\n",
    "            else:\n",
    "                    if unit not in posneg_dict.keys():\n",
    "                        posneg_dict[unit] = 1\n",
    "                    elif unit in posneg_dict.keys():\n",
    "                        posneg_dict[unit] += 1\n",
    "\n",
    "    for unit in negative_dict.keys():\n",
    "         negative_dict[unit] = round((negative_dict[unit] / total_dict[unit]) * 100, 2)\n",
    "    \n",
    "    for unit in positive_dict.keys():\n",
    "         positive_dict[unit] = round((positive_dict[unit] / total_dict[unit]) * 100, 2)\n",
    "\n",
    "\n",
    "    return dict(sorted(negative_dict.items(), key=lambda item: item[0])), dict(sorted(positive_dict.items(), key=lambda item: item[0])), neutral_dict, posneg_dict"
   ]
  },
  {
   "cell_type": "code",
   "execution_count": 33,
   "metadata": {},
   "outputs": [],
   "source": [
    "negative_dict, positive_dict, neutral_dict, posneg_dict = getUnitDict(True)"
   ]
  },
  {
   "cell_type": "code",
   "execution_count": 34,
   "metadata": {},
   "outputs": [
    {
     "data": {
      "text/plain": [
       "{'Cardiology Unit': 24.29,\n",
       " 'Coronary Care Unit (CCU) / Cardiac Intensive Care Unit (CICU)': 17.57,\n",
       " 'Day Surgery Unit': 18.46,\n",
       " 'Dentistry': 31.25,\n",
       " 'Dialysis (Renal) Unit': 15.38,\n",
       " 'Emergency Department / Accident and Emergency (A&E) / Casualty Department': 32.88,\n",
       " 'Gynecology Unit': 14.55,\n",
       " 'Inpatient Ward': 26.47,\n",
       " 'Medicine Unit': 32.14,\n",
       " 'Mental Health': 42.79,\n",
       " 'Neurology Unit': 31.82,\n",
       " 'Obstetrics Unit': 23.42,\n",
       " 'Oncology / Cancer Center': 23.26,\n",
       " 'Ophthalmology Unit': 23.53,\n",
       " 'Orthopedics Unit': 31.99,\n",
       " 'Outpatient': 24.14,\n",
       " 'Pediatrics Unit': 25.84,\n",
       " 'Radiology Unit': 31.58,\n",
       " 'Rehabilitation Unit': 23.87,\n",
       " 'Respiratory Unit': 18.84,\n",
       " 'Unknown': 30.55,\n",
       " 'Urology Unit': 30.26}"
      ]
     },
     "execution_count": 34,
     "metadata": {},
     "output_type": "execute_result"
    }
   ],
   "source": [
    "negative_dict"
   ]
  },
  {
   "cell_type": "code",
   "execution_count": 35,
   "metadata": {},
   "outputs": [
    {
     "data": {
      "text/plain": [
       "dict_keys(['Cardiology Unit', 'Coronary Care Unit (CCU) / Cardiac Intensive Care Unit (CICU)', 'Day Surgery Unit', 'Dentistry', 'Dialysis (Renal) Unit', 'Emergency Department / Accident and Emergency (A&E) / Casualty Department', 'Gynecology Unit', 'Inpatient Ward', 'Medicine Unit', 'Mental Health', 'Neurology Unit', 'Obstetrics Unit', 'Oncology / Cancer Center', 'Ophthalmology Unit', 'Orthopedics Unit', 'Outpatient', 'Pediatrics Unit', 'Radiology Unit', 'Rehabilitation Unit', 'Respiratory Unit', 'Unknown', 'Urology Unit'])"
      ]
     },
     "execution_count": 35,
     "metadata": {},
     "output_type": "execute_result"
    }
   ],
   "source": [
    "negative_dict.keys()"
   ]
  },
  {
   "cell_type": "code",
   "execution_count": 36,
   "metadata": {},
   "outputs": [
    {
     "data": {
      "text/plain": [
       "dict_values([24.29, 17.57, 18.46, 31.25, 15.38, 32.88, 14.55, 26.47, 32.14, 42.79, 31.82, 23.42, 23.26, 23.53, 31.99, 24.14, 25.84, 31.58, 23.87, 18.84, 30.55, 30.26])"
      ]
     },
     "execution_count": 36,
     "metadata": {},
     "output_type": "execute_result"
    }
   ],
   "source": [
    "negative_dict.values()"
   ]
  },
  {
   "cell_type": "code",
   "execution_count": 37,
   "metadata": {},
   "outputs": [
    {
     "data": {
      "text/plain": [
       "{'Cardiology Unit': 54.08,\n",
       " 'Coronary Care Unit (CCU) / Cardiac Intensive Care Unit (CICU)': 63.51,\n",
       " 'Day Surgery Unit': 65.52,\n",
       " 'Dentistry': 55.0,\n",
       " 'Dialysis (Renal) Unit': 66.15,\n",
       " 'Emergency Department / Accident and Emergency (A&E) / Casualty Department': 42.34,\n",
       " 'Gynecology Unit': 47.27,\n",
       " 'Inpatient Ward': 49.29,\n",
       " 'Medicine Unit': 43.72,\n",
       " 'Mental Health': 42.36,\n",
       " 'Neurology Unit': 46.36,\n",
       " 'Obstetrics Unit': 48.81,\n",
       " 'Oncology / Cancer Center': 56.07,\n",
       " 'Ophthalmology Unit': 59.22,\n",
       " 'Orthopedics Unit': 46.11,\n",
       " 'Outpatient': 54.18,\n",
       " 'Pediatrics Unit': 47.69,\n",
       " 'Radiology Unit': 47.37,\n",
       " 'Rehabilitation Unit': 54.41,\n",
       " 'Respiratory Unit': 57.97,\n",
       " 'Unknown': 46.86,\n",
       " 'Urology Unit': 49.23}"
      ]
     },
     "execution_count": 37,
     "metadata": {},
     "output_type": "execute_result"
    }
   ],
   "source": [
    "positive_dict"
   ]
  },
  {
   "cell_type": "code",
   "execution_count": 38,
   "metadata": {},
   "outputs": [
    {
     "data": {
      "text/plain": [
       "dict_keys(['Cardiology Unit', 'Coronary Care Unit (CCU) / Cardiac Intensive Care Unit (CICU)', 'Day Surgery Unit', 'Dentistry', 'Dialysis (Renal) Unit', 'Emergency Department / Accident and Emergency (A&E) / Casualty Department', 'Gynecology Unit', 'Inpatient Ward', 'Medicine Unit', 'Mental Health', 'Neurology Unit', 'Obstetrics Unit', 'Oncology / Cancer Center', 'Ophthalmology Unit', 'Orthopedics Unit', 'Outpatient', 'Pediatrics Unit', 'Radiology Unit', 'Rehabilitation Unit', 'Respiratory Unit', 'Unknown', 'Urology Unit'])"
      ]
     },
     "execution_count": 38,
     "metadata": {},
     "output_type": "execute_result"
    }
   ],
   "source": [
    "positive_dict.keys()"
   ]
  },
  {
   "cell_type": "code",
   "execution_count": 39,
   "metadata": {},
   "outputs": [
    {
     "data": {
      "text/plain": [
       "dict_values([54.08, 63.51, 65.52, 55.0, 66.15, 42.34, 47.27, 49.29, 43.72, 42.36, 46.36, 48.81, 56.07, 59.22, 46.11, 54.18, 47.69, 47.37, 54.41, 57.97, 46.86, 49.23])"
      ]
     },
     "execution_count": 39,
     "metadata": {},
     "output_type": "execute_result"
    }
   ],
   "source": [
    "positive_dict.values()"
   ]
  },
  {
   "cell_type": "code",
   "execution_count": 40,
   "metadata": {},
   "outputs": [],
   "source": [
    "negative_dict, positive_dict, neutral_dict, posneg_dict = getUnitDict(False)"
   ]
  },
  {
   "cell_type": "code",
   "execution_count": 41,
   "metadata": {},
   "outputs": [
    {
     "data": {
      "text/plain": [
       "{'Cardiology Unit': 29.04,\n",
       " 'Coronary Care Unit (CCU) / Cardiac Intensive Care Unit (CICU)': 20.0,\n",
       " 'Day Surgery Unit': 27.42,\n",
       " 'Dentistry': 20.57,\n",
       " 'Dialysis (Renal) Unit': 19.05,\n",
       " 'Emergency Department / Accident and Emergency (A&E) / Casualty Department': 39.5,\n",
       " 'Gynecology Unit': 24.64,\n",
       " 'Inpatient Ward': 32.45,\n",
       " 'Medicine Unit': 40.99,\n",
       " 'Mental Health': 42.86,\n",
       " 'Neurology Unit': 33.23,\n",
       " 'Obstetrics Unit': 28.34,\n",
       " 'Oncology / Cancer Center': 34.34,\n",
       " 'Ophthalmology Unit': 30.95,\n",
       " 'Orthopedics Unit': 36.37,\n",
       " 'Outpatient': 27.65,\n",
       " 'Pediatrics Unit': 32.36,\n",
       " 'Radiology Unit': 26.35,\n",
       " 'Rehabilitation Unit': 33.99,\n",
       " 'Respiratory Unit': 28.15,\n",
       " 'Unknown': 35.14,\n",
       " 'Urology Unit': 32.16}"
      ]
     },
     "execution_count": 41,
     "metadata": {},
     "output_type": "execute_result"
    }
   ],
   "source": [
    "negative_dict"
   ]
  },
  {
   "cell_type": "code",
   "execution_count": 42,
   "metadata": {},
   "outputs": [
    {
     "data": {
      "text/plain": [
       "{'Burn Unit / Burn Center': 87.5,\n",
       " 'Cardiology Unit': 50.16,\n",
       " 'Coronary Care Unit (CCU) / Cardiac Intensive Care Unit (CICU)': 62.73,\n",
       " 'Day Surgery Unit': 55.18,\n",
       " 'Dentistry': 63.12,\n",
       " 'Dialysis (Renal) Unit': 47.62,\n",
       " 'Emergency Department / Accident and Emergency (A&E) / Casualty Department': 35.97,\n",
       " 'Gynecology Unit': 47.83,\n",
       " 'Inpatient Ward': 43.65,\n",
       " 'Medicine Unit': 37.12,\n",
       " 'Mental Health': 34.49,\n",
       " 'Neurology Unit': 41.09,\n",
       " 'Obstetrics Unit': 38.83,\n",
       " 'Oncology / Cancer Center': 41.06,\n",
       " 'Ophthalmology Unit': 47.92,\n",
       " 'Orthopedics Unit': 42.13,\n",
       " 'Outpatient': 53.86,\n",
       " 'Pediatrics Unit': 42.24,\n",
       " 'Radiology Unit': 47.3,\n",
       " 'Rehabilitation Unit': 45.07,\n",
       " 'Respiratory Unit': 47.41,\n",
       " 'Unknown': 40.99,\n",
       " 'Urology Unit': 49.12}"
      ]
     },
     "execution_count": 42,
     "metadata": {},
     "output_type": "execute_result"
    }
   ],
   "source": [
    "positive_dict"
   ]
  },
  {
   "cell_type": "code",
   "execution_count": 43,
   "metadata": {},
   "outputs": [
    {
     "data": {
      "text/plain": [
       "dict_keys(['Cardiology Unit', 'Coronary Care Unit (CCU) / Cardiac Intensive Care Unit (CICU)', 'Day Surgery Unit', 'Dentistry', 'Dialysis (Renal) Unit', 'Emergency Department / Accident and Emergency (A&E) / Casualty Department', 'Gynecology Unit', 'Inpatient Ward', 'Medicine Unit', 'Mental Health', 'Neurology Unit', 'Obstetrics Unit', 'Oncology / Cancer Center', 'Ophthalmology Unit', 'Orthopedics Unit', 'Outpatient', 'Pediatrics Unit', 'Radiology Unit', 'Rehabilitation Unit', 'Respiratory Unit', 'Unknown', 'Urology Unit'])"
      ]
     },
     "execution_count": 43,
     "metadata": {},
     "output_type": "execute_result"
    }
   ],
   "source": [
    "negative_dict.keys()"
   ]
  },
  {
   "cell_type": "code",
   "execution_count": 44,
   "metadata": {},
   "outputs": [
    {
     "data": {
      "text/plain": [
       "dict_values([29.04, 20.0, 27.42, 20.57, 19.05, 39.5, 24.64, 32.45, 40.99, 42.86, 33.23, 28.34, 34.34, 30.95, 36.37, 27.65, 32.36, 26.35, 33.99, 28.15, 35.14, 32.16])"
      ]
     },
     "execution_count": 44,
     "metadata": {},
     "output_type": "execute_result"
    }
   ],
   "source": [
    "negative_dict.values()"
   ]
  },
  {
   "cell_type": "code",
   "execution_count": 45,
   "metadata": {},
   "outputs": [
    {
     "data": {
      "text/plain": [
       "dict_keys(['Burn Unit / Burn Center', 'Cardiology Unit', 'Coronary Care Unit (CCU) / Cardiac Intensive Care Unit (CICU)', 'Day Surgery Unit', 'Dentistry', 'Dialysis (Renal) Unit', 'Emergency Department / Accident and Emergency (A&E) / Casualty Department', 'Gynecology Unit', 'Inpatient Ward', 'Medicine Unit', 'Mental Health', 'Neurology Unit', 'Obstetrics Unit', 'Oncology / Cancer Center', 'Ophthalmology Unit', 'Orthopedics Unit', 'Outpatient', 'Pediatrics Unit', 'Radiology Unit', 'Rehabilitation Unit', 'Respiratory Unit', 'Unknown', 'Urology Unit'])"
      ]
     },
     "execution_count": 45,
     "metadata": {},
     "output_type": "execute_result"
    }
   ],
   "source": [
    "positive_dict.keys()"
   ]
  },
  {
   "cell_type": "code",
   "execution_count": 46,
   "metadata": {},
   "outputs": [
    {
     "data": {
      "text/plain": [
       "dict_values([87.5, 50.16, 62.73, 55.18, 63.12, 47.62, 35.97, 47.83, 43.65, 37.12, 34.49, 41.09, 38.83, 41.06, 47.92, 42.13, 53.86, 42.24, 47.3, 45.07, 47.41, 40.99, 49.12])"
      ]
     },
     "execution_count": 46,
     "metadata": {},
     "output_type": "execute_result"
    }
   ],
   "source": [
    "positive_dict.values()"
   ]
  },
  {
   "cell_type": "code",
   "execution_count": 125,
   "metadata": {},
   "outputs": [
    {
     "data": {
      "text/plain": [
       "array(['Almonte General Hospital', 'Bluewater',\n",
       "       'Brant Community Healthcare System', 'Campbellford',\n",
       "       \"Children's Hospital of Eastern Ontario\",\n",
       "       'Dryden Regional Health Centre Comments', 'Erie Shores',\n",
       "       'Georgian Bay', 'Grand River Hospital', 'Guelph General Hospital',\n",
       "       'Hamilton', 'Health Sciences North',\n",
       "       'Holland Bloorview Kids Rehabilitation Centre',\n",
       "       'Joseph Brant Hospital', 'London', 'Mackenzie Health',\n",
       "       'Markham Stouffville', 'Mount Sinai',\n",
       "       'Muskoka Algonquin Healthcare', 'Niagara',\n",
       "       'Norfolk General Hospital', 'North Bay Regional Health Centre',\n",
       "       'North York', 'Orillia', 'Ottawa Hospital', 'Pembroke',\n",
       "       'Peterborough Regional Health Centre',\n",
       "       'Quinte Health Care Corporation', 'Royal Victoria', 'Sault Area',\n",
       "       'Scarborough', 'SickKids Hospital', 'Southlake', 'St. Josephs',\n",
       "       \"St. Joseph's Healthcare Hamilton\", 'St. Michaels', 'Sunnybrook',\n",
       "       'Thunder Bay Regional', 'Trillium', 'University Health Network',\n",
       "       'Winchester', 'Windsor Regional', 'Woodstock General Hospital',\n",
       "       nan, 'Kingston', 'Michael Garron'], dtype=object)"
      ]
     },
     "execution_count": 125,
     "metadata": {},
     "output_type": "execute_result"
    }
   ],
   "source": [
    "df['Hospital'].unique()"
   ]
  },
  {
   "cell_type": "code",
   "execution_count": null,
   "metadata": {},
   "outputs": [
    {
     "data": {
      "text/plain": [
       "array([\"Children's Hospital of Eastern Ontario\", 'Grand River Hospital',\n",
       "       'Hamilton', 'Holland Bloorview Kids Rehabilitation Centre',\n",
       "       'London', 'Mackenzie Health', 'Markham Stouffville', 'Mount Sinai',\n",
       "       'North York', 'Ottawa Hospital', 'Scarborough',\n",
       "       'SickKids Hospital', \"St. Joseph's Healthcare Hamilton\",\n",
       "       'Sunnybrook', 'University Health Network'], dtype=object)"
      ]
     },
     "execution_count": 2,
     "metadata": {},
     "output_type": "execute_result"
    }
   ],
   "source": [
    "\n",
    "hospital_names = ['Sunnybrook', 'Scarborough', 'Holland Bloorview Kids Rehabilitation Centre', 'Holland Bloorview Kids Rehabilitation Centre', 'SickKids Hospital', 'Mount Sinai', 'University Health Network', 'North York', 'Mackenzie Health', 'Mackenzie Health', 'Markham Stouffville', \"Children's Hospital of Eastern Ontario\", 'Ottawa Hospital', 'Hamilton', \"St. Joseph's Healthcare Hamilton\", 'London', 'Grand River Hospital']\n",
    "filtered_df2 = df[df['Hospital'].isin(hospital_names)]\n",
    "filtered_df2['Hospital'].unique()\n",
    "#minority\n"
   ]
  },
  {
   "cell_type": "code",
   "execution_count": 8,
   "metadata": {},
   "outputs": [
    {
     "data": {
      "text/plain": [
       "array(['Almonte General Hospital', 'Bluewater',\n",
       "       'Brant Community Healthcare System', 'Campbellford',\n",
       "       'Dryden Regional Health Centre Comments', 'Erie Shores',\n",
       "       'Georgian Bay', 'Guelph General Hospital', 'Health Sciences North',\n",
       "       'Joseph Brant Hospital', 'Muskoka Algonquin Healthcare', 'Niagara',\n",
       "       'Norfolk General Hospital', 'North Bay Regional Health Centre',\n",
       "       'Orillia', 'Pembroke', 'Peterborough Regional Health Centre',\n",
       "       'Quinte Health Care Corporation', 'Royal Victoria', 'Sault Area',\n",
       "       'Southlake', 'St. Josephs', 'St. Michaels', 'Thunder Bay Regional',\n",
       "       'Trillium', 'Winchester', 'Windsor Regional',\n",
       "       'Woodstock General Hospital', 'Kingston', 'Michael Garron'],\n",
       "      dtype=object)"
      ]
     },
     "execution_count": 8,
     "metadata": {},
     "output_type": "execute_result"
    }
   ],
   "source": [
    "\n",
    "hospital_names = ['Sunnybrook', 'Scarborough', 'Holland Bloorview Kids Rehabilitation Centre', 'Holland Bloorview Kids Rehabilitation Centre', 'SickKids Hospital', 'Mount Sinai', 'University Health Network', 'North York', 'Mackenzie Health', 'Mackenzie Health', 'Markham Stouffville', \"Children's Hospital of Eastern Ontario\", 'Ottawa Hospital', 'Hamilton', \"St. Joseph's Healthcare Hamilton\", 'London', 'Grand River Hospital']\n",
    "filtered_df2 = df[~df['Hospital'].isin(hospital_names)]\n",
    "filtered_df2['Hospital'].unique()\n",
    "\n"
   ]
  },
  {
   "cell_type": "code",
   "execution_count": null,
   "metadata": {},
   "outputs": [
    {
     "data": {
      "text/plain": [
       "array([\"Children's Hospital of Eastern Ontario\", 'Grand River Hospital',\n",
       "       'Hamilton', 'London', 'Markham Stouffville', 'Mount Sinai',\n",
       "       'North York', 'Ottawa Hospital', 'SickKids Hospital',\n",
       "       'St. Michaels', 'University Health Network', 'Windsor Regional',\n",
       "       'Kingston'], dtype=object)"
      ]
     },
     "execution_count": 14,
     "metadata": {},
     "output_type": "execute_result"
    }
   ],
   "source": [
    "hospital_names = ['Windsor Regional', 'Kingston', 'St. Michaels', 'SickKids Hospital', 'Mount Sinai', 'University Health Network', 'North York', 'Markham Stouffville', \"Children's Hospital of Eastern Ontario\", 'Ottawa Hospital', 'Hamilton', 'London', 'Grand River Hospital']\n",
    "filtered_df3 = df[df['Hospital'].isin(hospital_names)]\n",
    "filtered_df3['Hospital'].unique()\n",
    "#low income"
   ]
  },
  {
   "cell_type": "code",
   "execution_count": 20,
   "metadata": {},
   "outputs": [
    {
     "data": {
      "text/plain": [
       "array(['Almonte General Hospital', 'Bluewater',\n",
       "       'Brant Community Healthcare System', 'Campbellford',\n",
       "       'Dryden Regional Health Centre Comments', 'Erie Shores',\n",
       "       'Georgian Bay', 'Guelph General Hospital', 'Health Sciences North',\n",
       "       'Holland Bloorview Kids Rehabilitation Centre',\n",
       "       'Joseph Brant Hospital', 'Mackenzie Health',\n",
       "       'Muskoka Algonquin Healthcare', 'Niagara',\n",
       "       'Norfolk General Hospital', 'North Bay Regional Health Centre',\n",
       "       'Orillia', 'Pembroke', 'Peterborough Regional Health Centre',\n",
       "       'Quinte Health Care Corporation', 'Royal Victoria', 'Sault Area',\n",
       "       'Scarborough', 'Southlake', 'St. Josephs',\n",
       "       \"St. Joseph's Healthcare Hamilton\", 'Sunnybrook',\n",
       "       'Thunder Bay Regional', 'Trillium', 'Winchester',\n",
       "       'Woodstock General Hospital', 'Michael Garron'], dtype=object)"
      ]
     },
     "execution_count": 20,
     "metadata": {},
     "output_type": "execute_result"
    }
   ],
   "source": [
    "hospital_names = ['Windsor Regional', 'Kingston', 'St. Michaels', 'SickKids Hospital', 'Mount Sinai', 'University Health Network', 'North York', 'Markham Stouffville', \"Children's Hospital of Eastern Ontario\", 'Ottawa Hospital', 'Hamilton', 'London', 'Grand River Hospital']\n",
    "filtered_df3 = df[~df['Hospital'].isin(hospital_names)]\n",
    "filtered_df3['Hospital'].unique()"
   ]
  },
  {
   "cell_type": "code",
   "execution_count": 88,
   "metadata": {},
   "outputs": [
    {
     "data": {
      "text/plain": [
       "array(['St. Josephs'], dtype=object)"
      ]
     },
     "execution_count": 88,
     "metadata": {},
     "output_type": "execute_result"
    }
   ],
   "source": [
    "\n",
    "hospital_names = ['St. Josephs']\n",
    "filtered_df2 = df[df['Hospital'].isin(hospital_names)]\n",
    "filtered_df2['Hospital'].unique()\n",
    "\n"
   ]
  },
  {
   "cell_type": "code",
   "execution_count": null,
   "metadata": {},
   "outputs": [],
   "source": [
    "St. Josephs, Michael Garron"
   ]
  },
  {
   "cell_type": "code",
   "execution_count": 21,
   "metadata": {},
   "outputs": [],
   "source": [
    "def getSentimentPercents():\n",
    "    positive = {}\n",
    "    negative = {}\n",
    "    neutral = {}\n",
    "    posneg = {}\n",
    "    total = {}\n",
    "\n",
    "    for index, row in filtered_df3.iterrows():\n",
    "        year = row[\"Year\"]\n",
    "\n",
    "        if year not in total:\n",
    "            total[year] = 1\n",
    "        else:\n",
    "            total[year] += 1\n",
    "\n",
    "        if row['ProcessedValence'] == \"Positive\":\n",
    "            if year not in positive:\n",
    "                positive[year] = 1\n",
    "            else:\n",
    "                positive[year] += 1\n",
    "        elif row['ProcessedValence'] == \"Negative\":\n",
    "            if year not in negative:\n",
    "                negative[year] = 1\n",
    "            else:\n",
    "                negative[year] += 1\n",
    "        elif row['ProcessedValence'] == \"Neutral\":\n",
    "            if year not in neutral:\n",
    "                neutral[year] = 1\n",
    "            else:\n",
    "                neutral[year] += 1\n",
    "        else:\n",
    "            total[year] -= 1\n",
    "        \n",
    "    for year in positive.keys():\n",
    "         positive[year] = round((positive[year] / total[year]) * 100, 2)\n",
    "    \n",
    "    for year in negative.keys():\n",
    "         negative[year] = round((negative[year] / total[year]) * 100, 2)\n",
    "\n",
    "    for year in neutral.keys():\n",
    "         neutral[year] = round((neutral[year] / total[year]) * 100, 2)\n",
    "\n",
    "\n",
    "    return positive, negative, neutral"
   ]
  },
  {
   "cell_type": "code",
   "execution_count": 95,
   "metadata": {},
   "outputs": [],
   "source": [
    "def getSentimentPercents2():\n",
    "        positive = 0\n",
    "        negative = 0\n",
    "        neutral = 0\n",
    "        total = 0\n",
    "\n",
    "        for index, row in filtered_df2.iterrows():\n",
    "                if row['ProcessedValence'] == \"Positive\":\n",
    "                        positive += 1\n",
    "                elif row['ProcessedValence'] == \"Negative\":\n",
    "                        negative += 1\n",
    "                elif row['ProcessedValence'] == \"Neutral\":\n",
    "                        neutral+= 1\n",
    "                else:\n",
    "                        total -= 1\n",
    "                total += 1\n",
    "\n",
    "        \n",
    "        positive = round((positive / total) * 100, 2)\n",
    "\n",
    "        negative = round((negative / total) * 100, 2)\n",
    "\n",
    "        neutral = round((neutral / total) * 100, 2)\n",
    "\n",
    "\n",
    "        return positive, negative, neutral"
   ]
  },
  {
   "cell_type": "code",
   "execution_count": 22,
   "metadata": {},
   "outputs": [],
   "source": [
    "positive, negative, neutral = getSentimentPercents()"
   ]
  },
  {
   "cell_type": "code",
   "execution_count": 96,
   "metadata": {},
   "outputs": [
    {
     "name": "stdout",
     "output_type": "stream",
     "text": [
      "(47.24, 47.73, 5.04)\n"
     ]
    }
   ],
   "source": [
    "print(getSentimentPercents2())"
   ]
  },
  {
   "cell_type": "code",
   "execution_count": null,
   "metadata": {},
   "outputs": [
    {
     "data": {
      "text/plain": [
       "{2021: 56.12,\n",
       " 2022: 54.96,\n",
       " 2019: 54.12,\n",
       " 2018: 51.93,\n",
       " 2020: 59.93,\n",
       " 2017: 51.79,\n",
       " 2023: 57.33,\n",
       " 2016: 63.48}"
      ]
     },
     "execution_count": 5,
     "metadata": {},
     "output_type": "execute_result"
    }
   ],
   "source": [
    "positive #high visible minority"
   ]
  },
  {
   "cell_type": "code",
   "execution_count": null,
   "metadata": {},
   "outputs": [
    {
     "data": {
      "text/plain": [
       "{2021: 59.82,\n",
       " 2020: 58.32,\n",
       " 2017: 50.05,\n",
       " 2018: 51.06,\n",
       " 2019: 51.35,\n",
       " 2022: 57.99,\n",
       " 2015: 64.68,\n",
       " 2016: 59.06}"
      ]
     },
     "execution_count": 11,
     "metadata": {},
     "output_type": "execute_result"
    }
   ],
   "source": [
    "positive #low visible minority"
   ]
  },
  {
   "cell_type": "code",
   "execution_count": null,
   "metadata": {},
   "outputs": [
    {
     "data": {
      "text/plain": [
       "{2021: 56.71,\n",
       " 2022: 53.79,\n",
       " 2019: 55.15,\n",
       " 2018: 53.6,\n",
       " 2020: 59.35,\n",
       " 2017: 53.18,\n",
       " 2023: 57.33,\n",
       " 2016: 63.48}"
      ]
     },
     "execution_count": 17,
     "metadata": {},
     "output_type": "execute_result"
    }
   ],
   "source": [
    "positive #high low income"
   ]
  },
  {
   "cell_type": "code",
   "execution_count": null,
   "metadata": {},
   "outputs": [
    {
     "data": {
      "text/plain": [
       "{2021: 59.47,\n",
       " 2020: 58.54,\n",
       " 2017: 48.83,\n",
       " 2018: 49.97,\n",
       " 2019: 50.7,\n",
       " 2022: 58.42,\n",
       " 2015: 64.68,\n",
       " 2016: 59.06}"
      ]
     },
     "execution_count": 23,
     "metadata": {},
     "output_type": "execute_result"
    }
   ],
   "source": [
    "positive #low low income"
   ]
  },
  {
   "cell_type": "code",
   "execution_count": null,
   "metadata": {},
   "outputs": [
    {
     "data": {
      "text/plain": [
       "{2021: 39.52,\n",
       " 2022: 40.46,\n",
       " 2019: 41.77,\n",
       " 2018: 43.64,\n",
       " 2020: 35.04,\n",
       " 2017: 42.86,\n",
       " 2023: 40.31,\n",
       " 2016: 30.15}"
      ]
     },
     "execution_count": 6,
     "metadata": {},
     "output_type": "execute_result"
    }
   ],
   "source": [
    "negative #high visible minority"
   ]
  },
  {
   "cell_type": "code",
   "execution_count": null,
   "metadata": {},
   "outputs": [
    {
     "data": {
      "text/plain": [
       "{2019: 44.32,\n",
       " 2018: 44.01,\n",
       " 2021: 34.94,\n",
       " 2020: 36.22,\n",
       " 2017: 44.13,\n",
       " 2022: 38.73,\n",
       " 2015: 28.72,\n",
       " 2016: 35.57}"
      ]
     },
     "execution_count": 12,
     "metadata": {},
     "output_type": "execute_result"
    }
   ],
   "source": [
    "negative #low visible minority"
   ]
  },
  {
   "cell_type": "code",
   "execution_count": null,
   "metadata": {},
   "outputs": [
    {
     "data": {
      "text/plain": [
       "{2021: 38.61,\n",
       " 2022: 41.51,\n",
       " 2019: 40.41,\n",
       " 2018: 42.04,\n",
       " 2020: 35.52,\n",
       " 2017: 41.28,\n",
       " 2023: 40.31,\n",
       " 2016: 30.15}"
      ]
     },
     "execution_count": 18,
     "metadata": {},
     "output_type": "execute_result"
    }
   ],
   "source": [
    "negative #high low income"
   ]
  },
  {
   "cell_type": "code",
   "execution_count": null,
   "metadata": {},
   "outputs": [
    {
     "data": {
      "text/plain": [
       "{2019: 45.13,\n",
       " 2018: 45.0,\n",
       " 2021: 35.45,\n",
       " 2020: 36.04,\n",
       " 2017: 45.46,\n",
       " 2022: 38.34,\n",
       " 2015: 28.72,\n",
       " 2016: 35.57}"
      ]
     },
     "execution_count": 24,
     "metadata": {},
     "output_type": "execute_result"
    }
   ],
   "source": [
    "negative #low low income"
   ]
  },
  {
   "cell_type": "code",
   "execution_count": null,
   "metadata": {},
   "outputs": [
    {
     "data": {
      "text/plain": [
       "{2021: 4.36,\n",
       " 2022: 4.58,\n",
       " 2018: 4.43,\n",
       " 2019: 4.12,\n",
       " 2017: 5.35,\n",
       " 2020: 5.02,\n",
       " 2023: 2.36,\n",
       " 2016: 6.37}"
      ]
     },
     "execution_count": 7,
     "metadata": {},
     "output_type": "execute_result"
    }
   ],
   "source": [
    "neutral #high visible minority"
   ]
  },
  {
   "cell_type": "code",
   "execution_count": null,
   "metadata": {},
   "outputs": [
    {
     "data": {
      "text/plain": [
       "{2020: 5.46,\n",
       " 2017: 5.82,\n",
       " 2018: 4.94,\n",
       " 2021: 5.24,\n",
       " 2019: 4.33,\n",
       " 2022: 3.28,\n",
       " 2015: 6.6,\n",
       " 2016: 5.37}"
      ]
     },
     "execution_count": 13,
     "metadata": {},
     "output_type": "execute_result"
    }
   ],
   "source": [
    "neutral #low visible minority"
   ]
  },
  {
   "cell_type": "code",
   "execution_count": null,
   "metadata": {},
   "outputs": [
    {
     "data": {
      "text/plain": [
       "{2021: 4.68,\n",
       " 2022: 4.7,\n",
       " 2018: 4.36,\n",
       " 2019: 4.44,\n",
       " 2017: 5.54,\n",
       " 2020: 5.13,\n",
       " 2023: 2.36,\n",
       " 2016: 6.37}"
      ]
     },
     "execution_count": 19,
     "metadata": {},
     "output_type": "execute_result"
    }
   ],
   "source": [
    "neutral #high low income"
   ]
  },
  {
   "cell_type": "code",
   "execution_count": null,
   "metadata": {},
   "outputs": [
    {
     "data": {
      "text/plain": [
       "{2020: 5.43,\n",
       " 2017: 5.7,\n",
       " 2018: 5.03,\n",
       " 2021: 5.08,\n",
       " 2019: 4.17,\n",
       " 2022: 3.25,\n",
       " 2015: 6.6,\n",
       " 2016: 5.37}"
      ]
     },
     "execution_count": 25,
     "metadata": {},
     "output_type": "execute_result"
    }
   ],
   "source": [
    "neutral #low low income"
   ]
  },
  {
   "cell_type": "code",
   "execution_count": 124,
   "metadata": {},
   "outputs": [],
   "source": [
    "def getSentimentPercents(dataframe):\n",
    "    total_rows = len(dataframe)\n",
    "    value_counts = dataframe['RefinedValence'].value_counts()\n",
    "    percentages = {}\n",
    "    for valence, count in value_counts.items():\n",
    "        percentages[valence] = round((count / total_rows) * 100, 2)\n",
    "    \n",
    "    return percentages"
   ]
  },
  {
   "cell_type": "code",
   "execution_count": 126,
   "metadata": {},
   "outputs": [],
   "source": [
    "hospitals = {}\n",
    "\n",
    "unique_hospitals = df['Hospital'].unique()\n",
    "\n",
    "for hospital_name in unique_hospitals:\n",
    "    if str(hospital_name) != \"nan\":\n",
    "        percentages = getSentimentPercents(df[df['Hospital'] == hospital_name])\n",
    "        hospitals[hospital_name] = {'Percentages': percentages}\n"
   ]
  },
  {
   "cell_type": "code",
   "execution_count": 127,
   "metadata": {},
   "outputs": [
    {
     "data": {
      "text/plain": [
       "{'Almonte General Hospital': {'Percentages': {'Positive': 87.5,\n",
       "   'Negative': 12.5}},\n",
       " 'Bluewater': {'Percentages': {'Positive': 42.16,\n",
       "   'Negative': 36.33,\n",
       "   'Positive/Negative': 16.6,\n",
       "   'Neutral': 4.91}},\n",
       " 'Brant Community Healthcare System': {'Percentages': {'Positive': 39.49,\n",
       "   'Negative': 32.67,\n",
       "   'Positive/Negative': 22.93,\n",
       "   'Neutral': 4.91}},\n",
       " 'Campbellford': {'Percentages': {'Positive': 46.48,\n",
       "   'Negative': 32.6,\n",
       "   'Positive/Negative': 14.83,\n",
       "   'Neutral': 6.08}},\n",
       " \"Children's Hospital of Eastern Ontario\": {'Percentages': {'Positive': 43.94,\n",
       "   'Negative': 30.1,\n",
       "   'Positive/Negative': 18.34,\n",
       "   'Neutral': 7.61}},\n",
       " 'Dryden Regional Health Centre Comments': {'Percentages': {'Positive': 51.25,\n",
       "   'Negative': 27.64,\n",
       "   'Positive/Negative': 16.49,\n",
       "   'Neutral': 4.63}},\n",
       " 'Erie Shores': {'Percentages': {'Positive': 40.56,\n",
       "   'Negative': 36.01,\n",
       "   'Positive/Negative': 17.66,\n",
       "   'Neutral': 5.77}},\n",
       " 'Georgian Bay': {'Percentages': {'Positive': 41.76,\n",
       "   'Negative': 34.1,\n",
       "   'Positive/Negative': 19.54,\n",
       "   'Neutral': 4.6}},\n",
       " 'Grand River Hospital': {'Percentages': {'Positive': 39.6,\n",
       "   'Negative': 35.66,\n",
       "   'Positive/Negative': 22.97,\n",
       "   'Neutral': 1.77}},\n",
       " 'Guelph General Hospital': {'Percentages': {'Positive': 41.09,\n",
       "   'Positive/Negative': 29.46,\n",
       "   'Negative': 28.68,\n",
       "   'Neutral': 0.78}},\n",
       " 'Hamilton': {'Percentages': {'Positive': 38.74,\n",
       "   'Negative': 36.34,\n",
       "   'Positive/Negative': 20.6,\n",
       "   'Neutral': 4.31}},\n",
       " 'Health Sciences North': {'Percentages': {'Positive': 40.93,\n",
       "   'Negative': 38.0,\n",
       "   'Positive/Negative': 18.03,\n",
       "   'Neutral': 3.03}},\n",
       " 'Holland Bloorview Kids Rehabilitation Centre': {'Percentages': {'Positive': 61.72,\n",
       "   'Negative': 19.53,\n",
       "   'Positive/Negative': 13.28,\n",
       "   'Neutral': 5.47}},\n",
       " 'Joseph Brant Hospital': {'Percentages': {'Positive': 42.57,\n",
       "   'Negative': 32.32,\n",
       "   'Positive/Negative': 18.83,\n",
       "   'Neutral': 6.28}},\n",
       " 'London': {'Percentages': {'Positive': 44.06,\n",
       "   'Negative': 32.25,\n",
       "   'Positive/Negative': 19.6,\n",
       "   'Neutral': 4.08}},\n",
       " 'Mackenzie Health': {'Percentages': {'Positive': 36.28,\n",
       "   'Negative': 35.34,\n",
       "   'Positive/Negative': 27.18,\n",
       "   'Neutral': 1.2}},\n",
       " 'Markham Stouffville': {'Percentages': {'Positive': 46.21,\n",
       "   'Negative': 31.29,\n",
       "   'Positive/Negative': 19.44,\n",
       "   'Neutral': 3.07}},\n",
       " 'Mount Sinai': {'Percentages': {'Positive': 43.49,\n",
       "   'Negative': 30.58,\n",
       "   'Positive/Negative': 24.14,\n",
       "   'Neutral': 1.79}},\n",
       " 'Muskoka Algonquin Healthcare': {'Percentages': {'Positive': 48.48,\n",
       "   'Negative': 28.9,\n",
       "   'Positive/Negative': 15.82,\n",
       "   'Neutral': 6.79}},\n",
       " 'Niagara': {'Percentages': {'Negative': 44.97,\n",
       "   'Positive': 31.18,\n",
       "   'Positive/Negative': 19.5,\n",
       "   'Neutral': 4.35}},\n",
       " 'Norfolk General Hospital': {'Percentages': {'Negative': 38.84,\n",
       "   'Positive': 35.12,\n",
       "   'Positive/Negative': 21.13,\n",
       "   'Neutral': 4.91}},\n",
       " 'North Bay Regional Health Centre': {'Percentages': {'Positive': 42.47,\n",
       "   'Negative': 33.52,\n",
       "   'Positive/Negative': 20.59,\n",
       "   'Neutral': 3.41}},\n",
       " 'North York': {'Percentages': {'Positive': 41.25,\n",
       "   'Negative': 33.95,\n",
       "   'Positive/Negative': 21.56,\n",
       "   'Neutral': 3.24}},\n",
       " 'Orillia': {'Percentages': {'Positive': 43.65,\n",
       "   'Negative': 34.62,\n",
       "   'Positive/Negative': 17.61,\n",
       "   'Neutral': 4.11}},\n",
       " 'Ottawa Hospital': {'Percentages': {'Positive': 38.54,\n",
       "   'Negative': 34.88,\n",
       "   'Positive/Negative': 21.22,\n",
       "   'Neutral': 5.36}},\n",
       " 'Pembroke': {'Percentages': {'Positive': 46.7,\n",
       "   'Negative': 30.93,\n",
       "   'Positive/Negative': 18.58,\n",
       "   'Neutral': 3.79}},\n",
       " 'Peterborough Regional Health Centre': {'Percentages': {'Positive': 47.54,\n",
       "   'Negative': 29.96,\n",
       "   'Positive/Negative': 17.77,\n",
       "   'Neutral': 4.73}},\n",
       " 'Quinte Health Care Corporation': {'Percentages': {'Positive': 51.72,\n",
       "   'Negative': 28.38,\n",
       "   'Positive/Negative': 14.78,\n",
       "   'Neutral': 5.12}},\n",
       " 'Royal Victoria': {'Percentages': {'Positive': 44.55,\n",
       "   'Negative': 33.77,\n",
       "   'Positive/Negative': 18.97,\n",
       "   'Neutral': 2.71}},\n",
       " 'Sault Area': {'Percentages': {'Positive': 42.99,\n",
       "   'Negative': 34.61,\n",
       "   'Positive/Negative': 15.35,\n",
       "   'Neutral': 7.05}},\n",
       " 'Scarborough': {'Percentages': {'Positive': 40.43,\n",
       "   'Negative': 38.6,\n",
       "   'Positive/Negative': 17.18,\n",
       "   'Neutral': 3.79}},\n",
       " 'SickKids Hospital': {'Percentages': {'Positive': 50.68,\n",
       "   'Negative': 25.97,\n",
       "   'Positive/Negative': 19.51,\n",
       "   'Neutral': 3.84}},\n",
       " 'Southlake': {'Percentages': {'Positive': 50.36,\n",
       "   'Negative': 27.8,\n",
       "   'Positive/Negative': 17.94,\n",
       "   'Neutral': 3.89}},\n",
       " 'St. Josephs': {'Percentages': {'Negative': 34.49,\n",
       "   'Positive': 34.13,\n",
       "   'Positive/Negative': 27.74,\n",
       "   'Neutral': 3.64}},\n",
       " \"St. Joseph's Healthcare Hamilton\": {'Percentages': {'Positive': 42.29,\n",
       "   'Negative': 32.95,\n",
       "   'Positive/Negative': 21.33,\n",
       "   'Neutral': 3.44}},\n",
       " 'St. Michaels': {'Percentages': {'Positive': 46.44,\n",
       "   'Negative': 28.63,\n",
       "   'Positive/Negative': 21.15,\n",
       "   'Neutral': 3.78}},\n",
       " 'Sunnybrook': {'Percentages': {'Positive': 38.9,\n",
       "   'Negative': 33.44,\n",
       "   'Positive/Negative': 24.08,\n",
       "   'Neutral': 3.58}},\n",
       " 'Thunder Bay Regional': {'Percentages': {'Positive': 41.41,\n",
       "   'Negative': 35.14,\n",
       "   'Positive/Negative': 20.0,\n",
       "   'Neutral': 3.44}},\n",
       " 'Trillium': {'Percentages': {'Positive': 44.49,\n",
       "   'Negative': 32.37,\n",
       "   'Positive/Negative': 20.16,\n",
       "   'Neutral': 2.98}},\n",
       " 'University Health Network': {'Percentages': {'Positive': 49.81,\n",
       "   'Negative': 27.66,\n",
       "   'Positive/Negative': 18.36,\n",
       "   'Neutral': 4.16}},\n",
       " 'Winchester': {'Percentages': {'Positive': 56.22,\n",
       "   'Negative': 26.15,\n",
       "   'Positive/Negative': 14.27,\n",
       "   'Neutral': 3.36}},\n",
       " 'Windsor Regional': {'Percentages': {'Negative': 37.87,\n",
       "   'Positive': 34.95,\n",
       "   'Positive/Negative': 24.43,\n",
       "   'Neutral': 2.75}},\n",
       " 'Woodstock General Hospital': {'Percentages': {'Positive': 61.86,\n",
       "   'Negative': 21.49,\n",
       "   'Positive/Negative': 12.77,\n",
       "   'Neutral': 3.88}},\n",
       " 'Kingston': {'Percentages': {'Positive': 38.42,\n",
       "   'Negative': 37.7,\n",
       "   'Positive/Negative': 18.93,\n",
       "   'Neutral': 4.94}},\n",
       " 'Michael Garron': {'Percentages': {'Positive': 41.38,\n",
       "   'Negative': 33.93,\n",
       "   'Positive/Negative': 20.32,\n",
       "   'Neutral': 4.37}}}"
      ]
     },
     "execution_count": 127,
     "metadata": {},
     "output_type": "execute_result"
    }
   ],
   "source": [
    "hospitals"
   ]
  }
 ],
 "metadata": {
  "kernelspec": {
   "display_name": "base",
   "language": "python",
   "name": "python3"
  },
  "language_info": {
   "codemirror_mode": {
    "name": "ipython",
    "version": 3
   },
   "file_extension": ".py",
   "mimetype": "text/x-python",
   "name": "python",
   "nbconvert_exporter": "python",
   "pygments_lexer": "ipython3",
   "version": "3.9.7"
  }
 },
 "nbformat": 4,
 "nbformat_minor": 2
}
